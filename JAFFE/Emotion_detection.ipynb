{
 "cells": [
  {
   "cell_type": "code",
   "execution_count": 1,
   "metadata": {
    "colab": {
     "autoexec": {
      "startup": false,
      "wait_interval": 0
     }
    },
    "colab_type": "code",
    "id": "V95Uwl8F2u_S"
   },
   "outputs": [
    {
     "name": "stderr",
     "output_type": "stream",
     "text": [
      "Using TensorFlow backend.\n"
     ]
    }
   ],
   "source": [
    "import numpy as np\n",
    "import pandas as pd\n",
    "import matplotlib.pyplot as plt\n",
    "import keras"
   ]
  },
  {
   "cell_type": "markdown",
   "metadata": {
    "colab_type": "text",
    "id": "teiwDTpF6Eq8"
   },
   "source": [
    "# Training with CNN"
   ]
  },
  {
   "cell_type": "code",
   "execution_count": 2,
   "metadata": {
    "colab": {
     "autoexec": {
      "startup": false,
      "wait_interval": 0
     }
    },
    "colab_type": "code",
    "collapsed": true,
    "id": "ckDWqMjk4yBE"
   },
   "outputs": [],
   "source": [
    "from keras.datasets import mnist\n",
    "from keras.utils import to_categorical\n",
    "\n",
    "from keras import models\n",
    "from keras import layers\n",
    "\n",
    "from keras import losses, optimizers, metrics\n"
   ]
  },
  {
   "cell_type": "code",
   "execution_count": 3,
   "metadata": {
    "colab": {
     "autoexec": {
      "startup": false,
      "wait_interval": 0
     },
     "base_uri": "https://localhost:8080/",
     "height": 51,
     "output_extras": [
      {
       "item_id": 2
      }
     ]
    },
    "colab_type": "code",
    "executionInfo": {
     "elapsed": 2038,
     "status": "ok",
     "timestamp": 1518623283961,
     "user": {
      "displayName": "Shuvendu Bikash",
      "photoUrl": "//lh6.googleusercontent.com/-qmLdelcDhNY/AAAAAAAAAAI/AAAAAAAAOyw/0BejXT-_QPo/s50-c-k-no/photo.jpg",
      "userId": "106434026064423574094"
     },
     "user_tz": -360
    },
    "id": "4mp5FXso6yJv",
    "outputId": "6659d994-0eba-464b-d45a-f69d82ecd360"
   },
   "outputs": [
    {
     "name": "stdout",
     "output_type": "stream",
     "text": [
      "Found 147 images belonging to 7 classes.\n",
      "Found 66 images belonging to 7 classes.\n"
     ]
    }
   ],
   "source": [
    "from keras.preprocessing.image import ImageDataGenerator\n",
    "train_dir = '/media/shuvendu/Projects/Datasets/jaffe/train'\n",
    "test_dir ='/media/shuvendu/Projects/Datasets/jaffe/test'\n",
    "\n",
    "\n",
    "train_datagen = ImageDataGenerator(rescale=1./255)\n",
    "test_datagen = ImageDataGenerator(rescale=1./255)\n",
    "\n",
    "train_generator = train_datagen.flow_from_directory(\n",
    "    train_dir,\n",
    "    target_size = (224, 224),\n",
    "    batch_size=32\n",
    ")\n",
    "\n",
    "validation_generator = test_datagen.flow_from_directory(\n",
    "    test_dir,\n",
    "    target_size = (224, 224),\n",
    "    batch_size=32\n",
    ")"
   ]
  },
  {
   "cell_type": "code",
   "execution_count": 4,
   "metadata": {
    "colab": {
     "autoexec": {
      "startup": false,
      "wait_interval": 0
     },
     "base_uri": "https://localhost:8080/",
     "height": 408,
     "output_extras": [
      {
       "item_id": 1
      }
     ]
    },
    "colab_type": "code",
    "executionInfo": {
     "elapsed": 1064,
     "status": "ok",
     "timestamp": 1518622287177,
     "user": {
      "displayName": "Shuvendu Bikash",
      "photoUrl": "//lh6.googleusercontent.com/-qmLdelcDhNY/AAAAAAAAAAI/AAAAAAAAOyw/0BejXT-_QPo/s50-c-k-no/photo.jpg",
      "userId": "106434026064423574094"
     },
     "user_tz": -360
    },
    "id": "hbfMDbq26Gs3",
    "outputId": "3261ea97-1c67-4d80-acdd-7bc359614fb7"
   },
   "outputs": [
    {
     "name": "stdout",
     "output_type": "stream",
     "text": [
      "_________________________________________________________________\n",
      "Layer (type)                 Output Shape              Param #   \n",
      "=================================================================\n",
      "conv2d_1 (Conv2D)            (None, 222, 222, 32)      896       \n",
      "_________________________________________________________________\n",
      "max_pooling2d_1 (MaxPooling2 (None, 111, 111, 32)      0         \n",
      "_________________________________________________________________\n",
      "conv2d_2 (Conv2D)            (None, 109, 109, 64)      18496     \n",
      "_________________________________________________________________\n",
      "max_pooling2d_2 (MaxPooling2 (None, 54, 54, 64)        0         \n",
      "_________________________________________________________________\n",
      "conv2d_3 (Conv2D)            (None, 52, 52, 64)        36928     \n",
      "_________________________________________________________________\n",
      "flatten_1 (Flatten)          (None, 173056)            0         \n",
      "_________________________________________________________________\n",
      "dense_1 (Dense)              (None, 256)               44302592  \n",
      "_________________________________________________________________\n",
      "dense_2 (Dense)              (None, 7)                 1799      \n",
      "=================================================================\n",
      "Total params: 44,360,711\n",
      "Trainable params: 44,360,711\n",
      "Non-trainable params: 0\n",
      "_________________________________________________________________\n"
     ]
    }
   ],
   "source": [
    "model = models.Sequential()\n",
    "\n",
    "model.add(layers.Conv2D(32, (3, 3), activation='relu', input_shape=(224, 224, 3)))\n",
    "model.add(layers.MaxPool2D((2, 2)))\n",
    "model.add(layers.Conv2D(64, (3,3), activation='relu'))\n",
    "model.add(layers.MaxPool2D((2,2)))\n",
    "model.add(layers.Conv2D(64, (3,3), activation='relu'))\n",
    "\n",
    "model.add(layers.Flatten())\n",
    "model.add(layers.Dense(256, activation='relu'))\n",
    "model.add(layers.Dense(7, activation='softmax'))\n",
    "\n",
    "model.summary()"
   ]
  },
  {
   "cell_type": "code",
   "execution_count": 5,
   "metadata": {
    "colab": {
     "autoexec": {
      "startup": false,
      "wait_interval": 0
     },
     "base_uri": "https://localhost:8080/",
     "height": 1037,
     "output_extras": [
      {
       "item_id": 52
      },
      {
       "item_id": 104
      },
      {
       "item_id": 152
      },
      {
       "item_id": 195
      },
      {
       "item_id": 238
      },
      {
       "item_id": 286
      },
      {
       "item_id": 333
      },
      {
       "item_id": 366
      },
      {
       "item_id": 398
      },
      {
       "item_id": 442
      },
      {
       "item_id": 486
      },
      {
       "item_id": 528
      },
      {
       "item_id": 578
      },
      {
       "item_id": 613
      },
      {
       "item_id": 643
      }
     ]
    },
    "colab_type": "code",
    "executionInfo": {
     "elapsed": 458294,
     "status": "ok",
     "timestamp": 1518622751496,
     "user": {
      "displayName": "Shuvendu Bikash",
      "photoUrl": "//lh6.googleusercontent.com/-qmLdelcDhNY/AAAAAAAAAAI/AAAAAAAAOyw/0BejXT-_QPo/s50-c-k-no/photo.jpg",
      "userId": "106434026064423574094"
     },
     "user_tz": -360
    },
    "id": "T9gPtISE6kpg",
    "outputId": "c44a04fd-8422-424a-c244-42bd6f7d9c15"
   },
   "outputs": [
    {
     "name": "stdout",
     "output_type": "stream",
     "text": [
      "Epoch 1/30\n",
      "5/5 [==============================] - 2s - loss: 6.6980 - acc: 0.1185 - val_loss: 1.9282 - val_acc: 0.1875\n",
      "Epoch 2/30\n",
      "5/5 [==============================] - 0s - loss: 2.1961 - acc: 0.2152 - val_loss: 1.8995 - val_acc: 0.1471\n",
      "Epoch 3/30\n",
      "5/5 [==============================] - 0s - loss: 1.9518 - acc: 0.2897 - val_loss: 1.8315 - val_acc: 0.2059\n",
      "Epoch 4/30\n",
      "5/5 [==============================] - 0s - loss: 1.6911 - acc: 0.3674 - val_loss: 1.6671 - val_acc: 0.3529\n",
      "Epoch 5/30\n",
      "5/5 [==============================] - 0s - loss: 1.3433 - acc: 0.5910 - val_loss: 2.0934 - val_acc: 0.3235\n",
      "Epoch 6/30\n",
      "5/5 [==============================] - 0s - loss: 1.3919 - acc: 0.4562 - val_loss: 1.2918 - val_acc: 0.5882\n",
      "Epoch 7/30\n",
      "5/5 [==============================] - 0s - loss: 0.8643 - acc: 0.7341 - val_loss: 1.0701 - val_acc: 0.6176\n",
      "Epoch 8/30\n",
      "5/5 [==============================] - 0s - loss: 0.6623 - acc: 0.7884 - val_loss: 1.5284 - val_acc: 0.4412\n",
      "Epoch 9/30\n",
      "5/5 [==============================] - 0s - loss: 0.4362 - acc: 0.8759 - val_loss: 1.7271 - val_acc: 0.5294\n",
      "Epoch 10/30\n",
      "5/5 [==============================] - 0s - loss: 0.2211 - acc: 0.9457 - val_loss: 1.1721 - val_acc: 0.6176\n",
      "Epoch 11/30\n",
      "5/5 [==============================] - 0s - loss: 0.0690 - acc: 0.9873 - val_loss: 1.2704 - val_acc: 0.6765\n",
      "Epoch 12/30\n",
      "5/5 [==============================] - 0s - loss: 0.0551 - acc: 0.9873 - val_loss: 1.1880 - val_acc: 0.7647\n",
      "Epoch 13/30\n",
      "5/5 [==============================] - 0s - loss: 0.1412 - acc: 0.9520 - val_loss: 1.2888 - val_acc: 0.6765\n",
      "Epoch 14/30\n",
      "5/5 [==============================] - 0s - loss: 0.0216 - acc: 0.9937 - val_loss: 1.4706 - val_acc: 0.6765\n",
      "Epoch 15/30\n",
      "5/5 [==============================] - 0s - loss: 0.0272 - acc: 0.9937 - val_loss: 0.9426 - val_acc: 0.7353\n",
      "Epoch 16/30\n",
      "5/5 [==============================] - 0s - loss: 1.8008 - acc: 0.6873 - val_loss: 2.0517 - val_acc: 0.5000\n",
      "Epoch 17/30\n",
      "5/5 [==============================] - 0s - loss: 0.3301 - acc: 0.9049 - val_loss: 1.3018 - val_acc: 0.7059\n",
      "Epoch 18/30\n",
      "5/5 [==============================] - 0s - loss: 0.0450 - acc: 0.9873 - val_loss: 1.6511 - val_acc: 0.6471\n",
      "Epoch 19/30\n",
      "5/5 [==============================] - 0s - loss: 0.0094 - acc: 1.0000 - val_loss: 0.5646 - val_acc: 0.7941\n",
      "Epoch 20/30\n",
      "5/5 [==============================] - 0s - loss: 0.0028 - acc: 1.0000 - val_loss: 1.0053 - val_acc: 0.7353\n",
      "Epoch 21/30\n",
      "5/5 [==============================] - 0s - loss: 0.0019 - acc: 1.0000 - val_loss: 1.2374 - val_acc: 0.7353\n",
      "Epoch 22/30\n",
      "5/5 [==============================] - 0s - loss: 0.0011 - acc: 1.0000 - val_loss: 1.9673 - val_acc: 0.7059\n",
      "Epoch 23/30\n",
      "5/5 [==============================] - 0s - loss: 6.7643e-04 - acc: 1.0000 - val_loss: 1.7506 - val_acc: 0.6471\n",
      "Epoch 24/30\n",
      "5/5 [==============================] - 0s - loss: 5.6554e-04 - acc: 1.0000 - val_loss: 1.7007 - val_acc: 0.7059\n",
      "Epoch 25/30\n",
      "5/5 [==============================] - 0s - loss: 2.7445e-04 - acc: 1.0000 - val_loss: 1.5907 - val_acc: 0.7647\n",
      "Epoch 26/30\n",
      "5/5 [==============================] - 0s - loss: 1.4925e-04 - acc: 1.0000 - val_loss: 1.2712 - val_acc: 0.7353\n",
      "Epoch 27/30\n",
      "5/5 [==============================] - 0s - loss: 1.0561e-04 - acc: 1.0000 - val_loss: 0.6165 - val_acc: 0.7647\n",
      "Epoch 28/30\n",
      "5/5 [==============================] - 0s - loss: 7.0405e-05 - acc: 1.0000 - val_loss: 1.8957 - val_acc: 0.7059\n",
      "Epoch 29/30\n",
      "5/5 [==============================] - 0s - loss: 9.7163e-05 - acc: 1.0000 - val_loss: 1.1526 - val_acc: 0.7353\n",
      "Epoch 30/30\n",
      "5/5 [==============================] - 0s - loss: 4.2094e-05 - acc: 1.0000 - val_loss: 1.7636 - val_acc: 0.7059\n"
     ]
    }
   ],
   "source": [
    "model.compile(optimizer=optimizers.RMSprop(),\n",
    "              loss=losses.categorical_crossentropy,\n",
    "              metrics=['accuracy']\n",
    "             )\n",
    "\n",
    "history = model.fit_generator(\n",
    "    train_generator,\n",
    "    steps_per_epoch = 5,\n",
    "    epochs=30,\n",
    "    validation_data=validation_generator,\n",
    "    validation_steps=2\n",
    ")"
   ]
  },
  {
   "cell_type": "code",
   "execution_count": 6,
   "metadata": {
    "colab": {
     "autoexec": {
      "startup": false,
      "wait_interval": 0
     },
     "base_uri": "https://localhost:8080/",
     "height": 707,
     "output_extras": [
      {
       "item_id": 1
      },
      {
       "item_id": 2
      }
     ]
    },
    "colab_type": "code",
    "executionInfo": {
     "elapsed": 7818,
     "status": "ok",
     "timestamp": 1518622791106,
     "user": {
      "displayName": "Shuvendu Bikash",
      "photoUrl": "//lh6.googleusercontent.com/-qmLdelcDhNY/AAAAAAAAAAI/AAAAAAAAOyw/0BejXT-_QPo/s50-c-k-no/photo.jpg",
      "userId": "106434026064423574094"
     },
     "user_tz": -360
    },
    "id": "FNXaw7OW7QOn",
    "outputId": "a7d79d6d-7bac-419f-d5cf-62e3de7ccb13"
   },
   "outputs": [
    {
     "data": {
      "image/png": "[encoded data removed]",
      "text/plain": [
       "<matplotlib.figure.Figure at 0x7f98245d4128>"
      ]
     },
     "metadata": {},
     "output_type": "display_data"
    },
    {
     "data": {
      "image/png": "[encoded data removed]",
      "text/plain": [
       "<matplotlib.figure.Figure at 0x7f98244e85c0>"
      ]
     },
     "metadata": {},
     "output_type": "display_data"
    }
   ],
   "source": [
    "import matplotlib.pyplot as plt\n",
    "\n",
    "acc = history.history['acc']\n",
    "val_acc = history.history['val_acc']\n",
    "loss = history.history['loss']\n",
    "val_loss = history.history['val_loss']\n",
    "\n",
    "epochs = range(1, len(acc)+1)\n",
    "\n",
    "plt.plot(epochs, acc, 'bo', label='Training acc')\n",
    "plt.plot(epochs, val_acc, 'b', label='Validation acc')\n",
    "plt.title('Training and validation accuracy')\n",
    "plt.legend()\n",
    "\n",
    "plt.figure()\n",
    "plt.plot(epochs, loss, 'bo', label='Training losses')\n",
    "plt.plot(epochs, val_loss, 'b', label='Validation losses')\n",
    "plt.title('Training and validation loss')\n",
    "plt.legend()\n",
    "\n",
    "plt.show()"
   ]
  },
  {
   "cell_type": "markdown",
   "metadata": {
    "colab_type": "text",
    "id": "VyVSA5Nb-5tQ"
   },
   "source": [
    "## Try using pretrined model"
   ]
  },
  {
   "cell_type": "code",
   "execution_count": 7,
   "metadata": {
    "colab": {
     "autoexec": {
      "startup": false,
      "wait_interval": 0
     },
     "base_uri": "https://localhost:8080/",
     "height": 51,
     "output_extras": [
      {
       "item_id": 2
      }
     ]
    },
    "colab_type": "code",
    "collapsed": true,
    "executionInfo": {
     "elapsed": 2835,
     "status": "ok",
     "timestamp": 1518622992285,
     "user": {
      "displayName": "Shuvendu Bikash",
      "photoUrl": "//lh6.googleusercontent.com/-qmLdelcDhNY/AAAAAAAAAAI/AAAAAAAAOyw/0BejXT-_QPo/s50-c-k-no/photo.jpg",
      "userId": "106434026064423574094"
     },
     "user_tz": -360
    },
    "id": "tVtbN_6L-LbB",
    "outputId": "169402bb-4993-42ed-98b2-5c03f9f873d5"
   },
   "outputs": [],
   "source": [
    "from keras.applications import VGG16\n",
    "\n",
    "conv_base = VGG16(weights='imagenet',\n",
    "                 include_top=False,\n",
    "                 input_shape=(224, 224, 3))"
   ]
  },
  {
   "cell_type": "code",
   "execution_count": 8,
   "metadata": {
    "colab": {
     "autoexec": {
      "startup": false,
      "wait_interval": 0
     },
     "base_uri": "https://localhost:8080/",
     "height": 272,
     "output_extras": [
      {
       "item_id": 1
      }
     ]
    },
    "colab_type": "code",
    "executionInfo": {
     "elapsed": 1319,
     "status": "ok",
     "timestamp": 1518623116608,
     "user": {
      "displayName": "Shuvendu Bikash",
      "photoUrl": "//lh6.googleusercontent.com/-qmLdelcDhNY/AAAAAAAAAAI/AAAAAAAAOyw/0BejXT-_QPo/s50-c-k-no/photo.jpg",
      "userId": "106434026064423574094"
     },
     "user_tz": -360
    },
    "id": "_skOPxk9-9v2",
    "outputId": "9ce900f6-291e-4ca3-8ef1-56d098e2311d"
   },
   "outputs": [
    {
     "name": "stdout",
     "output_type": "stream",
     "text": [
      "_________________________________________________________________\n",
      "Layer (type)                 Output Shape              Param #   \n",
      "=================================================================\n",
      "vgg16 (Model)                (None, 7, 7, 512)         14714688  \n",
      "_________________________________________________________________\n",
      "flatten_2 (Flatten)          (None, 25088)             0         \n",
      "_________________________________________________________________\n",
      "dense_3 (Dense)              (None, 512)               12845568  \n",
      "_________________________________________________________________\n",
      "dense_4 (Dense)              (None, 7)                 3591      \n",
      "=================================================================\n",
      "Total params: 27,563,847\n",
      "Trainable params: 27,563,847\n",
      "Non-trainable params: 0\n",
      "_________________________________________________________________\n"
     ]
    }
   ],
   "source": [
    "model = models.Sequential()\n",
    "\n",
    "model.add(conv_base)\n",
    "model.add(layers.Flatten())\n",
    "model.add(layers.Dense(512, activation='relu'))\n",
    "model.add(layers.Dense(7, activation='softmax'))\n",
    "model.summary()"
   ]
  },
  {
   "cell_type": "code",
   "execution_count": 9,
   "metadata": {
    "colab": {
     "autoexec": {
      "startup": false,
      "wait_interval": 0
     },
     "base_uri": "https://localhost:8080/",
     "height": 326,
     "output_extras": [
      {
       "item_id": 57
      },
      {
       "item_id": 102
      },
      {
       "item_id": 146
      },
      {
       "item_id": 185
      },
      {
       "item_id": 223
      },
      {
       "item_id": 264
      },
      {
       "item_id": 312
      },
      {
       "item_id": 340
      },
      {
       "item_id": 350
      }
     ]
    },
    "colab_type": "code",
    "executionInfo": {
     "elapsed": 281971,
     "status": "ok",
     "timestamp": 1518623773926,
     "user": {
      "displayName": "Shuvendu Bikash",
      "photoUrl": "//lh6.googleusercontent.com/-qmLdelcDhNY/AAAAAAAAAAI/AAAAAAAAOyw/0BejXT-_QPo/s50-c-k-no/photo.jpg",
      "userId": "106434026064423574094"
     },
     "user_tz": -360
    },
    "id": "clg09hoI_ce1",
    "outputId": "d09f4d91-5834-43c8-d48e-f6b24c890f80"
   },
   "outputs": [
    {
     "name": "stdout",
     "output_type": "stream",
     "text": [
      "This is the number of trainable weights before freezing the conv base: 4\n",
      "Epoch 1/5\n",
      "5/5 [==============================] - 10s - loss: 1.9943 - categorical_accuracy: 0.1855 - val_loss: 1.9289 - val_categorical_accuracy: 0.1176\n",
      "Epoch 2/5\n",
      "5/5 [==============================] - 3s - loss: 1.8950 - categorical_accuracy: 0.1883 - val_loss: 1.7710 - val_categorical_accuracy: 0.4412\n",
      "Epoch 3/5\n",
      "5/5 [==============================] - 3s - loss: 1.6625 - categorical_accuracy: 0.4415 - val_loss: 1.5457 - val_categorical_accuracy: 0.4706\n",
      "Epoch 4/5\n",
      "5/5 [==============================] - 3s - loss: 1.5374 - categorical_accuracy: 0.4189 - val_loss: 1.4323 - val_categorical_accuracy: 0.5000\n",
      "Epoch 5/5\n",
      "5/5 [==============================] - 3s - loss: 1.1981 - categorical_accuracy: 0.6163 - val_loss: 1.3419 - val_categorical_accuracy: 0.4412\n"
     ]
    }
   ],
   "source": [
    "conv_base.trainable = False\n",
    "print('This is the number of trainable weights before freezing the conv base:', len(model.trainable_weights))\n",
    "\n",
    "model.compile(\n",
    "    optimizer=optimizers.Adam(lr=5e-5), \n",
    "    loss=losses.categorical_crossentropy, \n",
    "    metrics=[metrics.categorical_accuracy]\n",
    ")\n",
    "\n",
    "history = model.fit_generator(train_generator, \n",
    "                              steps_per_epoch=5, \n",
    "                              epochs=5, \n",
    "                              validation_data=validation_generator, \n",
    "                              validation_steps=2)"
   ]
  },
  {
   "cell_type": "code",
   "execution_count": 10,
   "metadata": {
    "colab": {
     "autoexec": {
      "startup": false,
      "wait_interval": 0
     }
    },
    "colab_type": "code",
    "collapsed": true,
    "id": "Atle6EGR_o-T"
   },
   "outputs": [],
   "source": [
    "conv_base = model.layers[0]\n",
    "\n",
    "conv_base.trainable = True\n",
    "set_trainable = False\n",
    "for layer in conv_base.layers:\n",
    "    if layer.name == 'block5_conv1':\n",
    "        set_trainable = True\n",
    "    if set_trainable:\n",
    "        layer.trainable = True\n",
    "    else:\n",
    "        layer.trainable = False"
   ]
  },
  {
   "cell_type": "code",
   "execution_count": 11,
   "metadata": {
    "colab": {
     "autoexec": {
      "startup": false,
      "wait_interval": 0
     },
     "base_uri": "https://localhost:8080/",
     "height": 955,
     "output_extras": [
      {
       "item_id": 54
      },
      {
       "item_id": 114
      },
      {
       "item_id": 174
      },
      {
       "item_id": 243
      },
      {
       "item_id": 298
      },
      {
       "item_id": 363
      },
      {
       "item_id": 430
      },
      {
       "item_id": 470
      },
      {
       "item_id": 520
      },
      {
       "item_id": 560
      },
      {
       "item_id": 596
      },
      {
       "item_id": 640
      },
      {
       "item_id": 683
      },
      {
       "item_id": 736
      },
      {
       "item_id": 796
      },
      {
       "item_id": 859
      },
      {
       "item_id": 914
      },
      {
       "item_id": 976
      },
      {
       "item_id": 1034
      },
      {
       "item_id": 1098
      },
      {
       "item_id": 1155
      },
      {
       "item_id": 1222
      },
      {
       "item_id": 1284
      },
      {
       "item_id": 1353
      },
      {
       "item_id": 1425
      },
      {
       "item_id": 1485
      },
      {
       "item_id": 1510
      }
     ]
    },
    "colab_type": "code",
    "id": "gpT0IIyLAWpR",
    "outputId": "5cbf1a75-da29-4d65-b4ba-5f33fc625ceb"
   },
   "outputs": [
    {
     "name": "stdout",
     "output_type": "stream",
     "text": [
      "Epoch 1/15\n",
      "5/5 [==============================] - 2s - loss: 0.9619 - categorical_accuracy: 0.6714 - val_loss: 1.2671 - val_categorical_accuracy: 0.5000\n",
      "Epoch 2/15\n",
      "5/5 [==============================] - 1s - loss: 0.7384 - categorical_accuracy: 0.7531 - val_loss: 0.7313 - val_categorical_accuracy: 0.7647\n",
      "Epoch 3/15\n",
      "5/5 [==============================] - 1s - loss: 0.4498 - categorical_accuracy: 0.9140 - val_loss: 0.5204 - val_categorical_accuracy: 0.8235\n",
      "Epoch 4/15\n",
      "5/5 [==============================] - 1s - loss: 0.3027 - categorical_accuracy: 0.9231 - val_loss: 0.3552 - val_categorical_accuracy: 0.8824\n",
      "Epoch 5/15\n",
      "5/5 [==============================] - 1s - loss: 0.2079 - categorical_accuracy: 0.9683 - val_loss: 0.4555 - val_categorical_accuracy: 0.7941\n",
      "Epoch 6/15\n",
      "5/5 [==============================] - 1s - loss: 0.1772 - categorical_accuracy: 0.9711 - val_loss: 0.6911 - val_categorical_accuracy: 0.7647\n",
      "Epoch 7/15\n",
      "5/5 [==============================] - 1s - loss: 0.1049 - categorical_accuracy: 0.9873 - val_loss: 0.2330 - val_categorical_accuracy: 0.9706\n",
      "Epoch 8/15\n",
      "5/5 [==============================] - 1s - loss: 0.0955 - categorical_accuracy: 0.9873 - val_loss: 0.2222 - val_categorical_accuracy: 0.9412\n",
      "Epoch 9/15\n",
      "5/5 [==============================] - 1s - loss: 0.0570 - categorical_accuracy: 0.9937 - val_loss: 0.4423 - val_categorical_accuracy: 0.9219\n",
      "Epoch 10/15\n",
      "5/5 [==============================] - 1s - loss: 0.0328 - categorical_accuracy: 1.0000 - val_loss: 0.4148 - val_categorical_accuracy: 0.8750\n",
      "Epoch 11/15\n",
      "5/5 [==============================] - 1s - loss: 0.0224 - categorical_accuracy: 1.0000 - val_loss: 0.4425 - val_categorical_accuracy: 0.9219\n",
      "Epoch 12/15\n",
      "5/5 [==============================] - 1s - loss: 0.0136 - categorical_accuracy: 1.0000 - val_loss: 0.4725 - val_categorical_accuracy: 0.9219\n",
      "Epoch 13/15\n",
      "5/5 [==============================] - 1s - loss: 0.0080 - categorical_accuracy: 1.0000 - val_loss: 0.4262 - val_categorical_accuracy: 0.9062\n",
      "Epoch 14/15\n",
      "5/5 [==============================] - 1s - loss: 0.0082 - categorical_accuracy: 1.0000 - val_loss: 0.4199 - val_categorical_accuracy: 0.8906\n",
      "Epoch 15/15\n",
      "5/5 [==============================] - 1s - loss: 0.0043 - categorical_accuracy: 1.0000 - val_loss: 0.4390 - val_categorical_accuracy: 0.8906\n"
     ]
    }
   ],
   "source": [
    "model.compile(\n",
    "    optimizer=optimizers.Adam(lr=5e-5), \n",
    "    loss=losses.categorical_crossentropy, \n",
    "    metrics=[metrics.categorical_accuracy]\n",
    ")\n",
    "\n",
    "history = model.fit_generator(train_generator, \n",
    "                              steps_per_epoch=5, \n",
    "                              epochs=15, \n",
    "                              validation_data=validation_generator, \n",
    "                              validation_steps=2)"
   ]
  },
  {
   "cell_type": "code",
   "execution_count": 12,
   "metadata": {
    "colab": {
     "autoexec": {
      "startup": false,
      "wait_interval": 0
     }
    },
    "colab_type": "code",
    "id": "X9QrfV3vAig7"
   },
   "outputs": [
    {
     "data": {
      "image/png": "[encoded data removed]",
      "text/plain": [
       "<matplotlib.figure.Figure at 0x7f97e8f3d208>"
      ]
     },
     "metadata": {},
     "output_type": "display_data"
    },
    {
     "data": {
      "image/png": "[encoded data removed]",
      "text/plain": [
       "<matplotlib.figure.Figure at 0x7f97e8c95f98>"
      ]
     },
     "metadata": {},
     "output_type": "display_data"
    }
   ],
   "source": [
    "import matplotlib.pyplot as plt\n",
    "\n",
    "acc = history.history['categorical_accuracy']\n",
    "val_acc = history.history['val_categorical_accuracy']\n",
    "loss = history.history['loss']\n",
    "val_loss = history.history['val_loss']\n",
    "\n",
    "epochs = range(1, len(acc)+1)\n",
    "\n",
    "plt.plot(epochs, acc, 'bo', label='Training acc')\n",
    "plt.plot(epochs, val_acc, 'b', label='Validation acc')\n",
    "plt.title('Training and validation accuracy')\n",
    "plt.legend()\n",
    "\n",
    "plt.figure()\n",
    "plt.plot(epochs, loss, 'bo', label='Training losses')\n",
    "plt.plot(epochs, val_loss, 'b', label='Validation losses')\n",
    "plt.title('Training and validation loss')\n",
    "plt.legend()\n",
    "\n",
    "plt.show()"
   ]
  },
  {
   "cell_type": "code",
   "execution_count": 13,
   "metadata": {
    "colab": {
     "autoexec": {
      "startup": false,
      "wait_interval": 0
     }
    },
    "colab_type": "code",
    "collapsed": true,
    "id": "3xtr7CZuAkfM"
   },
   "outputs": [],
   "source": [
    "model.save('fully_trained_model.h5')"
   ]
  },
  {
   "cell_type": "code",
   "execution_count": 14,
   "metadata": {},
   "outputs": [],
   "source": [
    "from keras.models import load_model\n",
    "model = load_model('fully_trained_model.h5')"
   ]
  }
 ],
 "metadata": {
  "accelerator": "GPU",
  "colab": {
   "collapsed_sections": [],
   "default_view": {},
   "name": "Emotion_detection.ipynb",
   "provenance": [],
   "version": "0.3.2",
   "views": {}
  },
  "kernelspec": {
   "display_name": "Python 3",
   "language": "python",
   "name": "python3"
  },
  "language_info": {
   "codemirror_mode": {
    "name": "ipython",
    "version": 3
   },
   "file_extension": ".py",
   "mimetype": "text/x-python",
   "name": "python",
   "nbconvert_exporter": "python",
   "pygments_lexer": "ipython3",
   "version": "3.6.1"
  }
 },
 "nbformat": 4,
 "nbformat_minor": 1
}
