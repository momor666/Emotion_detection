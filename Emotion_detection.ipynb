{
 "cells": [
  {
   "cell_type": "code",
   "execution_count": 0,
   "metadata": {
    "id": "V95Uwl8F2u_S",
    "colab_type": "code",
    "colab": {
     "autoexec": {
      "startup": false,
      "wait_interval": 0.0
     }
    }
   },
   "outputs": [],
   "source": [
    "import numpy as np\n",
    "import pandas as pd\n",
    "import matplotlib.pyplot as plt"
   ]
  },
  {
   "cell_type": "markdown",
   "metadata": {
    "id": "U9E2X5VH-3SO",
    "colab_type": "text"
   },
   "source": [
    "### Connect with drive data"
   ]
  },
  {
   "cell_type": "code",
   "execution_count": 0,
   "metadata": {
    "id": "MpAY864C3MDV",
    "colab_type": "code",
    "colab": {
     "autoexec": {
      "startup": false,
      "wait_interval": 0.0
     }
    }
   },
   "outputs": [],
   "source": [
    "!pip install -U -q PyDrive\n",
    "\n",
    "from pydrive.auth import GoogleAuth\n",
    "from pydrive.drive import GoogleDrive\n",
    "from google.colab import auth\n",
    "from oauth2client.client import GoogleCredentials\n",
    "\n",
    "# 1. Authenticate and create the PyDrive client.\n",
    "auth.authenticate_user()\n",
    "gauth = GoogleAuth()\n",
    "gauth.credentials = GoogleCredentials.get_application_default()\n",
    "drive = GoogleDrive(gauth)\n",
    "\n",
    "# PyDrive reference:\n",
    "# https://googledrive.github.io/PyDrive/docs/build/html/index.html\n",
    "\n",
    "# 2. Create & upload a file text file.\n",
    "# uploaded = drive.CreateFile({'title': 'Sample upload.txt'})\n",
    "# uploaded.SetContentString('Sample upload file content')\n",
    "# uploaded.Upload()\n",
    "# print('Uploaded file with ID {}'.format(uploaded.get('id')))\n",
    "\n",
    "# 3. Load a file by ID and print its contents.\n",
    "#downloaded = drive.CreateFile({'id': '10YHxlCWl8YlHszTFuGVLHEbiVy3qYDX1'})\n",
    "\n",
    "file = drive.CreateFile({'id': '10YHxlCWl8YlHszTFuGVLHEbiVy3qYDX1'})\n",
    "file.GetContentFile('fer2013.csv')"
   ]
  },
  {
   "cell_type": "markdown",
   "metadata": {
    "id": "9oetRLMD0Bwv",
    "colab_type": "text"
   },
   "source": [
    "### Code for downloading files"
   ]
  },
  {
   "cell_type": "code",
   "execution_count": 0,
   "metadata": {
    "id": "yPhuoPtMz_WG",
    "colab_type": "code",
    "colab": {
     "autoexec": {
      "startup": false,
      "wait_interval": 0.0
     }
    }
   },
   "outputs": [],
   "source": [
    "from google.colab import files\n",
    "\n",
    "# with open('example.txt', 'w') as f:\n",
    "#   f.write('some content')\n",
    "\n",
    "# files.download('example.txt')\n",
    "\n",
    "# files.download('fer2013.csv')"
   ]
  },
  {
   "cell_type": "code",
   "execution_count": 4,
   "metadata": {
    "id": "u8AbJ2ar0MuQ",
    "colab_type": "code",
    "colab": {
     "autoexec": {
      "startup": false,
      "wait_interval": 0.0
     },
     "output_extras": [
      {
       "item_id": 1.0
      }
     ],
     "base_uri": "https://localhost:8080/",
     "height": 34.0
    },
    "outputId": "7a1f825b-022a-48a7-c905-17dbd8a48e9a",
    "executionInfo": {
     "status": "ok",
     "timestamp": 1.518620256984E12,
     "user_tz": -360.0,
     "elapsed": 1716.0,
     "user": {
      "displayName": "Shuvendu Bikash",
      "photoUrl": "//lh6.googleusercontent.com/-qmLdelcDhNY/AAAAAAAAAAI/AAAAAAAAOyw/0BejXT-_QPo/s50-c-k-no/photo.jpg",
      "userId": "106434026064423574094"
     }
    }
   },
   "outputs": [
    {
     "name": "stdout",
     "output_type": "stream",
     "text": [
      "datalab  fer2013.csv\r\n"
     ]
    }
   ],
   "source": [
    "!ls"
   ]
  },
  {
   "cell_type": "markdown",
   "metadata": {
    "id": "cmzRs6PZ-9aX",
    "colab_type": "text"
   },
   "source": [
    "### Load data"
   ]
  },
  {
   "cell_type": "code",
   "execution_count": 0,
   "metadata": {
    "id": "-40kKKb_--Bm",
    "colab_type": "code",
    "colab": {
     "autoexec": {
      "startup": false,
      "wait_interval": 0.0
     }
    }
   },
   "outputs": [],
   "source": [
    "data = pd.read_csv('fer2013.csv')"
   ]
  },
  {
   "cell_type": "code",
   "execution_count": 14,
   "metadata": {
    "id": "dC7zFSJf_agz",
    "colab_type": "code",
    "colab": {
     "autoexec": {
      "startup": false,
      "wait_interval": 0.0
     },
     "output_extras": [
      {
       "item_id": 1.0
      }
     ],
     "base_uri": "https://localhost:8080/",
     "height": 34.0
    },
    "outputId": "f98ef7dd-fcaf-48ac-9430-dfddfa99b6e9",
    "executionInfo": {
     "status": "ok",
     "timestamp": 1.518620691561E12,
     "user_tz": -360.0,
     "elapsed": 1643.0,
     "user": {
      "displayName": "Shuvendu Bikash",
      "photoUrl": "//lh6.googleusercontent.com/-qmLdelcDhNY/AAAAAAAAAAI/AAAAAAAAOyw/0BejXT-_QPo/s50-c-k-no/photo.jpg",
      "userId": "106434026064423574094"
     }
    }
   },
   "outputs": [
    {
     "data": {
      "text/plain": [
       "(35887, 3)"
      ]
     },
     "execution_count": 14,
     "metadata": {
      "tags": []
     },
     "output_type": "execute_result"
    }
   ],
   "source": [
    "data.shape"
   ]
  },
  {
   "cell_type": "code",
   "execution_count": 15,
   "metadata": {
    "id": "ImTHQo44_8wX",
    "colab_type": "code",
    "colab": {
     "autoexec": {
      "startup": false,
      "wait_interval": 0.0
     },
     "output_extras": [
      {
       "item_id": 1.0
      }
     ],
     "base_uri": "https://localhost:8080/",
     "height": 204.0
    },
    "outputId": "8d7adfd1-88f2-4110-ee06-16e2d2313d2d",
    "executionInfo": {
     "status": "ok",
     "timestamp": 1.518620693262E12,
     "user_tz": -360.0,
     "elapsed": 1247.0,
     "user": {
      "displayName": "Shuvendu Bikash",
      "photoUrl": "//lh6.googleusercontent.com/-qmLdelcDhNY/AAAAAAAAAAI/AAAAAAAAOyw/0BejXT-_QPo/s50-c-k-no/photo.jpg",
      "userId": "106434026064423574094"
     }
    }
   },
   "outputs": [
    {
     "data": {
      "text/html": [
       "<div>\n",
       "<style scoped>\n",
       "    .dataframe tbody tr th:only-of-type {\n",
       "        vertical-align: middle;\n",
       "    }\n",
       "\n",
       "    .dataframe tbody tr th {\n",
       "        vertical-align: top;\n",
       "    }\n",
       "\n",
       "    .dataframe thead th {\n",
       "        text-align: right;\n",
       "    }\n",
       "</style>\n",
       "<table border=\"1\" class=\"dataframe\">\n",
       "  <thead>\n",
       "    <tr style=\"text-align: right;\">\n",
       "      <th></th>\n",
       "      <th>emotion</th>\n",
       "      <th>pixels</th>\n",
       "      <th>Usage</th>\n",
       "    </tr>\n",
       "  </thead>\n",
       "  <tbody>\n",
       "    <tr>\n",
       "      <th>0</th>\n",
       "      <td>0</td>\n",
       "      <td>70 80 82 72 58 58 60 63 54 58 60 48 89 115 121...</td>\n",
       "      <td>Training</td>\n",
       "    </tr>\n",
       "    <tr>\n",
       "      <th>1</th>\n",
       "      <td>0</td>\n",
       "      <td>151 150 147 155 148 133 111 140 170 174 182 15...</td>\n",
       "      <td>Training</td>\n",
       "    </tr>\n",
       "    <tr>\n",
       "      <th>2</th>\n",
       "      <td>2</td>\n",
       "      <td>231 212 156 164 174 138 161 173 182 200 106 38...</td>\n",
       "      <td>Training</td>\n",
       "    </tr>\n",
       "    <tr>\n",
       "      <th>3</th>\n",
       "      <td>4</td>\n",
       "      <td>24 32 36 30 32 23 19 20 30 41 21 22 32 34 21 1...</td>\n",
       "      <td>Training</td>\n",
       "    </tr>\n",
       "    <tr>\n",
       "      <th>4</th>\n",
       "      <td>6</td>\n",
       "      <td>4 0 0 0 0 0 0 0 0 0 0 0 3 15 23 28 48 50 58 84...</td>\n",
       "      <td>Training</td>\n",
       "    </tr>\n",
       "  </tbody>\n",
       "</table>\n",
       "</div>"
      ],
      "text/plain": [
       "   emotion                                             pixels     Usage\n",
       "0        0  70 80 82 72 58 58 60 63 54 58 60 48 89 115 121...  Training\n",
       "1        0  151 150 147 155 148 133 111 140 170 174 182 15...  Training\n",
       "2        2  231 212 156 164 174 138 161 173 182 200 106 38...  Training\n",
       "3        4  24 32 36 30 32 23 19 20 30 41 21 22 32 34 21 1...  Training\n",
       "4        6  4 0 0 0 0 0 0 0 0 0 0 0 3 15 23 28 48 50 58 84...  Training"
      ]
     },
     "execution_count": 15,
     "metadata": {
      "tags": []
     },
     "output_type": "execute_result"
    }
   ],
   "source": [
    "data.head()"
   ]
  },
  {
   "cell_type": "markdown",
   "metadata": {
    "id": "CLgbKVYo_xro",
    "colab_type": "text"
   },
   "source": [
    "### Test an image"
   ]
  },
  {
   "cell_type": "code",
   "execution_count": 0,
   "metadata": {
    "id": "OrMyiXrS_tJR",
    "colab_type": "code",
    "colab": {
     "autoexec": {
      "startup": false,
      "wait_interval": 0.0
     }
    }
   },
   "outputs": [],
   "source": [
    "np_data = np.array(data)"
   ]
  },
  {
   "cell_type": "code",
   "execution_count": 17,
   "metadata": {
    "id": "rw5cPyz6AEZD",
    "colab_type": "code",
    "colab": {
     "autoexec": {
      "startup": false,
      "wait_interval": 0.0
     },
     "output_extras": [
      {
       "item_id": 1.0
      }
     ],
     "base_uri": "https://localhost:8080/",
     "height": 34.0
    },
    "outputId": "34d07fbd-e290-4882-c134-defccb113ab0",
    "executionInfo": {
     "status": "ok",
     "timestamp": 1.518620698492E12,
     "user_tz": -360.0,
     "elapsed": 3534.0,
     "user": {
      "displayName": "Shuvendu Bikash",
      "photoUrl": "//lh6.googleusercontent.com/-qmLdelcDhNY/AAAAAAAAAAI/AAAAAAAAOyw/0BejXT-_QPo/s50-c-k-no/photo.jpg",
      "userId": "106434026064423574094"
     }
    }
   },
   "outputs": [
    {
     "data": {
      "text/plain": [
       "(35887, 3)"
      ]
     },
     "execution_count": 17,
     "metadata": {
      "tags": []
     },
     "output_type": "execute_result"
    }
   ],
   "source": [
    "np_data.shape"
   ]
  },
  {
   "cell_type": "code",
   "execution_count": 18,
   "metadata": {
    "id": "P7IDGxEQAUbi",
    "colab_type": "code",
    "colab": {
     "autoexec": {
      "startup": false,
      "wait_interval": 0.0
     },
     "output_extras": [
      {
       "item_id": 1.0
      }
     ],
     "base_uri": "https://localhost:8080/",
     "height": 88.0
    },
    "outputId": "3cab9ec6-c884-4bcc-dbd3-e8d104671175",
    "executionInfo": {
     "status": "ok",
     "timestamp": 1.518620699792E12,
     "user_tz": -360.0,
     "elapsed": 1054.0,
     "user": {
      "displayName": "Shuvendu Bikash",
      "photoUrl": "//lh6.googleusercontent.com/-qmLdelcDhNY/AAAAAAAAAAI/AAAAAAAAOyw/0BejXT-_QPo/s50-c-k-no/photo.jpg",
      "userId": "106434026064423574094"
     }
    }
   },
   "outputs": [
    {
     "data": {
      "text/plain": [
       "array([0,\n",
       "       '70 80 82 72 58 58 60 63 54 58 60 48 89 115 121 119 115 110 98 91 84 84 90 99 110 126 143 153 158 171 169 172 169 165 129 110 113 107 95 79 66 62 56 57 61 52 43 41 65 61 58 57 56 69 75 70 65 56 54 105 146 154 151 151 155 155 150 147 147 148 152 158 164 172 177 182 186 189 188 190 188 180 167 116 95 103 97 77 72 62 55 58 54 56 52 44 50 43 54 64 63 71 68 64 52 66 119 156 161 164 163 164 167 168 170 174 175 176 178 179 183 187 190 195 197 198 197 198 195 191 190 145 86 100 90 65 57 60 54 51 41 49 56 47 38 44 63 55 46 52 54 55 83 138 157 158 165 168 172 171 173 176 179 179 180 182 185 187 189 189 192 197 200 199 196 198 200 198 197 177 91 87 96 58 58 59 51 42 37 41 47 45 37 35 36 30 41 47 59 94 141 159 161 161 164 170 171 172 176 178 179 182 183 183 187 189 192 192 194 195 200 200 199 199 200 201 197 193 111 71 108 69 55 61 51 42 43 56 54 44 24 29 31 45 61 72 100 136 150 159 163 162 163 170 172 171 174 177 177 180 187 186 187 189 192 192 194 195 196 197 199 200 201 200 197 201 137 58 98 92 57 62 53 47 41 40 51 43 24 35 52 63 75 104 129 143 149 158 162 164 166 171 173 172 174 178 178 179 187 188 188 191 193 194 195 198 199 199 197 198 197 197 197 201 164 52 78 87 69 58 56 50 54 39 44 42 26 31 49 65 91 119 134 145 147 152 159 163 167 171 170 169 174 178 178 179 187 187 185 187 190 188 187 191 197 201 199 199 200 197 196 197 182 58 62 77 61 60 55 49 59 52 54 44 22 30 47 68 102 123 136 144 148 150 153 157 167 172 173 170 171 177 179 178 186 190 186 189 196 193 191 194 190 190 192 197 201 203 199 194 189 69 48 74 56 60 57 50 59 59 51 41 20 34 47 79 111 132 139 143 145 147 150 151 160 169 172 171 167 171 177 177 174 180 182 181 192 196 189 192 198 195 194 196 198 201 202 195 189 70 39 69 61 61 61 53 59 59 45 40 26 40 61 93 124 135 138 142 144 146 151 152 158 165 168 168 165 161 164 173 172 167 172 167 180 198 198 193 199 195 194 198 200 198 197 195 190 65 35 68 59 59 62 57 60 59 50 44 32 54 90 115 132 137 138 140 144 146 146 156 165 168 174 176 176 175 168 168 169 171 175 171 172 192 194 184 198 205 201 194 195 193 195 192 186 57 38 72 65 57 62 58 57 60 54 49 47 79 116 130 138 141 141 139 141 143 145 157 164 164 166 173 174 176 179 179 176 181 189 188 173 180 175 160 182 189 198 192 189 190 190 188 172 46 44 64 66 59 62 57 56 62 53 50 66 103 133 137 141 143 141 136 132 131 136 127 118 111 107 108 123 131 143 154 158 166 177 181 175 170 159 148 171 161 176 185 192 194 188 190 162 53 49 58 63 61 61 55 56 61 51 50 81 116 139 142 142 146 144 136 128 119 112 97 85 90 91 88 92 90 80 81 84 106 122 132 144 145 144 147 163 147 163 173 181 190 187 191 167 61 48 53 61 61 58 54 56 61 51 53 89 123 140 144 145 146 147 136 122 107 99 95 92 90 87 83 76 67 52 46 52 63 69 83 96 119 132 148 159 136 137 143 138 143 152 156 156 70 48 50 59 61 57 54 54 61 52 56 93 124 135 140 144 148 150 140 125 114 101 80 54 56 54 41 41 33 40 39 35 49 60 63 74 107 129 147 147 116 111 100 77 76 86 108 111 73 49 50 60 62 60 57 55 63 59 56 89 121 134 139 146 151 152 150 141 127 111 96 77 85 70 32 31 37 91 65 50 48 59 73 83 112 136 155 130 60 46 38 40 43 81 116 91 72 52 48 58 62 62 59 53 61 59 52 85 114 134 140 147 154 159 158 153 145 143 150 126 121 125 68 45 89 137 95 70 78 75 95 109 131 153 171 94 23 16 32 82 82 65 113 77 71 54 48 56 62 62 60 53 60 56 52 75 108 133 141 149 158 166 169 167 163 156 155 146 112 119 134 127 142 140 121 117 129 114 120 129 146 174 191 98 46 33 33 109 147 98 109 67 73 55 50 56 64 64 61 58 61 53 54 64 106 129 140 148 159 169 175 176 174 165 159 156 145 120 115 124 127 131 133 141 147 142 141 147 161 182 202 154 114 96 100 158 158 153 123 61 76 57 48 56 64 64 63 62 61 54 55 44 97 131 137 147 158 168 177 181 183 179 170 168 169 165 155 152 151 152 154 162 165 158 153 158 168 187 206 186 147 135 144 145 152 178 115 57 74 58 48 58 64 63 63 59 63 55 53 66 104 130 132 144 153 162 170 180 185 187 181 178 182 180 177 173 171 171 177 176 172 164 161 167 164 185 207 197 173 152 141 141 161 191 104 54 69 60 48 57 65 62 60 57 64 55 50 94 111 124 130 135 150 159 163 172 179 184 184 178 178 177 173 171 174 177 178 176 169 165 161 163 161 180 205 201 183 171 177 178 180 194 101 55 65 60 47 55 65 63 59 58 63 57 52 90 105 117 122 130 143 153 157 163 171 174 182 183 182 178 174 175 175 177 175 172 163 161 159 157 162 178 200 201 188 181 172 177 187 198 98 57 63 61 48 52 61 64 63 60 65 57 51 95 104 113 117 127 136 145 152 156 162 162 165 173 177 182 183 183 180 181 177 165 153 154 152 153 160 174 193 200 188 185 180 182 192 196 101 60 60 56 49 50 60 66 64 62 64 59 53 99 104 111 112 118 132 142 147 155 158 160 159 162 171 176 184 186 183 180 169 154 141 135 145 155 164 180 196 205 188 189 188 189 193 192 98 61 64 55 49 49 60 66 63 64 63 60 57 99 105 108 112 113 125 139 143 150 155 158 164 169 174 176 182 183 182 177 163 141 133 147 151 164 170 185 200 210 194 188 192 186 185 180 88 64 67 60 46 50 59 65 64 64 64 59 56 101 103 108 109 109 118 134 143 143 147 155 159 166 171 174 177 179 178 172 153 129 143 161 159 166 171 186 197 207 203 185 191 183 179 164 73 67 67 66 48 50 57 65 65 63 64 61 57 103 108 114 112 110 115 128 138 144 145 152 156 159 164 168 172 172 169 161 139 125 147 156 161 162 164 180 188 188 197 185 187 181 180 137 65 70 68 70 52 47 53 62 65 63 65 61 58 105 109 112 120 113 112 122 134 141 149 150 153 155 159 164 167 167 162 152 134 115 126 119 106 99 109 141 158 150 155 175 184 176 175 106 63 70 68 68 50 46 50 57 63 63 64 61 59 107 110 110 117 117 114 117 128 137 147 148 150 153 156 161 162 163 156 150 148 105 70 45 26 25 47 73 74 79 128 177 180 173 157 77 66 68 67 68 52 49 51 56 62 62 62 62 60 101 107 108 114 115 114 117 125 134 143 148 149 152 154 158 160 158 155 160 158 132 88 73 73 64 52 66 91 138 160 174 173 171 125 64 67 63 64 68 54 50 49 54 60 60 60 62 60 98 105 105 109 111 114 117 125 131 139 145 148 153 153 156 157 156 161 168 165 153 139 122 115 105 89 103 150 182 161 171 173 162 89 64 64 62 64 69 56 48 49 56 58 60 59 62 60 89 99 108 106 109 111 119 120 125 134 140 146 152 153 153 153 156 159 162 160 150 136 129 133 133 122 133 148 178 168 168 175 132 61 67 66 65 63 69 57 47 50 55 58 59 61 62 60 89 96 105 107 105 107 117 120 123 124 133 141 149 153 151 145 151 145 139 140 138 128 126 124 129 125 136 142 164 172 168 168 87 58 67 63 62 61 69 57 39 44 55 56 59 63 62 62 84 91 92 98 102 103 113 119 121 118 128 138 146 151 147 142 140 128 127 128 129 126 135 140 135 130 143 146 149 166 174 131 62 65 62 59 67 63 68 83 89 65 42 52 60 60 62 63 77 84 84 91 99 101 107 112 117 118 122 134 145 149 144 134 127 127 129 130 134 125 126 132 152 153 151 150 151 165 171 87 59 65 64 61 58 86 122 138 208 207 154 71 52 56 55 56 69 77 83 85 93 91 102 112 116 118 119 127 140 144 142 131 112 95 85 75 62 58 56 59 87 88 83 127 142 165 149 62 65 62 59 77 113 192 156 84 185 196 197 168 81 70 75 69 58 65 73 82 81 79 95 107 114 116 116 123 136 142 136 132 131 102 71 58 49 41 33 41 36 49 60 99 136 168 111 53 63 71 138 186 203 195 146 87 91 72 79 95 103 82 61 74 55 57 68 75 76 77 84 96 106 110 111 121 130 138 136 142 153 159 152 152 154 145 133 136 147 158 156 155 147 158 74 57 60 123 181 174 126 89 72 67 57 43 55 67 76 86 60 45 51 45 52 68 75 73 77 88 96 100 104 113 115 121 134 146 149 146 149 148 155 168 174 179 178 169 169 174 161 131 44 47 82 150 168 136 104 75 66 80 67 58 48 54 68 88 121 102 51 45 38 53 66 65 70 86 92 96 102 103 109 116 130 136 136 133 136 138 137 135 128 130 143 158 165 164 147 87 62 74 123 160 170 100 99 107 79 71 86 75 57 45 49 65 122 130 43 48 40 39 55 61 59 71 82 87 88 93 105 118 123 128 130 124 111 98 94 88 67 55 84 129 147 148 105 48 82 142 161 164 164 76 72 85 100 88 72 90 84 54 48 54 73 100 73 36 44 31 37 53 51 55 67 74 77 87 97 108 118 125 132 122 106 86 80 82 75 73 83 110 129 126 46 22 130 177 196 193 166 72 52 54 73 100 92 75 99 95 65 68 61 63 91 65 42 37 22 28 39 44 57 68 74 83 92 101 119 131 143 141 134 136 140 139 134 136 139 138 136 85 23 114 202 198 199 180 173 98 36 86 130 150 137 99 77 101 99 72 56 43 77 82 79 70 56 28 20 25 36 50 63 73 83 98 111 124 139 156 160 159 169 168 165 163 159 149 114 43 26 133 183 192 177 152 137 130 125 139 173 195 186 137 101 88 101 105 70 46 77 72 84 87 87 81 64 37 20 31 40 46 65 88 108 110 125 149 157 153 162 164 158 159 154 140 78 21 11 61 144 168 173 157 138 150 148 132 159 182 183 136 106 116 95 106 109 82',\n",
       "       'Training'], dtype=object)"
      ]
     },
     "execution_count": 18,
     "metadata": {
      "tags": []
     },
     "output_type": "execute_result"
    }
   ],
   "source": [
    "np_data[0]"
   ]
  },
  {
   "cell_type": "code",
   "execution_count": 19,
   "metadata": {
    "id": "R_ayscEsAW1F",
    "colab_type": "code",
    "colab": {
     "autoexec": {
      "startup": false,
      "wait_interval": 0.0
     },
     "output_extras": [
      {
       "item_id": 1.0
      }
     ],
     "base_uri": "https://localhost:8080/",
     "height": 51.0
    },
    "outputId": "31b04798-a16f-43d4-93f5-25e06644dc57",
    "executionInfo": {
     "status": "ok",
     "timestamp": 1.518620701732E12,
     "user_tz": -360.0,
     "elapsed": 1696.0,
     "user": {
      "displayName": "Shuvendu Bikash",
      "photoUrl": "//lh6.googleusercontent.com/-qmLdelcDhNY/AAAAAAAAAAI/AAAAAAAAOyw/0BejXT-_QPo/s50-c-k-no/photo.jpg",
      "userId": "106434026064423574094"
     }
    }
   },
   "outputs": [
    {
     "name": "stdout",
     "output_type": "stream",
     "text": [
      "<class 'list'>\n",
      "2304\n"
     ]
    }
   ],
   "source": [
    "test_image = np_data[0][1].split(\" \")\n",
    "print(type(test_image))\n",
    "print(len(test_image))"
   ]
  },
  {
   "cell_type": "code",
   "execution_count": 20,
   "metadata": {
    "id": "9i-YIUqzAgdZ",
    "colab_type": "code",
    "colab": {
     "autoexec": {
      "startup": false,
      "wait_interval": 0.0
     },
     "output_extras": [
      {
       "item_id": 1.0
      }
     ],
     "base_uri": "https://localhost:8080/",
     "height": 34.0
    },
    "outputId": "87f681ee-ebe3-400f-fa63-d1c21f815925",
    "executionInfo": {
     "status": "ok",
     "timestamp": 1.518620702974E12,
     "user_tz": -360.0,
     "elapsed": 972.0,
     "user": {
      "displayName": "Shuvendu Bikash",
      "photoUrl": "//lh6.googleusercontent.com/-qmLdelcDhNY/AAAAAAAAAAI/AAAAAAAAOyw/0BejXT-_QPo/s50-c-k-no/photo.jpg",
      "userId": "106434026064423574094"
     }
    }
   },
   "outputs": [
    {
     "data": {
      "text/plain": [
       "2304"
      ]
     },
     "execution_count": 20,
     "metadata": {
      "tags": []
     },
     "output_type": "execute_result"
    }
   ],
   "source": [
    "48*48"
   ]
  },
  {
   "cell_type": "code",
   "execution_count": 21,
   "metadata": {
    "id": "2FJqSGVrA0LH",
    "colab_type": "code",
    "colab": {
     "autoexec": {
      "startup": false,
      "wait_interval": 0.0
     },
     "output_extras": [
      {
       "item_id": 1.0
      }
     ],
     "base_uri": "https://localhost:8080/",
     "height": 34.0
    },
    "outputId": "eba50d47-305c-4703-d954-1722af473afa",
    "executionInfo": {
     "status": "ok",
     "timestamp": 1.518620704198E12,
     "user_tz": -360.0,
     "elapsed": 954.0,
     "user": {
      "displayName": "Shuvendu Bikash",
      "photoUrl": "//lh6.googleusercontent.com/-qmLdelcDhNY/AAAAAAAAAAI/AAAAAAAAOyw/0BejXT-_QPo/s50-c-k-no/photo.jpg",
      "userId": "106434026064423574094"
     }
    }
   },
   "outputs": [
    {
     "data": {
      "text/plain": [
       "(48, 48)"
      ]
     },
     "execution_count": 21,
     "metadata": {
      "tags": []
     },
     "output_type": "execute_result"
    }
   ],
   "source": [
    "test_image = np.array(test_image).reshape(48, 48)\n",
    "test_image.shape"
   ]
  },
  {
   "cell_type": "code",
   "execution_count": 0,
   "metadata": {
    "id": "FOMj0gidA7gW",
    "colab_type": "code",
    "colab": {
     "autoexec": {
      "startup": false,
      "wait_interval": 0.0
     }
    }
   },
   "outputs": [],
   "source": [
    "test_image = test_image.astype('float')"
   ]
  },
  {
   "cell_type": "code",
   "execution_count": 23,
   "metadata": {
    "id": "3A30Qn_0A-ei",
    "colab_type": "code",
    "colab": {
     "autoexec": {
      "startup": false,
      "wait_interval": 0.0
     },
     "output_extras": [
      {
       "item_id": 1.0
      }
     ],
     "base_uri": "https://localhost:8080/",
     "height": 136.0
    },
    "outputId": "45c7503e-696e-4036-d594-9820466aadb6",
    "executionInfo": {
     "status": "ok",
     "timestamp": 1.518620707584E12,
     "user_tz": -360.0,
     "elapsed": 1547.0,
     "user": {
      "displayName": "Shuvendu Bikash",
      "photoUrl": "//lh6.googleusercontent.com/-qmLdelcDhNY/AAAAAAAAAAI/AAAAAAAAOyw/0BejXT-_QPo/s50-c-k-no/photo.jpg",
      "userId": "106434026064423574094"
     }
    }
   },
   "outputs": [
    {
     "data": {
      "text/plain": [
       "array([[ 70.,  80.,  82., ...,  52.,  43.,  41.],\n",
       "       [ 65.,  61.,  58., ...,  56.,  52.,  44.],\n",
       "       [ 50.,  43.,  54., ...,  49.,  56.,  47.],\n",
       "       ...,\n",
       "       [ 91.,  65.,  42., ...,  72.,  56.,  43.],\n",
       "       [ 77.,  82.,  79., ..., 105.,  70.,  46.],\n",
       "       [ 77.,  72.,  84., ..., 106., 109.,  82.]])"
      ]
     },
     "execution_count": 23,
     "metadata": {
      "tags": []
     },
     "output_type": "execute_result"
    }
   ],
   "source": [
    "test_image"
   ]
  },
  {
   "cell_type": "code",
   "execution_count": 24,
   "metadata": {
    "id": "4IBISGNgBY3y",
    "colab_type": "code",
    "colab": {
     "autoexec": {
      "startup": false,
      "wait_interval": 0.0
     },
     "output_extras": [
      {
       "item_id": 1.0
      },
      {
       "item_id": 2.0
      }
     ],
     "base_uri": "https://localhost:8080/",
     "height": 365.0
    },
    "outputId": "d9ecdfc3-8b52-4d14-dcdc-b31586e86813",
    "executionInfo": {
     "status": "ok",
     "timestamp": 1.518620709268E12,
     "user_tz": -360.0,
     "elapsed": 1430.0,
     "user": {
      "displayName": "Shuvendu Bikash",
      "photoUrl": "//lh6.googleusercontent.com/-qmLdelcDhNY/AAAAAAAAAAI/AAAAAAAAOyw/0BejXT-_QPo/s50-c-k-no/photo.jpg",
      "userId": "106434026064423574094"
     }
    }
   },
   "outputs": [
    {
     "data": {
      "text/plain": [
       "<matplotlib.image.AxesImage at 0x7f55c26fe1d0>"
      ]
     },
     "execution_count": 24,
     "metadata": {
      "tags": []
     },
     "output_type": "execute_result"
    },
    {
     "data": {
      "image/png": "[encoded data removed]",
      "text/plain": [
       "<matplotlib.figure.Figure at 0x7f55c27b1ac8>"
      ]
     },
     "metadata": {
      "tags": []
     },
     "output_type": "display_data"
    }
   ],
   "source": [
    "plt.imshow(test_image)"
   ]
  },
  {
   "cell_type": "markdown",
   "metadata": {
    "id": "Y1FLjZ844qV5",
    "colab_type": "text"
   },
   "source": [
    "# Data preprocessing"
   ]
  },
  {
   "cell_type": "code",
   "execution_count": 0,
   "metadata": {
    "id": "jpBIGyDK2jqF",
    "colab_type": "code",
    "colab": {
     "autoexec": {
      "startup": false,
      "wait_interval": 0.0
     }
    }
   },
   "outputs": [],
   "source": [
    "import scipy.misc\n",
    "import os\n",
    "\n",
    "for i in range(len(data)):\n",
    "  directory = 'data/'+np_data[i][2]+'/'+str(np_data[i][0])\n",
    "  if not os.path.exists(directory):\n",
    "    os.makedirs(directory)\n",
    "    \n",
    "  test_image = np_data[i][1].split(\" \")\n",
    "  test_image = np.array(test_image).reshape(48, 48)\n",
    "  test_image = test_image.astype('float')\n",
    "\n",
    "  scipy.misc.imsave(directory+'/'+str(i)+'.jpg', test_image)"
   ]
  },
  {
   "cell_type": "code",
   "execution_count": 64,
   "metadata": {
    "id": "2KohoNMf3WOz",
    "colab_type": "code",
    "colab": {
     "autoexec": {
      "startup": false,
      "wait_interval": 0.0
     },
     "output_extras": [
      {
       "item_id": 1.0
      }
     ],
     "base_uri": "https://localhost:8080/",
     "height": 34.0
    },
    "outputId": "e1908787-ac42-4fbd-db59-d2a3bf6e7342",
    "executionInfo": {
     "status": "ok",
     "timestamp": 1.518621966323E12,
     "user_tz": -360.0,
     "elapsed": 1271.0,
     "user": {
      "displayName": "Shuvendu Bikash",
      "photoUrl": "//lh6.googleusercontent.com/-qmLdelcDhNY/AAAAAAAAAAI/AAAAAAAAOyw/0BejXT-_QPo/s50-c-k-no/photo.jpg",
      "userId": "106434026064423574094"
     }
    }
   },
   "outputs": [
    {
     "name": "stdout",
     "output_type": "stream",
     "text": [
      "PrivateTest  PublicTest  Training\r\n"
     ]
    }
   ],
   "source": [
    "!ls data/\n"
   ]
  },
  {
   "cell_type": "markdown",
   "metadata": {
    "id": "teiwDTpF6Eq8",
    "colab_type": "text"
   },
   "source": [
    "# Training with CNN"
   ]
  },
  {
   "cell_type": "code",
   "execution_count": 0,
   "metadata": {
    "id": "ckDWqMjk4yBE",
    "colab_type": "code",
    "colab": {
     "autoexec": {
      "startup": false,
      "wait_interval": 0.0
     }
    }
   },
   "outputs": [],
   "source": [
    "from keras.datasets import mnist\n",
    "from keras.utils import to_categorical\n",
    "\n",
    "from keras import models\n",
    "from keras import layers\n",
    "\n",
    "from keras import losses, optimizers, metrics\n"
   ]
  },
  {
   "cell_type": "code",
   "execution_count": 79,
   "metadata": {
    "id": "4mp5FXso6yJv",
    "colab_type": "code",
    "colab": {
     "autoexec": {
      "startup": false,
      "wait_interval": 0.0
     },
     "output_extras": [
      {
       "item_id": 2.0
      }
     ],
     "base_uri": "https://localhost:8080/",
     "height": 51.0
    },
    "outputId": "6659d994-0eba-464b-d45a-f69d82ecd360",
    "executionInfo": {
     "status": "ok",
     "timestamp": 1.518623283961E12,
     "user_tz": -360.0,
     "elapsed": 2038.0,
     "user": {
      "displayName": "Shuvendu Bikash",
      "photoUrl": "//lh6.googleusercontent.com/-qmLdelcDhNY/AAAAAAAAAAI/AAAAAAAAOyw/0BejXT-_QPo/s50-c-k-no/photo.jpg",
      "userId": "106434026064423574094"
     }
    }
   },
   "outputs": [
    {
     "name": "stdout",
     "output_type": "stream",
     "text": [
      "Found 28709 images belonging to 7 classes.\n",
      "Found 3589 images belonging to 7 classes.\n"
     ]
    }
   ],
   "source": [
    "from keras.preprocessing.image import ImageDataGenerator\n",
    "train_dir = 'data/Training'\n",
    "validation_dir = 'data/PublicTest'\n",
    "test_dir ='data/PrivateTest'\n",
    "\n",
    "\n",
    "train_datagen = ImageDataGenerator(rescale=1./255)\n",
    "test_datagen = ImageDataGenerator(rescale=1./255)\n",
    "\n",
    "train_generator = train_datagen.flow_from_directory(\n",
    "    train_dir,\n",
    "    target_size = (48, 48),\n",
    "    batch_size=32\n",
    ")\n",
    "\n",
    "validation_generator = test_datagen.flow_from_directory(\n",
    "    validation_dir,\n",
    "    target_size = (48, 48),\n",
    "    batch_size=32\n",
    ")"
   ]
  },
  {
   "cell_type": "code",
   "execution_count": 71,
   "metadata": {
    "id": "hbfMDbq26Gs3",
    "colab_type": "code",
    "colab": {
     "autoexec": {
      "startup": false,
      "wait_interval": 0.0
     },
     "output_extras": [
      {
       "item_id": 1.0
      }
     ],
     "base_uri": "https://localhost:8080/",
     "height": 408.0
    },
    "outputId": "3261ea97-1c67-4d80-acdd-7bc359614fb7",
    "executionInfo": {
     "status": "ok",
     "timestamp": 1.518622287177E12,
     "user_tz": -360.0,
     "elapsed": 1064.0,
     "user": {
      "displayName": "Shuvendu Bikash",
      "photoUrl": "//lh6.googleusercontent.com/-qmLdelcDhNY/AAAAAAAAAAI/AAAAAAAAOyw/0BejXT-_QPo/s50-c-k-no/photo.jpg",
      "userId": "106434026064423574094"
     }
    }
   },
   "outputs": [
    {
     "name": "stdout",
     "output_type": "stream",
     "text": [
      "_________________________________________________________________\n",
      "Layer (type)                 Output Shape              Param #   \n",
      "=================================================================\n",
      "conv2d_7 (Conv2D)            (None, 46, 46, 32)        896       \n",
      "_________________________________________________________________\n",
      "max_pooling2d_5 (MaxPooling2 (None, 23, 23, 32)        0         \n",
      "_________________________________________________________________\n",
      "conv2d_8 (Conv2D)            (None, 21, 21, 64)        18496     \n",
      "_________________________________________________________________\n",
      "max_pooling2d_6 (MaxPooling2 (None, 10, 10, 64)        0         \n",
      "_________________________________________________________________\n",
      "conv2d_9 (Conv2D)            (None, 8, 8, 64)          36928     \n",
      "_________________________________________________________________\n",
      "flatten_3 (Flatten)          (None, 4096)              0         \n",
      "_________________________________________________________________\n",
      "dense_5 (Dense)              (None, 128)               524416    \n",
      "_________________________________________________________________\n",
      "dense_6 (Dense)              (None, 7)                 903       \n",
      "=================================================================\n",
      "Total params: 581,639\n",
      "Trainable params: 581,639\n",
      "Non-trainable params: 0\n",
      "_________________________________________________________________\n"
     ]
    }
   ],
   "source": [
    "model = models.Sequential()\n",
    "\n",
    "model.add(layers.Conv2D(32, (3, 3), activation='relu', input_shape=(48, 48, 3)))\n",
    "model.add(layers.MaxPool2D((2, 2)))\n",
    "model.add(layers.Conv2D(64, (3,3), activation='relu'))\n",
    "model.add(layers.MaxPool2D((2,2)))\n",
    "model.add(layers.Conv2D(64, (3,3), activation='relu'))\n",
    "\n",
    "model.add(layers.Flatten())\n",
    "model.add(layers.Dense(128, activation='relu'))\n",
    "model.add(layers.Dense(7, activation='softmax'))\n",
    "\n",
    "model.summary()"
   ]
  },
  {
   "cell_type": "code",
   "execution_count": 72,
   "metadata": {
    "id": "T9gPtISE6kpg",
    "colab_type": "code",
    "colab": {
     "autoexec": {
      "startup": false,
      "wait_interval": 0.0
     },
     "output_extras": [
      {
       "item_id": 52.0
      },
      {
       "item_id": 104.0
      },
      {
       "item_id": 152.0
      },
      {
       "item_id": 195.0
      },
      {
       "item_id": 238.0
      },
      {
       "item_id": 286.0
      },
      {
       "item_id": 333.0
      },
      {
       "item_id": 366.0
      },
      {
       "item_id": 398.0
      },
      {
       "item_id": 442.0
      },
      {
       "item_id": 486.0
      },
      {
       "item_id": 528.0
      },
      {
       "item_id": 578.0
      },
      {
       "item_id": 613.0
      },
      {
       "item_id": 643.0
      }
     ],
     "base_uri": "https://localhost:8080/",
     "height": 1037.0
    },
    "outputId": "c44a04fd-8422-424a-c244-42bd6f7d9c15",
    "executionInfo": {
     "status": "ok",
     "timestamp": 1.518622751496E12,
     "user_tz": -360.0,
     "elapsed": 458294.0,
     "user": {
      "displayName": "Shuvendu Bikash",
      "photoUrl": "//lh6.googleusercontent.com/-qmLdelcDhNY/AAAAAAAAAAI/AAAAAAAAOyw/0BejXT-_QPo/s50-c-k-no/photo.jpg",
      "userId": "106434026064423574094"
     }
    }
   },
   "outputs": [
    {
     "name": "stdout",
     "output_type": "stream",
     "text": [
      "Epoch 1/30\n",
      "900/900 [==============================] - 17s 18ms/step - loss: 1.5787 - acc: 0.3835 - val_loss: 1.4068 - val_acc: 0.4572\n",
      "Epoch 2/30\n",
      "900/900 [==============================] - 15s 17ms/step - loss: 1.3183 - acc: 0.4996 - val_loss: 1.2876 - val_acc: 0.5149\n",
      "Epoch 3/30\n",
      "264/900 [=======>......................] - ETA: 9s - loss: 1.2117 - acc: 0.5445"
     ]
    },
    {
     "name": "stdout",
     "output_type": "stream",
     "text": [
      "900/900 [==============================] - 15s 17ms/step - loss: 1.1938 - acc: 0.5501 - val_loss: 1.2367 - val_acc: 0.5292\n",
      "Epoch 4/30\n",
      "900/900 [==============================] - 15s 17ms/step - loss: 1.0935 - acc: 0.5918 - val_loss: 1.2476 - val_acc: 0.5226\n",
      "Epoch 5/30\n",
      "388/900 [===========>..................] - ETA: 7s - loss: 0.9903 - acc: 0.6361"
     ]
    },
    {
     "name": "stdout",
     "output_type": "stream",
     "text": [
      "900/900 [==============================] - 15s 17ms/step - loss: 0.9971 - acc: 0.6309 - val_loss: 1.2305 - val_acc: 0.5439\n",
      "Epoch 6/30\n",
      "900/900 [==============================] - 15s 17ms/step - loss: 0.8874 - acc: 0.6737 - val_loss: 1.3460 - val_acc: 0.5393\n",
      "Epoch 7/30\n",
      "416/900 [============>.................] - ETA: 7s - loss: 0.7620 - acc: 0.7212"
     ]
    },
    {
     "name": "stdout",
     "output_type": "stream",
     "text": [
      "900/900 [==============================] - 15s 17ms/step - loss: 0.7813 - acc: 0.7157 - val_loss: 1.4082 - val_acc: 0.5494\n",
      "Epoch 8/30\n",
      "900/900 [==============================] - 15s 17ms/step - loss: 0.6711 - acc: 0.7595 - val_loss: 1.5336 - val_acc: 0.5439\n",
      "Epoch 9/30\n",
      "421/900 [=============>................] - ETA: 7s - loss: 0.5419 - acc: 0.8036"
     ]
    },
    {
     "name": "stdout",
     "output_type": "stream",
     "text": [
      "900/900 [==============================] - 15s 17ms/step - loss: 0.5630 - acc: 0.7973 - val_loss: 1.6756 - val_acc: 0.5601\n",
      "Epoch 10/30\n",
      "900/900 [==============================] - 15s 17ms/step - loss: 0.4688 - acc: 0.8350 - val_loss: 1.9576 - val_acc: 0.5620\n",
      "Epoch 11/30\n",
      "436/900 [=============>................] - ETA: 6s - loss: 0.3628 - acc: 0.8730"
     ]
    },
    {
     "name": "stdout",
     "output_type": "stream",
     "text": [
      "900/900 [==============================] - 15s 16ms/step - loss: 0.3876 - acc: 0.8645 - val_loss: 2.1413 - val_acc: 0.5330\n",
      "Epoch 12/30\n",
      "900/900 [==============================] - 15s 17ms/step - loss: 0.3170 - acc: 0.8889 - val_loss: 2.2874 - val_acc: 0.5552\n",
      "Epoch 13/30\n",
      "437/900 [=============>................] - ETA: 7s - loss: 0.2379 - acc: 0.9167"
     ]
    },
    {
     "name": "stdout",
     "output_type": "stream",
     "text": [
      "900/900 [==============================] - 15s 16ms/step - loss: 0.2619 - acc: 0.9086 - val_loss: 2.7009 - val_acc: 0.5601\n",
      "Epoch 14/30\n",
      "900/900 [==============================] - 15s 17ms/step - loss: 0.2244 - acc: 0.9225 - val_loss: 2.7540 - val_acc: 0.5300\n",
      "Epoch 15/30\n",
      "434/900 [=============>................] - ETA: 7s - loss: 0.1770 - acc: 0.9412"
     ]
    },
    {
     "name": "stdout",
     "output_type": "stream",
     "text": [
      "900/900 [==============================] - 15s 17ms/step - loss: 0.1932 - acc: 0.9351 - val_loss: 3.1151 - val_acc: 0.5185\n",
      "Epoch 16/30\n",
      "900/900 [==============================] - 15s 17ms/step - loss: 0.1710 - acc: 0.9431 - val_loss: 3.2083 - val_acc: 0.5483\n",
      "Epoch 17/30\n",
      "425/900 [=============>................] - ETA: 7s - loss: 0.1490 - acc: 0.9499"
     ]
    },
    {
     "name": "stdout",
     "output_type": "stream",
     "text": [
      "900/900 [==============================] - 15s 17ms/step - loss: 0.1576 - acc: 0.9480 - val_loss: 3.5193 - val_acc: 0.5396\n",
      "Epoch 18/30\n",
      "900/900 [==============================] - 15s 17ms/step - loss: 0.1502 - acc: 0.9512 - val_loss: 3.3493 - val_acc: 0.5311\n",
      "Epoch 19/30\n",
      "408/900 [============>.................] - ETA: 7s - loss: 0.1311 - acc: 0.9575"
     ]
    },
    {
     "name": "stdout",
     "output_type": "stream",
     "text": [
      "900/900 [==============================] - 15s 17ms/step - loss: 0.1394 - acc: 0.9549 - val_loss: 3.9319 - val_acc: 0.5469\n",
      "Epoch 20/30\n",
      "900/900 [==============================] - 15s 17ms/step - loss: 0.1434 - acc: 0.9562 - val_loss: 3.6453 - val_acc: 0.5582\n",
      "Epoch 21/30\n",
      "382/900 [===========>..................] - ETA: 8s - loss: 0.1114 - acc: 0.9638"
     ]
    },
    {
     "name": "stdout",
     "output_type": "stream",
     "text": [
      "900/900 [==============================] - 16s 18ms/step - loss: 0.1291 - acc: 0.9609 - val_loss: 3.7181 - val_acc: 0.5105\n",
      "Epoch 22/30\n",
      "900/900 [==============================] - 16s 18ms/step - loss: 0.1233 - acc: 0.9634 - val_loss: 3.7844 - val_acc: 0.5374\n",
      "Epoch 23/30\n",
      "357/900 [==========>...................] - ETA: 8s - loss: 0.1022 - acc: 0.9689"
     ]
    },
    {
     "name": "stdout",
     "output_type": "stream",
     "text": [
      "900/900 [==============================] - 16s 17ms/step - loss: 0.1193 - acc: 0.9635 - val_loss: 4.0233 - val_acc: 0.5393\n",
      "Epoch 24/30\n",
      "900/900 [==============================] - 16s 17ms/step - loss: 0.1226 - acc: 0.9635 - val_loss: 3.9205 - val_acc: 0.5264\n",
      "Epoch 25/30\n",
      "347/900 [==========>...................] - ETA: 8s - loss: 0.1064 - acc: 0.9694"
     ]
    },
    {
     "name": "stdout",
     "output_type": "stream",
     "text": [
      "900/900 [==============================] - 16s 17ms/step - loss: 0.1186 - acc: 0.9660 - val_loss: 3.9244 - val_acc: 0.5073\n",
      "Epoch 26/30\n",
      "900/900 [==============================] - 16s 17ms/step - loss: 0.1235 - acc: 0.9650 - val_loss: 4.3725 - val_acc: 0.5179\n",
      "Epoch 27/30\n",
      "349/900 [==========>...................] - ETA: 8s - loss: 0.1014 - acc: 0.9695"
     ]
    },
    {
     "name": "stdout",
     "output_type": "stream",
     "text": [
      "900/900 [==============================] - 15s 17ms/step - loss: 0.1173 - acc: 0.9662 - val_loss: 4.2262 - val_acc: 0.5412\n",
      "Epoch 28/30\n",
      "900/900 [==============================] - 15s 17ms/step - loss: 0.1157 - acc: 0.9666 - val_loss: 4.4262 - val_acc: 0.5374\n",
      "Epoch 29/30\n",
      "372/900 [===========>..................] - ETA: 8s - loss: 0.0959 - acc: 0.9715"
     ]
    },
    {
     "name": "stdout",
     "output_type": "stream",
     "text": [
      "900/900 [==============================] - 15s 17ms/step - loss: 0.1074 - acc: 0.9679 - val_loss: 4.2263 - val_acc: 0.5086\n",
      "Epoch 30/30\n",
      "900/900 [==============================] - 16s 17ms/step - loss: 0.1136 - acc: 0.9681 - val_loss: 4.0870 - val_acc: 0.5363\n"
     ]
    }
   ],
   "source": [
    "model.compile(optimizer=optimizers.RMSprop(),\n",
    "              loss=losses.categorical_crossentropy,\n",
    "              metrics=['accuracy']\n",
    "             )\n",
    "\n",
    "history = model.fit_generator(\n",
    "    train_generator,\n",
    "    steps_per_epoch = 900,\n",
    "    epochs=30,\n",
    "    validation_data=validation_generator,\n",
    "    validation_steps=115\n",
    ")"
   ]
  },
  {
   "cell_type": "code",
   "execution_count": 73,
   "metadata": {
    "id": "FNXaw7OW7QOn",
    "colab_type": "code",
    "colab": {
     "autoexec": {
      "startup": false,
      "wait_interval": 0.0
     },
     "output_extras": [
      {
       "item_id": 1.0
      },
      {
       "item_id": 2.0
      }
     ],
     "base_uri": "https://localhost:8080/",
     "height": 707.0
    },
    "outputId": "a7d79d6d-7bac-419f-d5cf-62e3de7ccb13",
    "executionInfo": {
     "status": "ok",
     "timestamp": 1.518622791106E12,
     "user_tz": -360.0,
     "elapsed": 7818.0,
     "user": {
      "displayName": "Shuvendu Bikash",
      "photoUrl": "//lh6.googleusercontent.com/-qmLdelcDhNY/AAAAAAAAAAI/AAAAAAAAOyw/0BejXT-_QPo/s50-c-k-no/photo.jpg",
      "userId": "106434026064423574094"
     }
    }
   },
   "outputs": [
    {
     "data": {
      "image/png": "[encoded data removed]",
      "text/plain": [
       "<matplotlib.figure.Figure at 0x7f55bfe85518>"
      ]
     },
     "metadata": {
      "tags": []
     },
     "output_type": "display_data"
    },
    {
     "data": {
      "image/png": "[encoded data removed]",
      "text/plain": [
       "<matplotlib.figure.Figure at 0x7f55bee29128>"
      ]
     },
     "metadata": {
      "tags": []
     },
     "output_type": "display_data"
    }
   ],
   "source": [
    "\n",
    "import matplotlib.pyplot as plt\n",
    "\n",
    "acc = history.history['acc']\n",
    "val_acc = history.history['val_acc']\n",
    "loss = history.history['loss']\n",
    "val_loss = history.history['val_loss']\n",
    "\n",
    "epochs = range(1, len(acc)+1)\n",
    "\n",
    "plt.plot(epochs, acc, 'bo', label='Training acc')\n",
    "plt.plot(epochs, val_acc, 'b', label='Validation acc')\n",
    "plt.title('Training and validation accuracy')\n",
    "plt.legend()\n",
    "\n",
    "plt.figure()\n",
    "plt.plot(epochs, loss, 'bo', label='Training losses')\n",
    "plt.plot(epochs, val_loss, 'b', label='Validation losses')\n",
    "plt.title('Training and validation loss')\n",
    "plt.legend()\n",
    "\n",
    "plt.show()"
   ]
  },
  {
   "cell_type": "markdown",
   "metadata": {
    "id": "VyVSA5Nb-5tQ",
    "colab_type": "text"
   },
   "source": [
    "## Try using pretrined model"
   ]
  },
  {
   "cell_type": "code",
   "execution_count": 74,
   "metadata": {
    "id": "tVtbN_6L-LbB",
    "colab_type": "code",
    "colab": {
     "autoexec": {
      "startup": false,
      "wait_interval": 0.0
     },
     "output_extras": [
      {
       "item_id": 2.0
      }
     ],
     "base_uri": "https://localhost:8080/",
     "height": 51.0
    },
    "outputId": "169402bb-4993-42ed-98b2-5c03f9f873d5",
    "executionInfo": {
     "status": "ok",
     "timestamp": 1.518622992285E12,
     "user_tz": -360.0,
     "elapsed": 2835.0,
     "user": {
      "displayName": "Shuvendu Bikash",
      "photoUrl": "//lh6.googleusercontent.com/-qmLdelcDhNY/AAAAAAAAAAI/AAAAAAAAOyw/0BejXT-_QPo/s50-c-k-no/photo.jpg",
      "userId": "106434026064423574094"
     }
    }
   },
   "outputs": [
    {
     "name": "stdout",
     "output_type": "stream",
     "text": [
      "Downloading data from https://github.com/fchollet/deep-learning-models/releases/download/v0.1/vgg16_weights_tf_dim_ordering_tf_kernels_notop.h5\n",
      "58892288/58889256 [==============================] - 1s 0us/step\n"
     ]
    }
   ],
   "source": [
    "from keras.applications import VGG16\n",
    "\n",
    "conv_base = VGG16(weights='imagenet',\n",
    "                 include_top=False,\n",
    "                 input_shape=(48, 48, 3))"
   ]
  },
  {
   "cell_type": "code",
   "execution_count": 75,
   "metadata": {
    "id": "_skOPxk9-9v2",
    "colab_type": "code",
    "colab": {
     "autoexec": {
      "startup": false,
      "wait_interval": 0.0
     },
     "output_extras": [
      {
       "item_id": 1.0
      }
     ],
     "base_uri": "https://localhost:8080/",
     "height": 272.0
    },
    "outputId": "9ce900f6-291e-4ca3-8ef1-56d098e2311d",
    "executionInfo": {
     "status": "ok",
     "timestamp": 1.518623116608E12,
     "user_tz": -360.0,
     "elapsed": 1319.0,
     "user": {
      "displayName": "Shuvendu Bikash",
      "photoUrl": "//lh6.googleusercontent.com/-qmLdelcDhNY/AAAAAAAAAAI/AAAAAAAAOyw/0BejXT-_QPo/s50-c-k-no/photo.jpg",
      "userId": "106434026064423574094"
     }
    }
   },
   "outputs": [
    {
     "name": "stdout",
     "output_type": "stream",
     "text": [
      "_________________________________________________________________\n",
      "Layer (type)                 Output Shape              Param #   \n",
      "=================================================================\n",
      "vgg16 (Model)                (None, 1, 1, 512)         14714688  \n",
      "_________________________________________________________________\n",
      "flatten_4 (Flatten)          (None, 512)               0         \n",
      "_________________________________________________________________\n",
      "dense_7 (Dense)              (None, 512)               262656    \n",
      "_________________________________________________________________\n",
      "dense_8 (Dense)              (None, 7)                 3591      \n",
      "=================================================================\n",
      "Total params: 14,980,935\n",
      "Trainable params: 14,980,935\n",
      "Non-trainable params: 0\n",
      "_________________________________________________________________\n"
     ]
    }
   ],
   "source": [
    "model = models.Sequential()\n",
    "\n",
    "model.add(conv_base)\n",
    "model.add(layers.Flatten())\n",
    "model.add(layers.Dense(512, activation='relu'))\n",
    "model.add(layers.Dense(7, activation='softmax'))\n",
    "model.summary()"
   ]
  },
  {
   "cell_type": "code",
   "execution_count": 80,
   "metadata": {
    "id": "clg09hoI_ce1",
    "colab_type": "code",
    "colab": {
     "autoexec": {
      "startup": false,
      "wait_interval": 0.0
     },
     "output_extras": [
      {
       "item_id": 57.0
      },
      {
       "item_id": 102.0
      },
      {
       "item_id": 146.0
      },
      {
       "item_id": 185.0
      },
      {
       "item_id": 223.0
      },
      {
       "item_id": 264.0
      },
      {
       "item_id": 312.0
      },
      {
       "item_id": 340.0
      },
      {
       "item_id": 350.0
      }
     ],
     "base_uri": "https://localhost:8080/",
     "height": 326.0
    },
    "outputId": "d09f4d91-5834-43c8-d48e-f6b24c890f80",
    "executionInfo": {
     "status": "ok",
     "timestamp": 1.518623773926E12,
     "user_tz": -360.0,
     "elapsed": 281971.0,
     "user": {
      "displayName": "Shuvendu Bikash",
      "photoUrl": "//lh6.googleusercontent.com/-qmLdelcDhNY/AAAAAAAAAAI/AAAAAAAAOyw/0BejXT-_QPo/s50-c-k-no/photo.jpg",
      "userId": "106434026064423574094"
     }
    }
   },
   "outputs": [
    {
     "name": "stdout",
     "output_type": "stream",
     "text": [
      "900/900 [==============================] - 32s 36ms/step - loss: 1.4521 - categorical_accuracy: 0.4476 - val_loss: 1.5187 - val_categorical_accuracy: 0.4218\n",
      "Epoch 8/15\n",
      "501/900 [===============>..............] - ETA: 12s - loss: 1.4390 - categorical_accuracy: 0.4523"
     ]
    },
    {
     "name": "stdout",
     "output_type": "stream",
     "text": [
      "900/900 [==============================] - 32s 35ms/step - loss: 1.4397 - categorical_accuracy: 0.4528 - val_loss: 1.4941 - val_categorical_accuracy: 0.4260\n",
      "Epoch 9/15\n",
      "602/900 [===================>..........] - ETA: 9s - loss: 1.4304 - categorical_accuracy: 0.4571"
     ]
    },
    {
     "name": "stdout",
     "output_type": "stream",
     "text": [
      "900/900 [==============================] - 32s 36ms/step - loss: 1.4285 - categorical_accuracy: 0.4573 - val_loss: 1.4996 - val_categorical_accuracy: 0.4243\n",
      "Epoch 10/15\n",
      "633/900 [====================>.........] - ETA: 8s - loss: 1.4168 - categorical_accuracy: 0.4624"
     ]
    },
    {
     "name": "stdout",
     "output_type": "stream",
     "text": [
      "900/900 [==============================] - 32s 35ms/step - loss: 1.4205 - categorical_accuracy: 0.4617 - val_loss: 1.4803 - val_categorical_accuracy: 0.4353\n",
      "Epoch 11/15\n",
      "642/900 [====================>.........] - ETA: 8s - loss: 1.4102 - categorical_accuracy: 0.4639"
     ]
    },
    {
     "name": "stdout",
     "output_type": "stream",
     "text": [
      "900/900 [==============================] - 32s 36ms/step - loss: 1.4074 - categorical_accuracy: 0.4657 - val_loss: 1.5057 - val_categorical_accuracy: 0.4254\n",
      "Epoch 12/15\n",
      "649/900 [====================>.........] - ETA: 8s - loss: 1.3995 - categorical_accuracy: 0.4713"
     ]
    },
    {
     "name": "stdout",
     "output_type": "stream",
     "text": [
      "900/900 [==============================] - 32s 36ms/step - loss: 1.4002 - categorical_accuracy: 0.4705 - val_loss: 1.4783 - val_categorical_accuracy: 0.4358\n",
      "Epoch 13/15\n",
      "649/900 [====================>.........] - ETA: 7s - loss: 1.3896 - categorical_accuracy: 0.4775"
     ]
    },
    {
     "name": "stdout",
     "output_type": "stream",
     "text": [
      "900/900 [==============================] - 32s 35ms/step - loss: 1.3879 - categorical_accuracy: 0.4764 - val_loss: 1.5046 - val_categorical_accuracy: 0.4227\n",
      "Epoch 14/15\n",
      "653/900 [====================>.........] - ETA: 7s - loss: 1.3767 - categorical_accuracy: 0.4824"
     ]
    },
    {
     "name": "stdout",
     "output_type": "stream",
     "text": [
      "900/900 [==============================] - 32s 36ms/step - loss: 1.3786 - categorical_accuracy: 0.4804 - val_loss: 1.4999 - val_categorical_accuracy: 0.4342\n",
      "Epoch 15/15\n",
      "652/900 [====================>.........] - ETA: 7s - loss: 1.3725 - categorical_accuracy: 0.4852"
     ]
    },
    {
     "name": "stdout",
     "output_type": "stream",
     "text": [
      "900/900 [==============================] - 32s 36ms/step - loss: 1.3715 - categorical_accuracy: 0.4855 - val_loss: 1.4598 - val_categorical_accuracy: 0.4531\n"
     ]
    }
   ],
   "source": [
    "conv_base.trainable = False\n",
    "print('This is the number of trainable weights before freezing the conv base:', len(model.trainable_weights))\n",
    "\n",
    "model.compile(\n",
    "    optimizer=optimizers.RMSprop(lr=1e-4), \n",
    "    loss=losses.categorical_crossentropy, \n",
    "    metrics=[metrics.categorical_accuracy]\n",
    ")\n",
    "\n",
    "history = model.fit_generator(train_generator, \n",
    "                              steps_per_epoch=900, \n",
    "                              epochs=15, \n",
    "                              validation_data=validation_generator, \n",
    "                              validation_steps=115)"
   ]
  },
  {
   "cell_type": "code",
   "execution_count": 0,
   "metadata": {
    "id": "Atle6EGR_o-T",
    "colab_type": "code",
    "colab": {
     "autoexec": {
      "startup": false,
      "wait_interval": 0.0
     }
    }
   },
   "outputs": [],
   "source": [
    "conv_base.trainable = True\n",
    "set_trainable = False\n",
    "for layer in conv_base.layers:\n",
    "    if layer.name == 'block5_conv1':\n",
    "        set_trainable = True\n",
    "    if set_trainable:\n",
    "        layer.trainable = True\n",
    "    else:\n",
    "        layer.trainable = False"
   ]
  },
  {
   "cell_type": "code",
   "execution_count": 0,
   "metadata": {
    "id": "gpT0IIyLAWpR",
    "colab_type": "code",
    "colab": {
     "autoexec": {
      "startup": false,
      "wait_interval": 0.0
     },
     "output_extras": [
      {
       "item_id": 54.0
      },
      {
       "item_id": 114.0
      },
      {
       "item_id": 174.0
      },
      {
       "item_id": 243.0
      },
      {
       "item_id": 298.0
      },
      {
       "item_id": 363.0
      },
      {
       "item_id": 430.0
      },
      {
       "item_id": 470.0
      },
      {
       "item_id": 520.0
      },
      {
       "item_id": 560.0
      },
      {
       "item_id": 596.0
      },
      {
       "item_id": 640.0
      },
      {
       "item_id": 683.0
      },
      {
       "item_id": 736.0
      },
      {
       "item_id": 796.0
      },
      {
       "item_id": 859.0
      },
      {
       "item_id": 914.0
      },
      {
       "item_id": 976.0
      },
      {
       "item_id": 1034.0
      },
      {
       "item_id": 1098.0
      },
      {
       "item_id": 1155.0
      },
      {
       "item_id": 1222.0
      },
      {
       "item_id": 1284.0
      },
      {
       "item_id": 1353.0
      },
      {
       "item_id": 1425.0
      },
      {
       "item_id": 1485.0
      },
      {
       "item_id": 1510.0
      }
     ],
     "base_uri": "https://localhost:8080/",
     "height": 955.0
    },
    "outputId": "5cbf1a75-da29-4d65-b4ba-5f33fc625ceb"
   },
   "outputs": [
    {
     "name": "stdout",
     "output_type": "stream",
     "text": [
      "Epoch 1/30\n",
      "900/900 [==============================] - 48s 53ms/step - loss: 1.4918 - categorical_accuracy: 0.4282 - val_loss: 1.3534 - val_categorical_accuracy: 0.4771\n",
      "Epoch 2/30\n",
      "224/900 [======>.......................] - ETA: 32s - loss: 1.2861 - categorical_accuracy: 0.5146"
     ]
    },
    {
     "name": "stdout",
     "output_type": "stream",
     "text": [
      "900/900 [==============================] - 47s 52ms/step - loss: 1.2804 - categorical_accuracy: 0.5169 - val_loss: 1.3517 - val_categorical_accuracy: 0.5004\n",
      "Epoch 3/30\n",
      "357/900 [==========>...................] - ETA: 26s - loss: 1.1627 - categorical_accuracy: 0.5629"
     ]
    },
    {
     "name": "stdout",
     "output_type": "stream",
     "text": [
      "900/900 [==============================] - 47s 52ms/step - loss: 1.1609 - categorical_accuracy: 0.5660 - val_loss: 1.3228 - val_categorical_accuracy: 0.5111\n",
      "Epoch 4/30\n",
      "384/900 [===========>..................] - ETA: 25s - loss: 1.0394 - categorical_accuracy: 0.6144"
     ]
    },
    {
     "name": "stdout",
     "output_type": "stream",
     "text": [
      "900/900 [==============================] - 47s 52ms/step - loss: 1.0462 - categorical_accuracy: 0.6115 - val_loss: 1.2752 - val_categorical_accuracy: 0.5494\n",
      "Epoch 5/30\n",
      "384/900 [===========>..................] - ETA: 25s - loss: 0.9212 - categorical_accuracy: 0.6572"
     ]
    },
    {
     "name": "stdout",
     "output_type": "stream",
     "text": [
      "900/900 [==============================] - 47s 53ms/step - loss: 0.9340 - categorical_accuracy: 0.6557 - val_loss: 1.2872 - val_categorical_accuracy: 0.5604\n",
      "Epoch 6/30\n",
      "384/900 [===========>..................] - ETA: 25s - loss: 0.8030 - categorical_accuracy: 0.7043"
     ]
    },
    {
     "name": "stdout",
     "output_type": "stream",
     "text": [
      "900/900 [==============================] - 47s 52ms/step - loss: 0.8191 - categorical_accuracy: 0.7010 - val_loss: 1.4406 - val_categorical_accuracy: 0.5634\n",
      "Epoch 7/30\n",
      "417/900 [============>.................] - ETA: 23s - loss: 0.6940 - categorical_accuracy: 0.7496"
     ]
    },
    {
     "name": "stdout",
     "output_type": "stream",
     "text": [
      "900/900 [==============================] - 47s 52ms/step - loss: 0.7098 - categorical_accuracy: 0.7449 - val_loss: 1.5557 - val_categorical_accuracy: 0.5705\n",
      "Epoch 8/30\n",
      "407/900 [============>.................] - ETA: 24s - loss: 0.5906 - categorical_accuracy: 0.7892"
     ]
    },
    {
     "name": "stdout",
     "output_type": "stream",
     "text": [
      "900/900 [==============================] - 47s 52ms/step - loss: 0.6080 - categorical_accuracy: 0.7832 - val_loss: 1.5862 - val_categorical_accuracy: 0.5905\n",
      "Epoch 9/30\n",
      "410/900 [============>.................] - ETA: 23s - loss: 0.5025 - categorical_accuracy: 0.8231"
     ]
    },
    {
     "name": "stdout",
     "output_type": "stream",
     "text": [
      "900/900 [==============================] - 47s 52ms/step - loss: 0.5210 - categorical_accuracy: 0.8158 - val_loss: 1.9365 - val_categorical_accuracy: 0.5535\n",
      "Epoch 10/30\n",
      "408/900 [============>.................] - ETA: 24s - loss: 0.4372 - categorical_accuracy: 0.8486"
     ]
    },
    {
     "name": "stdout",
     "output_type": "stream",
     "text": [
      "900/900 [==============================] - 47s 52ms/step - loss: 0.4438 - categorical_accuracy: 0.8446 - val_loss: 1.9239 - val_categorical_accuracy: 0.5812\n",
      "Epoch 11/30\n",
      "400/900 [============>.................] - ETA: 24s - loss: 0.3646 - categorical_accuracy: 0.8745"
     ]
    },
    {
     "name": "stdout",
     "output_type": "stream",
     "text": [
      "900/900 [==============================] - 47s 52ms/step - loss: 0.3754 - categorical_accuracy: 0.8700 - val_loss: 2.0079 - val_categorical_accuracy: 0.5598\n",
      "Epoch 12/30\n",
      "398/900 [============>.................] - ETA: 24s - loss: 0.3148 - categorical_accuracy: 0.8931"
     ]
    },
    {
     "name": "stdout",
     "output_type": "stream",
     "text": [
      "900/900 [==============================] - 47s 52ms/step - loss: 0.3332 - categorical_accuracy: 0.8863 - val_loss: 2.1530 - val_categorical_accuracy: 0.5661\n",
      "Epoch 13/30\n",
      "402/900 [============>.................] - ETA: 24s - loss: 0.2803 - categorical_accuracy: 0.9077"
     ]
    },
    {
     "name": "stdout",
     "output_type": "stream",
     "text": [
      "900/900 [==============================] - 47s 52ms/step - loss: 0.2906 - categorical_accuracy: 0.9043 - val_loss: 2.0975 - val_categorical_accuracy: 0.5669\n",
      "Epoch 14/30\n",
      "439/900 [=============>................] - ETA: 22s - loss: 0.2510 - categorical_accuracy: 0.9181"
     ]
    },
    {
     "name": "stdout",
     "output_type": "stream",
     "text": [
      "900/900 [==============================] - 47s 52ms/step - loss: 0.2575 - categorical_accuracy: 0.9144 - val_loss: 2.5854 - val_categorical_accuracy: 0.5494\n",
      "Epoch 15/30\n",
      "393/900 [============>.................] - ETA: 24s - loss: 0.2216 - categorical_accuracy: 0.9264"
     ]
    },
    {
     "name": "stdout",
     "output_type": "stream",
     "text": [
      "900/900 [==============================] - 47s 52ms/step - loss: 0.2351 - categorical_accuracy: 0.9230 - val_loss: 2.3545 - val_categorical_accuracy: 0.5866\n",
      "Epoch 16/30\n",
      "401/900 [============>.................] - ETA: 24s - loss: 0.2080 - categorical_accuracy: 0.9377"
     ]
    },
    {
     "name": "stdout",
     "output_type": "stream",
     "text": [
      "900/900 [==============================] - 47s 52ms/step - loss: 0.2229 - categorical_accuracy: 0.9320 - val_loss: 2.3921 - val_categorical_accuracy: 0.5738\n",
      "Epoch 17/30\n",
      "410/900 [============>.................] - ETA: 23s - loss: 0.1914 - categorical_accuracy: 0.9414"
     ]
    },
    {
     "name": "stdout",
     "output_type": "stream",
     "text": [
      "900/900 [==============================] - 47s 52ms/step - loss: 0.1996 - categorical_accuracy: 0.9375 - val_loss: 2.5038 - val_categorical_accuracy: 0.5795\n",
      "Epoch 18/30\n",
      "408/900 [============>.................] - ETA: 23s - loss: 0.1720 - categorical_accuracy: 0.9451"
     ]
    },
    {
     "name": "stdout",
     "output_type": "stream",
     "text": [
      "900/900 [==============================] - 47s 52ms/step - loss: 0.1856 - categorical_accuracy: 0.9416 - val_loss: 2.9242 - val_categorical_accuracy: 0.5792\n",
      "Epoch 19/30\n",
      "402/900 [============>.................] - ETA: 24s - loss: 0.1658 - categorical_accuracy: 0.9479"
     ]
    },
    {
     "name": "stdout",
     "output_type": "stream",
     "text": [
      "900/900 [==============================] - 47s 52ms/step - loss: 0.1815 - categorical_accuracy: 0.9442 - val_loss: 2.5022 - val_categorical_accuracy: 0.5773\n",
      "Epoch 20/30\n",
      "397/900 [============>.................] - ETA: 24s - loss: 0.1578 - categorical_accuracy: 0.9532"
     ]
    },
    {
     "name": "stdout",
     "output_type": "stream",
     "text": [
      "900/900 [==============================] - 47s 52ms/step - loss: 0.1623 - categorical_accuracy: 0.9512 - val_loss: 2.9038 - val_categorical_accuracy: 0.5615\n",
      "Epoch 21/30\n",
      "386/900 [===========>..................] - ETA: 25s - loss: 0.1596 - categorical_accuracy: 0.9542"
     ]
    },
    {
     "name": "stdout",
     "output_type": "stream",
     "text": [
      "900/900 [==============================] - 47s 53ms/step - loss: 0.1667 - categorical_accuracy: 0.9514 - val_loss: 2.5588 - val_categorical_accuracy: 0.5803\n",
      "Epoch 22/30\n",
      "388/900 [===========>..................] - ETA: 24s - loss: 0.1504 - categorical_accuracy: 0.9558"
     ]
    },
    {
     "name": "stdout",
     "output_type": "stream",
     "text": [
      "900/900 [==============================] - 47s 52ms/step - loss: 0.1556 - categorical_accuracy: 0.9550 - val_loss: 3.3136 - val_categorical_accuracy: 0.5806\n",
      "Epoch 23/30\n",
      "405/900 [============>.................] - ETA: 24s - loss: 0.1486 - categorical_accuracy: 0.9585"
     ]
    },
    {
     "name": "stdout",
     "output_type": "stream",
     "text": [
      "900/900 [==============================] - 47s 52ms/step - loss: 0.1493 - categorical_accuracy: 0.9575 - val_loss: 3.1114 - val_categorical_accuracy: 0.5823\n",
      "Epoch 24/30\n",
      "393/900 [============>.................] - ETA: 24s - loss: 0.1387 - categorical_accuracy: 0.9573"
     ]
    },
    {
     "name": "stdout",
     "output_type": "stream",
     "text": [
      "900/900 [==============================] - 47s 53ms/step - loss: 0.1500 - categorical_accuracy: 0.9567 - val_loss: 3.3501 - val_categorical_accuracy: 0.5453\n",
      "Epoch 25/30\n",
      "381/900 [===========>..................] - ETA: 25s - loss: 0.1378 - categorical_accuracy: 0.9595"
     ]
    },
    {
     "name": "stdout",
     "output_type": "stream",
     "text": [
      "900/900 [==============================] - 47s 53ms/step - loss: 0.1463 - categorical_accuracy: 0.9589 - val_loss: 2.7498 - val_categorical_accuracy: 0.5628\n",
      "Epoch 26/30\n",
      "384/900 [===========>..................] - ETA: 25s - loss: 0.1314 - categorical_accuracy: 0.9635"
     ]
    },
    {
     "name": "stdout",
     "output_type": "stream",
     "text": [
      "900/900 [==============================] - 47s 53ms/step - loss: 0.1407 - categorical_accuracy: 0.9616 - val_loss: 3.2889 - val_categorical_accuracy: 0.5407\n",
      "Epoch 27/30\n",
      "392/900 [============>.................] - ETA: 24s - loss: 0.1267 - categorical_accuracy: 0.9651"
     ]
    },
    {
     "name": "stdout",
     "output_type": "stream",
     "text": [
      "900/900 [==============================] - 47s 53ms/step - loss: 0.1351 - categorical_accuracy: 0.9623 - val_loss: 2.9968 - val_categorical_accuracy: 0.5864\n",
      "Epoch 28/30\n",
      " 61/900 [=>............................] - ETA: 41s - loss: 0.1130 - categorical_accuracy: 0.9698"
     ]
    }
   ],
   "source": [
    "model.compile(\n",
    "    optimizer=optimizers.RMSprop(lr=1e-4), \n",
    "    loss=losses.categorical_crossentropy, \n",
    "    metrics=[metrics.categorical_accuracy]\n",
    ")\n",
    "\n",
    "history = model.fit_generator(train_generator, \n",
    "                              steps_per_epoch=900, \n",
    "                              epochs=30, \n",
    "                              validation_data=validation_generator, \n",
    "                              validation_steps=115)"
   ]
  },
  {
   "cell_type": "code",
   "execution_count": 0,
   "metadata": {
    "id": "X9QrfV3vAig7",
    "colab_type": "code",
    "colab": {
     "autoexec": {
      "startup": false,
      "wait_interval": 0.0
     }
    }
   },
   "outputs": [],
   "source": [
    "import matplotlib.pyplot as plt\n",
    "\n",
    "acc = history.history['categorical_accuracy']\n",
    "val_acc = history.history['val_categorical_accuracy']\n",
    "loss = history.history['loss']\n",
    "val_loss = history.history['val_loss']\n",
    "\n",
    "epochs = range(1, len(acc)+1)\n",
    "\n",
    "plt.plot(epochs, acc, 'bo', label='Training acc')\n",
    "plt.plot(epochs, val_acc, 'b', label='Validation acc')\n",
    "plt.title('Training and validation accuracy')\n",
    "plt.legend()\n",
    "\n",
    "plt.figure()\n",
    "plt.plot(epochs, loss, 'bo', label='Training losses')\n",
    "plt.plot(epochs, val_loss, 'b', label='Validation losses')\n",
    "plt.title('Training and validation loss')\n",
    "plt.legend()\n",
    "\n",
    "plt.show()"
   ]
  },
  {
   "cell_type": "code",
   "execution_count": 0,
   "metadata": {
    "id": "3xtr7CZuAkfM",
    "colab_type": "code",
    "colab": {
     "autoexec": {
      "startup": false,
      "wait_interval": 0.0
     }
    }
   },
   "outputs": [],
   "source": [
    "model.save('finetuning_on_pretrained_vgg16.h5')"
   ]
  },
  {
   "cell_type": "code",
   "execution_count": 0,
   "metadata": {
    "id": "QPXZN2yECaPG",
    "colab_type": "code",
    "colab": {
     "autoexec": {
      "startup": false,
      "wait_interval": 0.0
     }
    }
   },
   "outputs": [],
   "source": [
    "from google.colab import files\n",
    "files.download('finetuning_on_pretrained_vgg16.h5')"
   ]
  },
  {
   "cell_type": "code",
   "execution_count": 0,
   "metadata": {
    "id": "v_hmXE3aChWn",
    "colab_type": "code",
    "colab": {
     "autoexec": {
      "startup": false,
      "wait_interval": 0.0
     }
    }
   },
   "outputs": [],
   "source": [
    ""
   ]
  }
 ],
 "metadata": {
  "colab": {
   "name": "Emotion_detection.ipynb",
   "version": "0.3.2",
   "views": {},
   "default_view": {},
   "provenance": [],
   "collapsed_sections": []
  },
  "kernelspec": {
   "name": "python3",
   "display_name": "Python 3"
  },
  "accelerator": "GPU"
 },
 "nbformat": 4,
 "nbformat_minor": 0
}
