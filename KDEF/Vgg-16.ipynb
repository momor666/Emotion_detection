{
 "cells": [
  {
   "cell_type": "code",
   "execution_count": null,
   "metadata": {
    "colab": {
     "autoexec": {
      "startup": false,
      "wait_interval": 0
     }
    },
    "colab_type": "code",
    "id": "V95Uwl8F2u_S"
   },
   "outputs": [],
   "source": [
    "import numpy as np\n",
    "import pandas as pd\n",
    "import matplotlib.pyplot as plt\n",
    "import keras"
   ]
  },
  {
   "cell_type": "code",
   "execution_count": null,
   "metadata": {
    "colab": {
     "autoexec": {
      "startup": false,
      "wait_interval": 0
     }
    },
    "colab_type": "code",
    "collapsed": true,
    "id": "yPhuoPtMz_WG"
   },
   "outputs": [],
   "source": [
    "from os import listdir\n",
    "path = \"data\\\\KDEF\"\n",
    "pathlist = listdir(path)"
   ]
  },
  {
   "cell_type": "code",
   "execution_count": 4,
   "metadata": {
    "colab": {
     "autoexec": {
      "startup": false,
      "wait_interval": 0
     },
     "base_uri": "https://localhost:8080/",
     "height": 34,
     "output_extras": [
      {
       "item_id": 1
      }
     ]
    },
    "colab_type": "code",
    "collapsed": true,
    "executionInfo": {
     "elapsed": 1716,
     "status": "ok",
     "timestamp": 1518620256984,
     "user": {
      "displayName": "Shuvendu Bikash",
      "photoUrl": "//lh6.googleusercontent.com/-qmLdelcDhNY/AAAAAAAAAAI/AAAAAAAAOyw/0BejXT-_QPo/s50-c-k-no/photo.jpg",
      "userId": "106434026064423574094"
     },
     "user_tz": -360
    },
    "id": "u8AbJ2ar0MuQ",
    "outputId": "7a1f825b-022a-48a7-c905-17dbd8a48e9a"
   },
   "outputs": [],
   "source": [
    "from shutil import copyfile\n",
    "import os\n",
    "\n",
    "for i in range(len(pathlist)):\n",
    "    img_path = listdir(path+\"\\\\\"+pathlist[i])\n",
    "    for j in range(len(img_path)):\n",
    "        if(img_path[j][4:6]==\"AF\"):\n",
    "            dst = \"data\\\\AF\"\n",
    "        elif(img_path[j][4:6]==\"AN\"):\n",
    "            dst = \"data\\\\AN\"\n",
    "        elif(img_path[j][4:6]==\"DI\"):\n",
    "            dst = \"data\\\\DI\"\n",
    "        elif(img_path[j][4:6]==\"HA\"):\n",
    "            dst = \"data\\\\HA\"\n",
    "        elif(img_path[j][4:6]==\"NE\"):\n",
    "            dst = \"data\\\\NE\"\n",
    "        elif(img_path[j][4:6]==\"SA\"):\n",
    "            dst = \"data\\\\SA\"\n",
    "        elif(img_path[j][4:6]==\"SU\"):\n",
    "            dst = \"data\\\\SU\"\n",
    "        \n",
    "        if not os.path.exists(dst):\n",
    "            os.makedirs(dst)\n",
    "        \n",
    "        src = path+\"\\\\\"+pathlist[i]+\"\\\\\"+img_path[j]\n",
    "        dst = dst + \"\\\\\" + img_path[j]\n",
    "        try:\n",
    "            copyfile(src, dst)\n",
    "        except:\n",
    "            pass"
   ]
  },
  {
   "cell_type": "code",
   "execution_count": 19,
   "metadata": {},
   "outputs": [],
   "source": [
    "root = 'data'\n",
    "for path in [\"AF\", \"AN\", \"DI\", \"HA\", \"NE\", \"SA\", \"SU\"]:\n",
    "    os.makedirs('data\\\\train\\\\'+path, exist_ok=True)\n",
    "    os.makedirs('data\\\\test\\\\'+path, exist_ok=True)\n",
    "    file = listdir(os.path.join(root, path))\n",
    "    \n",
    "    for image in file:\n",
    "        subdir = np.random.choice(['train', 'test'], p=[0.95, 0.05])\n",
    "        src = 'data\\\\'+path+'\\\\'+image\n",
    "        dst = 'data\\\\'+subdir+'\\\\'+path+'\\\\'+image\n",
    "        try:\n",
    "            copyfile(src, dst)\n",
    "        except:\n",
    "            pass"
   ]
  },
  {
   "cell_type": "markdown",
   "metadata": {
    "colab_type": "text",
    "id": "teiwDTpF6Eq8"
   },
   "source": [
    "# Training with CNN"
   ]
  },
  {
   "cell_type": "code",
   "execution_count": 2,
   "metadata": {
    "colab": {
     "autoexec": {
      "startup": false,
      "wait_interval": 0
     }
    },
    "colab_type": "code",
    "id": "ckDWqMjk4yBE"
   },
   "outputs": [],
   "source": [
    "from keras.datasets import mnist\n",
    "from keras.utils import to_categorical\n",
    "\n",
    "from keras import models\n",
    "from keras import layers\n",
    "\n",
    "from keras import losses, optimizers, metrics\n"
   ]
  },
  {
   "cell_type": "code",
   "execution_count": 3,
   "metadata": {
    "colab": {
     "autoexec": {
      "startup": false,
      "wait_interval": 0
     },
     "base_uri": "https://localhost:8080/",
     "height": 51,
     "output_extras": [
      {
       "item_id": 2
      }
     ]
    },
    "colab_type": "code",
    "executionInfo": {
     "elapsed": 2038,
     "status": "ok",
     "timestamp": 1518623283961,
     "user": {
      "displayName": "Shuvendu Bikash",
      "photoUrl": "//lh6.googleusercontent.com/-qmLdelcDhNY/AAAAAAAAAAI/AAAAAAAAOyw/0BejXT-_QPo/s50-c-k-no/photo.jpg",
      "userId": "106434026064423574094"
     },
     "user_tz": -360
    },
    "id": "4mp5FXso6yJv",
    "outputId": "6659d994-0eba-464b-d45a-f69d82ecd360"
   },
   "outputs": [
    {
     "name": "stdout",
     "output_type": "stream",
     "text": [
      "Found 4651 images belonging to 7 classes.\n",
      "Found 247 images belonging to 7 classes.\n"
     ]
    }
   ],
   "source": [
    "from keras.preprocessing.image import ImageDataGenerator\n",
    "train_dir = 'data\\\\train'\n",
    "test_dir ='data\\\\test'\n",
    "\n",
    "\n",
    "train_datagen = ImageDataGenerator(rescale=1./255)\n",
    "test_datagen = ImageDataGenerator(rescale=1./255)\n",
    "\n",
    "train_generator = train_datagen.flow_from_directory(\n",
    "    train_dir,\n",
    "    target_size = (224, 224),\n",
    "    batch_size=32\n",
    ")\n",
    "\n",
    "validation_generator = test_datagen.flow_from_directory(\n",
    "    test_dir,\n",
    "    target_size = (224, 224),\n",
    "    batch_size=8\n",
    ")"
   ]
  },
  {
   "cell_type": "code",
   "execution_count": 24,
   "metadata": {
    "colab": {
     "autoexec": {
      "startup": false,
      "wait_interval": 0
     },
     "base_uri": "https://localhost:8080/",
     "height": 408,
     "output_extras": [
      {
       "item_id": 1
      }
     ]
    },
    "colab_type": "code",
    "executionInfo": {
     "elapsed": 1064,
     "status": "ok",
     "timestamp": 1518622287177,
     "user": {
      "displayName": "Shuvendu Bikash",
      "photoUrl": "//lh6.googleusercontent.com/-qmLdelcDhNY/AAAAAAAAAAI/AAAAAAAAOyw/0BejXT-_QPo/s50-c-k-no/photo.jpg",
      "userId": "106434026064423574094"
     },
     "user_tz": -360
    },
    "id": "hbfMDbq26Gs3",
    "outputId": "3261ea97-1c67-4d80-acdd-7bc359614fb7"
   },
   "outputs": [
    {
     "name": "stdout",
     "output_type": "stream",
     "text": [
      "_________________________________________________________________\n",
      "Layer (type)                 Output Shape              Param #   \n",
      "=================================================================\n",
      "conv2d_4 (Conv2D)            (None, 222, 222, 32)      896       \n",
      "_________________________________________________________________\n",
      "max_pooling2d_4 (MaxPooling2 (None, 111, 111, 32)      0         \n",
      "_________________________________________________________________\n",
      "conv2d_5 (Conv2D)            (None, 109, 109, 64)      18496     \n",
      "_________________________________________________________________\n",
      "max_pooling2d_5 (MaxPooling2 (None, 54, 54, 64)        0         \n",
      "_________________________________________________________________\n",
      "conv2d_6 (Conv2D)            (None, 52, 52, 64)        36928     \n",
      "_________________________________________________________________\n",
      "max_pooling2d_6 (MaxPooling2 (None, 26, 26, 64)        0         \n",
      "_________________________________________________________________\n",
      "flatten_2 (Flatten)          (None, 43264)             0         \n",
      "_________________________________________________________________\n",
      "dense_3 (Dense)              (None, 128)               5537920   \n",
      "_________________________________________________________________\n",
      "dense_4 (Dense)              (None, 7)                 903       \n",
      "=================================================================\n",
      "Total params: 5,595,143\n",
      "Trainable params: 5,595,143\n",
      "Non-trainable params: 0\n",
      "_________________________________________________________________\n"
     ]
    }
   ],
   "source": [
    "model = models.Sequential()\n",
    "\n",
    "model.add(layers.Conv2D(32, (3, 3), activation='relu', input_shape=(224, 224, 3)))\n",
    "model.add(layers.MaxPool2D((2, 2)))\n",
    "model.add(layers.Conv2D(64, (3,3), activation='relu'))\n",
    "model.add(layers.MaxPool2D((2,2)))\n",
    "model.add(layers.Conv2D(64, (3,3), activation='relu'))\n",
    "model.add(layers.MaxPool2D((2,2)))\n",
    "\n",
    "model.add(layers.Flatten())\n",
    "model.add(layers.Dense(128, activation='relu'))\n",
    "model.add(layers.Dense(7, activation='softmax'))\n",
    "\n",
    "model.summary()"
   ]
  },
  {
   "cell_type": "code",
   "execution_count": 25,
   "metadata": {
    "colab": {
     "autoexec": {
      "startup": false,
      "wait_interval": 0
     },
     "base_uri": "https://localhost:8080/",
     "height": 1037,
     "output_extras": [
      {
       "item_id": 52
      },
      {
       "item_id": 104
      },
      {
       "item_id": 152
      },
      {
       "item_id": 195
      },
      {
       "item_id": 238
      },
      {
       "item_id": 286
      },
      {
       "item_id": 333
      },
      {
       "item_id": 366
      },
      {
       "item_id": 398
      },
      {
       "item_id": 442
      },
      {
       "item_id": 486
      },
      {
       "item_id": 528
      },
      {
       "item_id": 578
      },
      {
       "item_id": 613
      },
      {
       "item_id": 643
      }
     ]
    },
    "colab_type": "code",
    "executionInfo": {
     "elapsed": 458294,
     "status": "ok",
     "timestamp": 1518622751496,
     "user": {
      "displayName": "Shuvendu Bikash",
      "photoUrl": "//lh6.googleusercontent.com/-qmLdelcDhNY/AAAAAAAAAAI/AAAAAAAAOyw/0BejXT-_QPo/s50-c-k-no/photo.jpg",
      "userId": "106434026064423574094"
     },
     "user_tz": -360
    },
    "id": "T9gPtISE6kpg",
    "outputId": "c44a04fd-8422-424a-c244-42bd6f7d9c15"
   },
   "outputs": [
    {
     "name": "stdout",
     "output_type": "stream",
     "text": [
      "Epoch 1/50\n",
      "146/146 [==============================] - 35s 239ms/step - loss: 1.9407 - acc: 0.1656 - val_loss: 1.9039 - val_acc: 0.2794\n",
      "Epoch 2/50\n",
      "146/146 [==============================] - 32s 223ms/step - loss: 1.8585 - acc: 0.2554 - val_loss: 1.7706 - val_acc: 0.3198\n",
      "Epoch 3/50\n",
      "146/146 [==============================] - 31s 213ms/step - loss: 1.6458 - acc: 0.3803 - val_loss: 1.4951 - val_acc: 0.4575\n",
      "Epoch 4/50\n",
      "146/146 [==============================] - 33s 226ms/step - loss: 1.3143 - acc: 0.5176 - val_loss: 1.2707 - val_acc: 0.5668\n",
      "Epoch 5/50\n",
      "146/146 [==============================] - 33s 225ms/step - loss: 1.0704 - acc: 0.6175 - val_loss: 1.2012 - val_acc: 0.5101\n",
      "Epoch 6/50\n",
      "146/146 [==============================] - 32s 221ms/step - loss: 0.9280 - acc: 0.6583 - val_loss: 1.0564 - val_acc: 0.5911\n",
      "Epoch 7/50\n",
      "146/146 [==============================] - 32s 218ms/step - loss: 0.8314 - acc: 0.6994 - val_loss: 1.0106 - val_acc: 0.6154\n",
      "Epoch 8/50\n",
      "146/146 [==============================] - 32s 216ms/step - loss: 0.7353 - acc: 0.7415 - val_loss: 1.0025 - val_acc: 0.5870\n",
      "Epoch 9/50\n",
      "146/146 [==============================] - 32s 219ms/step - loss: 0.6763 - acc: 0.7585 - val_loss: 0.9475 - val_acc: 0.6032\n",
      "Epoch 10/50\n",
      "146/146 [==============================] - 31s 214ms/step - loss: 0.6068 - acc: 0.7841 - val_loss: 0.9260 - val_acc: 0.6559\n",
      "Epoch 11/50\n",
      "146/146 [==============================] - 33s 228ms/step - loss: 0.5511 - acc: 0.8081 - val_loss: 0.9212 - val_acc: 0.6437\n",
      "Epoch 12/50\n",
      "146/146 [==============================] - 35s 237ms/step - loss: 0.4885 - acc: 0.8372 - val_loss: 0.8996 - val_acc: 0.6559\n",
      "Epoch 13/50\n",
      "146/146 [==============================] - 34s 232ms/step - loss: 0.4406 - acc: 0.8495 - val_loss: 0.8838 - val_acc: 0.6761\n",
      "Epoch 14/50\n",
      "146/146 [==============================] - 32s 221ms/step - loss: 0.3914 - acc: 0.8697 - val_loss: 0.8853 - val_acc: 0.6883\n",
      "Epoch 15/50\n",
      "146/146 [==============================] - 33s 226ms/step - loss: 0.3417 - acc: 0.8951 - val_loss: 0.8866 - val_acc: 0.6923\n",
      "Epoch 16/50\n",
      "146/146 [==============================] - 32s 219ms/step - loss: 0.3154 - acc: 0.9016 - val_loss: 0.8922 - val_acc: 0.6923\n",
      "Epoch 17/50\n",
      "146/146 [==============================] - 32s 217ms/step - loss: 0.2755 - acc: 0.9140 - val_loss: 0.9365 - val_acc: 0.6923\n",
      "Epoch 18/50\n",
      "146/146 [==============================] - 32s 218ms/step - loss: 0.2404 - acc: 0.9296 - val_loss: 0.9496 - val_acc: 0.6964\n",
      "Epoch 19/50\n",
      "146/146 [==============================] - 33s 224ms/step - loss: 0.2119 - acc: 0.9433 - val_loss: 0.9637 - val_acc: 0.7287\n",
      "Epoch 20/50\n",
      "146/146 [==============================] - 31s 214ms/step - loss: 0.1827 - acc: 0.9493 - val_loss: 0.9440 - val_acc: 0.7166\n",
      "Epoch 21/50\n",
      "146/146 [==============================] - 31s 214ms/step - loss: 0.1620 - acc: 0.9604 - val_loss: 0.9061 - val_acc: 0.7004\n",
      "Epoch 22/50\n",
      "146/146 [==============================] - 34s 236ms/step - loss: 0.1418 - acc: 0.9656 - val_loss: 1.0567 - val_acc: 0.6802\n",
      "Epoch 23/50\n",
      "146/146 [==============================] - 40s 277ms/step - loss: 0.1103 - acc: 0.9782 - val_loss: 1.0438 - val_acc: 0.7166\n",
      "Epoch 24/50\n",
      "146/146 [==============================] - 39s 266ms/step - loss: 0.0960 - acc: 0.9809 - val_loss: 1.0078 - val_acc: 0.7126\n",
      "Epoch 25/50\n",
      "146/146 [==============================] - 31s 214ms/step - loss: 0.0798 - acc: 0.9846 - val_loss: 1.0465 - val_acc: 0.7247\n",
      "Epoch 26/50\n",
      "146/146 [==============================] - 31s 213ms/step - loss: 0.0702 - acc: 0.9908 - val_loss: 1.0997 - val_acc: 0.7166\n",
      "Epoch 27/50\n",
      "146/146 [==============================] - 31s 212ms/step - loss: 0.0628 - acc: 0.9899 - val_loss: 1.1565 - val_acc: 0.7247\n",
      "Epoch 28/50\n",
      "146/146 [==============================] - 31s 211ms/step - loss: 0.0457 - acc: 0.9949 - val_loss: 1.1168 - val_acc: 0.7206\n",
      "Epoch 29/50\n",
      "146/146 [==============================] - 31s 212ms/step - loss: 0.0379 - acc: 0.9970 - val_loss: 1.1511 - val_acc: 0.7368\n",
      "Epoch 30/50\n",
      "146/146 [==============================] - 31s 213ms/step - loss: 0.0312 - acc: 0.9974 - val_loss: 1.2298 - val_acc: 0.7247\n",
      "Epoch 31/50\n",
      "146/146 [==============================] - 34s 232ms/step - loss: 0.0279 - acc: 0.9974 - val_loss: 1.2227 - val_acc: 0.7247\n",
      "Epoch 32/50\n",
      "146/146 [==============================] - 31s 213ms/step - loss: 0.0303 - acc: 0.9970 - val_loss: 1.3198 - val_acc: 0.7045\n",
      "Epoch 33/50\n",
      "146/146 [==============================] - 31s 215ms/step - loss: 0.0254 - acc: 0.9983 - val_loss: 1.3013 - val_acc: 0.7328\n",
      "Epoch 34/50\n",
      "146/146 [==============================] - 31s 211ms/step - loss: 0.0168 - acc: 0.9989 - val_loss: 1.2550 - val_acc: 0.7409\n",
      "Epoch 35/50\n",
      "146/146 [==============================] - 31s 215ms/step - loss: 0.0142 - acc: 0.9991 - val_loss: 1.2610 - val_acc: 0.7490\n",
      "Epoch 36/50\n",
      "146/146 [==============================] - 31s 216ms/step - loss: 0.0120 - acc: 0.9989 - val_loss: 1.2973 - val_acc: 0.7206\n",
      "Epoch 37/50\n",
      "146/146 [==============================] - 32s 219ms/step - loss: 0.0150 - acc: 0.9985 - val_loss: 1.3236 - val_acc: 0.7247\n",
      "Epoch 38/50\n",
      "146/146 [==============================] - 33s 226ms/step - loss: 0.0649 - acc: 0.9782 - val_loss: 2.6962 - val_acc: 0.5587\n",
      "Epoch 39/50\n",
      "146/146 [==============================] - 32s 218ms/step - loss: 0.1304 - acc: 0.9555 - val_loss: 1.3467 - val_acc: 0.7045\n",
      "Epoch 40/50\n",
      "146/146 [==============================] - 32s 220ms/step - loss: 0.0228 - acc: 0.9968 - val_loss: 1.3287 - val_acc: 0.7328\n",
      "Epoch 41/50\n",
      "146/146 [==============================] - 32s 218ms/step - loss: 0.0106 - acc: 0.9991 - val_loss: 1.3519 - val_acc: 0.7328\n",
      "Epoch 42/50\n",
      "146/146 [==============================] - 31s 216ms/step - loss: 0.0080 - acc: 0.9991 - val_loss: 1.3774 - val_acc: 0.7368\n",
      "Epoch 43/50\n",
      "146/146 [==============================] - 32s 216ms/step - loss: 0.0070 - acc: 0.9991 - val_loss: 1.3771 - val_acc: 0.7287\n",
      "Epoch 44/50\n",
      "146/146 [==============================] - 31s 216ms/step - loss: 0.0066 - acc: 0.9991 - val_loss: 1.3929 - val_acc: 0.7287\n",
      "Epoch 45/50\n",
      "146/146 [==============================] - 32s 219ms/step - loss: 0.0064 - acc: 0.9991 - val_loss: 1.4068 - val_acc: 0.7287\n",
      "Epoch 46/50\n",
      "146/146 [==============================] - 32s 217ms/step - loss: 0.0060 - acc: 0.9991 - val_loss: 1.4149 - val_acc: 0.7247\n",
      "Epoch 47/50\n",
      "146/146 [==============================] - 32s 216ms/step - loss: 0.0055 - acc: 0.9991 - val_loss: 1.4258 - val_acc: 0.7328\n",
      "Epoch 48/50\n",
      "146/146 [==============================] - 32s 217ms/step - loss: 0.0055 - acc: 0.9989 - val_loss: 1.4273 - val_acc: 0.7287\n",
      "Epoch 49/50\n",
      "146/146 [==============================] - 32s 218ms/step - loss: 0.0051 - acc: 0.9989 - val_loss: 1.4301 - val_acc: 0.7368\n",
      "Epoch 50/50\n",
      "146/146 [==============================] - 32s 216ms/step - loss: 0.0050 - acc: 0.9991 - val_loss: 1.4544 - val_acc: 0.7328\n"
     ]
    }
   ],
   "source": [
    "model.compile(optimizer=optimizers.Adam(5e-5),\n",
    "              loss=losses.categorical_crossentropy,\n",
    "              metrics=['accuracy']\n",
    "             )\n",
    "\n",
    "history = model.fit_generator(\n",
    "    train_generator,\n",
    "    steps_per_epoch = 146,\n",
    "    epochs=50,\n",
    "    validation_data=validation_generator,\n",
    "    validation_steps=31\n",
    ")"
   ]
  },
  {
   "cell_type": "code",
   "execution_count": 31,
   "metadata": {
    "colab": {
     "autoexec": {
      "startup": false,
      "wait_interval": 0
     },
     "base_uri": "https://localhost:8080/",
     "height": 707,
     "output_extras": [
      {
       "item_id": 1
      },
      {
       "item_id": 2
      }
     ]
    },
    "colab_type": "code",
    "executionInfo": {
     "elapsed": 7818,
     "status": "ok",
     "timestamp": 1518622791106,
     "user": {
      "displayName": "Shuvendu Bikash",
      "photoUrl": "//lh6.googleusercontent.com/-qmLdelcDhNY/AAAAAAAAAAI/AAAAAAAAOyw/0BejXT-_QPo/s50-c-k-no/photo.jpg",
      "userId": "106434026064423574094"
     },
     "user_tz": -360
    },
    "id": "FNXaw7OW7QOn",
    "outputId": "a7d79d6d-7bac-419f-d5cf-62e3de7ccb13"
   },
   "outputs": [
    {
     "data": {
      "image/png": "[encoded data removed]",
      "text/plain": [
       "<Figure size 432x288 with 1 Axes>"
      ]
     },
     "metadata": {},
     "output_type": "display_data"
    },
    {
     "data": {
      "image/png": "[encoded data removed]",
      "text/plain": [
       "<Figure size 432x288 with 1 Axes>"
      ]
     },
     "metadata": {},
     "output_type": "display_data"
    }
   ],
   "source": [
    "import matplotlib.pyplot as plt\n",
    "%matplotlib inline\n",
    "\n",
    "acc = history.history['acc']\n",
    "val_acc = history.history['val_acc']\n",
    "loss = history.history['loss']\n",
    "val_loss = history.history['val_loss']\n",
    "\n",
    "epochs = range(1, len(acc)+1)\n",
    "\n",
    "plt.plot(epochs, acc,  dashes=[2, 2, 10, 2], label='Training acc')\n",
    "plt.plot(epochs, val_acc, 'g', label='Validation acc')\n",
    "plt.title('Training and validation accuracy')\n",
    "plt.legend()\n",
    "\n",
    "plt.figure()\n",
    "plt.plot(epochs, loss,  dashes=[2, 2, 10, 2], label='Training losses')\n",
    "plt.plot(epochs, val_loss, 'g', label='Validation losses')\n",
    "plt.title('Training and validation loss')\n",
    "plt.legend()\n",
    "\n",
    "plt.show()"
   ]
  },
  {
   "cell_type": "markdown",
   "metadata": {
    "colab_type": "text",
    "id": "VyVSA5Nb-5tQ"
   },
   "source": [
    "## Try using pretrined model"
   ]
  },
  {
   "cell_type": "code",
   "execution_count": 9,
   "metadata": {
    "colab": {
     "autoexec": {
      "startup": false,
      "wait_interval": 0
     },
     "base_uri": "https://localhost:8080/",
     "height": 51,
     "output_extras": [
      {
       "item_id": 2
      }
     ]
    },
    "colab_type": "code",
    "executionInfo": {
     "elapsed": 2835,
     "status": "ok",
     "timestamp": 1518622992285,
     "user": {
      "displayName": "Shuvendu Bikash",
      "photoUrl": "//lh6.googleusercontent.com/-qmLdelcDhNY/AAAAAAAAAAI/AAAAAAAAOyw/0BejXT-_QPo/s50-c-k-no/photo.jpg",
      "userId": "106434026064423574094"
     },
     "user_tz": -360
    },
    "id": "tVtbN_6L-LbB",
    "outputId": "169402bb-4993-42ed-98b2-5c03f9f873d5"
   },
   "outputs": [
    {
     "name": "stdout",
     "output_type": "stream",
     "text": [
      "_________________________________________________________________\n",
      "Layer (type)                 Output Shape              Param #   \n",
      "=================================================================\n",
      "input_3 (InputLayer)         (None, 224, 224, 3)       0         \n",
      "_________________________________________________________________\n",
      "block1_conv1 (Conv2D)        (None, 224, 224, 64)      1792      \n",
      "_________________________________________________________________\n",
      "block1_conv2 (Conv2D)        (None, 224, 224, 64)      36928     \n",
      "_________________________________________________________________\n",
      "block1_pool (MaxPooling2D)   (None, 112, 112, 64)      0         \n",
      "_________________________________________________________________\n",
      "block2_conv1 (Conv2D)        (None, 112, 112, 128)     73856     \n",
      "_________________________________________________________________\n",
      "block2_conv2 (Conv2D)        (None, 112, 112, 128)     147584    \n",
      "_________________________________________________________________\n",
      "block2_pool (MaxPooling2D)   (None, 56, 56, 128)       0         \n",
      "_________________________________________________________________\n",
      "block3_conv1 (Conv2D)        (None, 56, 56, 256)       295168    \n",
      "_________________________________________________________________\n",
      "block3_conv2 (Conv2D)        (None, 56, 56, 256)       590080    \n",
      "_________________________________________________________________\n",
      "block3_conv3 (Conv2D)        (None, 56, 56, 256)       590080    \n",
      "_________________________________________________________________\n",
      "block3_pool (MaxPooling2D)   (None, 28, 28, 256)       0         \n",
      "_________________________________________________________________\n",
      "block4_conv1 (Conv2D)        (None, 28, 28, 512)       1180160   \n",
      "_________________________________________________________________\n",
      "block4_conv2 (Conv2D)        (None, 28, 28, 512)       2359808   \n",
      "_________________________________________________________________\n",
      "block4_conv3 (Conv2D)        (None, 28, 28, 512)       2359808   \n",
      "_________________________________________________________________\n",
      "block4_pool (MaxPooling2D)   (None, 14, 14, 512)       0         \n",
      "_________________________________________________________________\n",
      "block5_conv1 (Conv2D)        (None, 14, 14, 512)       2359808   \n",
      "_________________________________________________________________\n",
      "block5_conv2 (Conv2D)        (None, 14, 14, 512)       2359808   \n",
      "_________________________________________________________________\n",
      "block5_conv3 (Conv2D)        (None, 14, 14, 512)       2359808   \n",
      "_________________________________________________________________\n",
      "block5_pool (MaxPooling2D)   (None, 7, 7, 512)         0         \n",
      "=================================================================\n",
      "Total params: 14,714,688\n",
      "Trainable params: 14,714,688\n",
      "Non-trainable params: 0\n",
      "_________________________________________________________________\n"
     ]
    }
   ],
   "source": [
    "from keras.applications import VGG16\n",
    "\n",
    "conv_base = VGG16(weights='imagenet',\n",
    "                 include_top=False,\n",
    "                 input_shape=(224, 224, 3))\n",
    "\n",
    "conv_base.summary()"
   ]
  },
  {
   "cell_type": "code",
   "execution_count": 44,
   "metadata": {
    "colab": {
     "autoexec": {
      "startup": false,
      "wait_interval": 0
     },
     "base_uri": "https://localhost:8080/",
     "height": 272,
     "output_extras": [
      {
       "item_id": 1
      }
     ]
    },
    "colab_type": "code",
    "executionInfo": {
     "elapsed": 1319,
     "status": "ok",
     "timestamp": 1518623116608,
     "user": {
      "displayName": "Shuvendu Bikash",
      "photoUrl": "//lh6.googleusercontent.com/-qmLdelcDhNY/AAAAAAAAAAI/AAAAAAAAOyw/0BejXT-_QPo/s50-c-k-no/photo.jpg",
      "userId": "106434026064423574094"
     },
     "user_tz": -360
    },
    "id": "_skOPxk9-9v2",
    "outputId": "9ce900f6-291e-4ca3-8ef1-56d098e2311d"
   },
   "outputs": [
    {
     "name": "stdout",
     "output_type": "stream",
     "text": [
      "_________________________________________________________________\n",
      "Layer (type)                 Output Shape              Param #   \n",
      "=================================================================\n",
      "vgg16 (Model)                (None, 7, 7, 512)         14714688  \n",
      "_________________________________________________________________\n",
      "flatten_6 (Flatten)          (None, 25088)             0         \n",
      "_________________________________________________________________\n",
      "dense_11 (Dense)             (None, 512)               12845568  \n",
      "_________________________________________________________________\n",
      "dense_12 (Dense)             (None, 7)                 3591      \n",
      "=================================================================\n",
      "Total params: 27,563,847\n",
      "Trainable params: 27,563,847\n",
      "Non-trainable params: 0\n",
      "_________________________________________________________________\n"
     ]
    }
   ],
   "source": [
    "model = models.Sequential()\n",
    "\n",
    "model.add(conv_base)\n",
    "model.add(layers.Flatten())\n",
    "model.add(layers.Dense(512))\n",
    "model.add(layers.Dense(7, activation='softmax'))\n",
    "model.summary()"
   ]
  },
  {
   "cell_type": "code",
   "execution_count": 45,
   "metadata": {
    "colab": {
     "autoexec": {
      "startup": false,
      "wait_interval": 0
     },
     "base_uri": "https://localhost:8080/",
     "height": 326,
     "output_extras": [
      {
       "item_id": 57
      },
      {
       "item_id": 102
      },
      {
       "item_id": 146
      },
      {
       "item_id": 185
      },
      {
       "item_id": 223
      },
      {
       "item_id": 264
      },
      {
       "item_id": 312
      },
      {
       "item_id": 340
      },
      {
       "item_id": 350
      }
     ]
    },
    "colab_type": "code",
    "executionInfo": {
     "elapsed": 281971,
     "status": "ok",
     "timestamp": 1518623773926,
     "user": {
      "displayName": "Shuvendu Bikash",
      "photoUrl": "//lh6.googleusercontent.com/-qmLdelcDhNY/AAAAAAAAAAI/AAAAAAAAOyw/0BejXT-_QPo/s50-c-k-no/photo.jpg",
      "userId": "106434026064423574094"
     },
     "user_tz": -360
    },
    "id": "clg09hoI_ce1",
    "outputId": "d09f4d91-5834-43c8-d48e-f6b24c890f80"
   },
   "outputs": [
    {
     "name": "stdout",
     "output_type": "stream",
     "text": [
      "This is the number of trainable weights before freezing the conv base: 4\n",
      "Epoch 1/15\n",
      "146/146 [==============================] - 35s 237ms/step - loss: 1.6675 - categorical_accuracy: 0.3610 - val_loss: 1.4949 - val_categorical_accuracy: 0.4453\n",
      "Epoch 2/15\n",
      "146/146 [==============================] - 34s 232ms/step - loss: 1.1082 - categorical_accuracy: 0.5992 - val_loss: 1.0812 - val_categorical_accuracy: 0.5951\n",
      "Epoch 3/15\n",
      "146/146 [==============================] - 33s 224ms/step - loss: 0.8557 - categorical_accuracy: 0.7253 - val_loss: 1.1325 - val_categorical_accuracy: 0.5709\n",
      "Epoch 4/15\n",
      "146/146 [==============================] - 34s 230ms/step - loss: 0.7199 - categorical_accuracy: 0.7663 - val_loss: 0.9719 - val_categorical_accuracy: 0.5951\n",
      "Epoch 5/15\n",
      "146/146 [==============================] - 33s 224ms/step - loss: 0.6004 - categorical_accuracy: 0.8211 - val_loss: 0.9220 - val_categorical_accuracy: 0.6437\n",
      "Epoch 6/15\n",
      "146/146 [==============================] - 33s 225ms/step - loss: 0.4996 - categorical_accuracy: 0.8652 - val_loss: 0.8002 - val_categorical_accuracy: 0.7004\n",
      "Epoch 7/15\n",
      "146/146 [==============================] - 35s 238ms/step - loss: 0.4227 - categorical_accuracy: 0.8958 - val_loss: 0.7773 - val_categorical_accuracy: 0.7206\n",
      "Epoch 8/15\n",
      "146/146 [==============================] - 35s 238ms/step - loss: 0.3518 - categorical_accuracy: 0.9249 - val_loss: 0.7572 - val_categorical_accuracy: 0.7206\n",
      "Epoch 9/15\n",
      "146/146 [==============================] - 35s 240ms/step - loss: 0.3301 - categorical_accuracy: 0.9254 - val_loss: 0.7296 - val_categorical_accuracy: 0.7287\n",
      "Epoch 10/15\n",
      "146/146 [==============================] - 33s 228ms/step - loss: 0.2669 - categorical_accuracy: 0.9530 - val_loss: 0.7084 - val_categorical_accuracy: 0.7449\n",
      "Epoch 11/15\n",
      "146/146 [==============================] - 33s 228ms/step - loss: 0.2411 - categorical_accuracy: 0.9592 - val_loss: 0.7020 - val_categorical_accuracy: 0.7166\n",
      "Epoch 12/15\n",
      "146/146 [==============================] - 35s 238ms/step - loss: 0.2114 - categorical_accuracy: 0.9666 - val_loss: 0.6713 - val_categorical_accuracy: 0.7045\n",
      "Epoch 13/15\n",
      "146/146 [==============================] - 36s 244ms/step - loss: 0.1852 - categorical_accuracy: 0.9745 - val_loss: 0.6367 - val_categorical_accuracy: 0.7733\n",
      "Epoch 14/15\n",
      "146/146 [==============================] - 37s 255ms/step - loss: 0.1661 - categorical_accuracy: 0.9799 - val_loss: 0.6295 - val_categorical_accuracy: 0.7652\n",
      "Epoch 15/15\n",
      "146/146 [==============================] - 32s 220ms/step - loss: 0.1498 - categorical_accuracy: 0.9837 - val_loss: 0.6116 - val_categorical_accuracy: 0.7773\n"
     ]
    }
   ],
   "source": [
    "conv_base.trainable = False\n",
    "print('This is the number of trainable weights before freezing the conv base:', len(model.trainable_weights))\n",
    "\n",
    "model.compile(\n",
    "    optimizer=optimizers.Adam(lr=5e-5), \n",
    "    loss=losses.categorical_crossentropy, \n",
    "    metrics=[metrics.categorical_accuracy]\n",
    ")\n",
    "\n",
    "history = model.fit_generator(train_generator, \n",
    "                              steps_per_epoch=146, \n",
    "                              epochs=15, \n",
    "                              validation_data=validation_generator, \n",
    "                              validation_steps=31)"
   ]
  },
  {
   "cell_type": "code",
   "execution_count": 46,
   "metadata": {
    "colab": {
     "autoexec": {
      "startup": false,
      "wait_interval": 0
     }
    },
    "colab_type": "code",
    "id": "Atle6EGR_o-T"
   },
   "outputs": [],
   "source": [
    "conv_base.trainable = True\n",
    "set_trainable = False\n",
    "for layer in conv_base.layers:\n",
    "    if layer.name == 'block5_conv1':\n",
    "        set_trainable = True\n",
    "    if set_trainable:\n",
    "        layer.trainable = True\n",
    "    else:\n",
    "        layer.trainable = False"
   ]
  },
  {
   "cell_type": "code",
   "execution_count": 48,
   "metadata": {
    "colab": {
     "autoexec": {
      "startup": false,
      "wait_interval": 0
     },
     "base_uri": "https://localhost:8080/",
     "height": 955,
     "output_extras": [
      {
       "item_id": 54
      },
      {
       "item_id": 114
      },
      {
       "item_id": 174
      },
      {
       "item_id": 243
      },
      {
       "item_id": 298
      },
      {
       "item_id": 363
      },
      {
       "item_id": 430
      },
      {
       "item_id": 470
      },
      {
       "item_id": 520
      },
      {
       "item_id": 560
      },
      {
       "item_id": 596
      },
      {
       "item_id": 640
      },
      {
       "item_id": 683
      },
      {
       "item_id": 736
      },
      {
       "item_id": 796
      },
      {
       "item_id": 859
      },
      {
       "item_id": 914
      },
      {
       "item_id": 976
      },
      {
       "item_id": 1034
      },
      {
       "item_id": 1098
      },
      {
       "item_id": 1155
      },
      {
       "item_id": 1222
      },
      {
       "item_id": 1284
      },
      {
       "item_id": 1353
      },
      {
       "item_id": 1425
      },
      {
       "item_id": 1485
      },
      {
       "item_id": 1510
      }
     ]
    },
    "colab_type": "code",
    "id": "gpT0IIyLAWpR",
    "outputId": "5cbf1a75-da29-4d65-b4ba-5f33fc625ceb"
   },
   "outputs": [
    {
     "name": "stdout",
     "output_type": "stream",
     "text": [
      "Epoch 1/50\n",
      "146/146 [==============================] - 39s 270ms/step - loss: 0.1329 - categorical_accuracy: 0.9542 - val_loss: 0.4636 - val_categorical_accuracy: 0.8462\n",
      "Epoch 2/50\n",
      "146/146 [==============================] - 37s 255ms/step - loss: 0.1011 - categorical_accuracy: 0.9666 - val_loss: 0.4442 - val_categorical_accuracy: 0.8340\n",
      "Epoch 3/50\n",
      "146/146 [==============================] - 37s 254ms/step - loss: 0.0740 - categorical_accuracy: 0.9769 - val_loss: 0.4579 - val_categorical_accuracy: 0.8462\n",
      "Epoch 4/50\n",
      "146/146 [==============================] - 37s 254ms/step - loss: 0.0594 - categorical_accuracy: 0.9820 - val_loss: 0.5259 - val_categorical_accuracy: 0.8259\n",
      "Epoch 5/50\n",
      "146/146 [==============================] - 37s 254ms/step - loss: 0.0516 - categorical_accuracy: 0.9848 - val_loss: 0.6070 - val_categorical_accuracy: 0.8097\n",
      "Epoch 6/50\n",
      "146/146 [==============================] - 37s 254ms/step - loss: 0.0467 - categorical_accuracy: 0.9844 - val_loss: 0.3942 - val_categorical_accuracy: 0.8826\n",
      "Epoch 7/50\n",
      "146/146 [==============================] - 37s 254ms/step - loss: 0.0417 - categorical_accuracy: 0.9882 - val_loss: 0.3534 - val_categorical_accuracy: 0.8623\n",
      "Epoch 8/50\n",
      "146/146 [==============================] - 37s 254ms/step - loss: 0.0337 - categorical_accuracy: 0.9899 - val_loss: 0.4163 - val_categorical_accuracy: 0.8785\n",
      "Epoch 9/50\n",
      "146/146 [==============================] - 37s 254ms/step - loss: 0.0248 - categorical_accuracy: 0.9934 - val_loss: 0.4008 - val_categorical_accuracy: 0.8704\n",
      "Epoch 10/50\n",
      "146/146 [==============================] - 37s 253ms/step - loss: 0.0207 - categorical_accuracy: 0.9942 - val_loss: 0.5116 - val_categorical_accuracy: 0.8623\n",
      "Epoch 11/50\n",
      "146/146 [==============================] - 37s 253ms/step - loss: 0.0746 - categorical_accuracy: 0.9775 - val_loss: 0.4129 - val_categorical_accuracy: 0.8623\n",
      "Epoch 12/50\n",
      "146/146 [==============================] - 37s 253ms/step - loss: 0.0448 - categorical_accuracy: 0.9861 - val_loss: 0.6654 - val_categorical_accuracy: 0.8502\n",
      "Epoch 13/50\n",
      "146/146 [==============================] - 37s 253ms/step - loss: 0.0411 - categorical_accuracy: 0.9891 - val_loss: 0.3705 - val_categorical_accuracy: 0.8543\n",
      "Epoch 14/50\n",
      "146/146 [==============================] - 37s 253ms/step - loss: 0.0201 - categorical_accuracy: 0.9944 - val_loss: 0.4432 - val_categorical_accuracy: 0.8543\n",
      "Epoch 15/50\n",
      "146/146 [==============================] - 37s 253ms/step - loss: 0.0159 - categorical_accuracy: 0.9951 - val_loss: 0.4621 - val_categorical_accuracy: 0.8704\n",
      "Epoch 16/50\n",
      "146/146 [==============================] - 37s 253ms/step - loss: 0.0120 - categorical_accuracy: 0.9959 - val_loss: 0.5070 - val_categorical_accuracy: 0.8826\n",
      "Epoch 17/50\n",
      "146/146 [==============================] - 37s 254ms/step - loss: 0.0291 - categorical_accuracy: 0.9910 - val_loss: 0.4511 - val_categorical_accuracy: 0.8502\n",
      "Epoch 18/50\n",
      "146/146 [==============================] - 37s 254ms/step - loss: 0.0443 - categorical_accuracy: 0.9857 - val_loss: 0.8040 - val_categorical_accuracy: 0.8178\n",
      "Epoch 19/50\n",
      "146/146 [==============================] - 37s 253ms/step - loss: 0.0786 - categorical_accuracy: 0.9735 - val_loss: 0.4444 - val_categorical_accuracy: 0.8785\n",
      "Epoch 20/50\n",
      "146/146 [==============================] - 37s 253ms/step - loss: 0.0501 - categorical_accuracy: 0.9852 - val_loss: 0.5241 - val_categorical_accuracy: 0.8623\n",
      "Epoch 21/50\n",
      "146/146 [==============================] - 37s 254ms/step - loss: 0.0615 - categorical_accuracy: 0.9850 - val_loss: 0.4314 - val_categorical_accuracy: 0.8785\n",
      "Epoch 22/50\n",
      "146/146 [==============================] - 37s 256ms/step - loss: 0.0363 - categorical_accuracy: 0.9891 - val_loss: 0.4653 - val_categorical_accuracy: 0.8704\n",
      "Epoch 23/50\n",
      "146/146 [==============================] - 37s 256ms/step - loss: 0.0116 - categorical_accuracy: 0.9976 - val_loss: 0.2841 - val_categorical_accuracy: 0.9150\n",
      "Epoch 24/50\n",
      "146/146 [==============================] - 37s 255ms/step - loss: 0.0032 - categorical_accuracy: 0.9989 - val_loss: 0.3131 - val_categorical_accuracy: 0.8988\n",
      "Epoch 25/50\n",
      "146/146 [==============================] - 37s 255ms/step - loss: 0.0030 - categorical_accuracy: 0.9991 - val_loss: 0.2858 - val_categorical_accuracy: 0.9069\n",
      "Epoch 26/50\n",
      "146/146 [==============================] - 37s 255ms/step - loss: 0.0029 - categorical_accuracy: 0.9989 - val_loss: 0.2914 - val_categorical_accuracy: 0.9150\n",
      "Epoch 27/50\n",
      "146/146 [==============================] - 37s 255ms/step - loss: 0.0030 - categorical_accuracy: 0.9991 - val_loss: 0.2988 - val_categorical_accuracy: 0.9028\n",
      "Epoch 28/50\n",
      "146/146 [==============================] - 37s 255ms/step - loss: 0.0027 - categorical_accuracy: 0.9991 - val_loss: 0.3004 - val_categorical_accuracy: 0.9069\n",
      "Epoch 29/50\n",
      "146/146 [==============================] - 37s 255ms/step - loss: 0.0029 - categorical_accuracy: 0.9987 - val_loss: 0.3039 - val_categorical_accuracy: 0.9028\n",
      "Epoch 30/50\n",
      "146/146 [==============================] - 37s 255ms/step - loss: 0.0031 - categorical_accuracy: 0.9989 - val_loss: 0.2995 - val_categorical_accuracy: 0.9069\n",
      "Epoch 31/50\n",
      "146/146 [==============================] - 37s 255ms/step - loss: 0.0028 - categorical_accuracy: 0.9991 - val_loss: 0.3093 - val_categorical_accuracy: 0.9109\n",
      "Epoch 32/50\n",
      "146/146 [==============================] - 37s 255ms/step - loss: 0.0028 - categorical_accuracy: 0.9991 - val_loss: 0.3048 - val_categorical_accuracy: 0.9150\n",
      "Epoch 33/50\n",
      "146/146 [==============================] - 37s 254ms/step - loss: 0.0027 - categorical_accuracy: 0.9991 - val_loss: 0.3175 - val_categorical_accuracy: 0.9028\n",
      "Epoch 34/50\n",
      "146/146 [==============================] - 37s 255ms/step - loss: 0.0029 - categorical_accuracy: 0.9991 - val_loss: 0.3084 - val_categorical_accuracy: 0.9028\n",
      "Epoch 35/50\n",
      "146/146 [==============================] - 37s 256ms/step - loss: 0.0028 - categorical_accuracy: 0.9989 - val_loss: 0.3107 - val_categorical_accuracy: 0.9109\n",
      "Epoch 36/50\n",
      "146/146 [==============================] - 37s 255ms/step - loss: 0.0028 - categorical_accuracy: 0.9991 - val_loss: 0.3125 - val_categorical_accuracy: 0.9028\n",
      "Epoch 37/50\n",
      "146/146 [==============================] - 37s 254ms/step - loss: 0.0027 - categorical_accuracy: 0.9989 - val_loss: 0.3146 - val_categorical_accuracy: 0.9150\n",
      "Epoch 38/50\n",
      "146/146 [==============================] - 37s 254ms/step - loss: 0.0027 - categorical_accuracy: 0.9991 - val_loss: 0.3208 - val_categorical_accuracy: 0.9190\n",
      "Epoch 39/50\n",
      "146/146 [==============================] - 37s 253ms/step - loss: 0.0031 - categorical_accuracy: 0.9991 - val_loss: 0.3195 - val_categorical_accuracy: 0.9150\n",
      "Epoch 40/50\n",
      "146/146 [==============================] - 37s 254ms/step - loss: 0.0028 - categorical_accuracy: 0.9991 - val_loss: 0.3204 - val_categorical_accuracy: 0.9109\n",
      "Epoch 41/50\n",
      "146/146 [==============================] - 37s 253ms/step - loss: 0.0028 - categorical_accuracy: 0.9991 - val_loss: 0.3135 - val_categorical_accuracy: 0.9109\n",
      "Epoch 42/50\n",
      "146/146 [==============================] - 37s 253ms/step - loss: 0.0028 - categorical_accuracy: 0.9991 - val_loss: 0.3144 - val_categorical_accuracy: 0.9069\n",
      "Epoch 43/50\n",
      "146/146 [==============================] - 37s 252ms/step - loss: 0.0028 - categorical_accuracy: 0.9991 - val_loss: 0.3223 - val_categorical_accuracy: 0.9109\n",
      "Epoch 44/50\n",
      "146/146 [==============================] - 37s 253ms/step - loss: 0.0027 - categorical_accuracy: 0.9991 - val_loss: 0.3183 - val_categorical_accuracy: 0.9150\n",
      "Epoch 45/50\n",
      "146/146 [==============================] - 37s 253ms/step - loss: 0.0027 - categorical_accuracy: 0.9991 - val_loss: 0.3261 - val_categorical_accuracy: 0.9190\n",
      "Epoch 46/50\n",
      "146/146 [==============================] - 37s 253ms/step - loss: 0.0028 - categorical_accuracy: 0.9991 - val_loss: 0.3243 - val_categorical_accuracy: 0.9190\n",
      "Epoch 47/50\n",
      "146/146 [==============================] - 37s 254ms/step - loss: 0.0028 - categorical_accuracy: 0.9991 - val_loss: 0.3279 - val_categorical_accuracy: 0.9190\n",
      "Epoch 48/50\n",
      "146/146 [==============================] - 37s 253ms/step - loss: 0.0026 - categorical_accuracy: 0.9991 - val_loss: 0.3289 - val_categorical_accuracy: 0.9190\n",
      "Epoch 49/50\n",
      "146/146 [==============================] - 37s 254ms/step - loss: 0.0028 - categorical_accuracy: 0.9991 - val_loss: 0.3321 - val_categorical_accuracy: 0.9190\n",
      "Epoch 50/50\n",
      "146/146 [==============================] - 37s 254ms/step - loss: 0.0026 - categorical_accuracy: 0.9991 - val_loss: 0.3303 - val_categorical_accuracy: 0.9190\n"
     ]
    }
   ],
   "source": [
    "model.compile(\n",
    "    optimizer=optimizers.Adam(lr=1e-5), \n",
    "    loss=losses.categorical_crossentropy, \n",
    "    metrics=[metrics.categorical_accuracy]\n",
    ")\n",
    "\n",
    "history = model.fit_generator(train_generator, \n",
    "                              steps_per_epoch=146, \n",
    "                              epochs=50, \n",
    "                              validation_data=validation_generator, \n",
    "                              validation_steps=31)"
   ]
  },
  {
   "cell_type": "code",
   "execution_count": 49,
   "metadata": {
    "colab": {
     "autoexec": {
      "startup": false,
      "wait_interval": 0
     }
    },
    "colab_type": "code",
    "id": "X9QrfV3vAig7"
   },
   "outputs": [
    {
     "data": {
      "image/png": "[encoded data removed]",
      "text/plain": [
       "<Figure size 432x288 with 1 Axes>"
      ]
     },
     "metadata": {},
     "output_type": "display_data"
    },
    {
     "data": {
      "image/png": "[encoded data removed]",
      "text/plain": [
       "<Figure size 432x288 with 1 Axes>"
      ]
     },
     "metadata": {},
     "output_type": "display_data"
    }
   ],
   "source": [
    "import matplotlib.pyplot as plt\n",
    "\n",
    "acc = history.history['categorical_accuracy']\n",
    "val_acc = history.history['val_categorical_accuracy']\n",
    "loss = history.history['loss']\n",
    "val_loss = history.history['val_loss']\n",
    "\n",
    "epochs = range(1, len(acc)+1)\n",
    "\n",
    "plt.plot(epochs, acc,  dashes=[2, 2, 10, 2], label='Training acc')\n",
    "plt.plot(epochs, val_acc, 'g', label='Validation acc')\n",
    "plt.title('Training and validation accuracy')\n",
    "plt.legend()\n",
    "\n",
    "plt.figure()\n",
    "plt.plot(epochs, loss,  dashes=[2, 2, 10, 2],label='Training losses')\n",
    "plt.plot(epochs, val_loss, 'g', label='Validation losses')\n",
    "plt.title('Training and validation loss')\n",
    "plt.legend()\n",
    "\n",
    "plt.show()"
   ]
  },
  {
   "cell_type": "code",
   "execution_count": 50,
   "metadata": {
    "colab": {
     "autoexec": {
      "startup": false,
      "wait_interval": 0
     }
    },
    "colab_type": "code",
    "collapsed": true,
    "id": "3xtr7CZuAkfM"
   },
   "outputs": [],
   "source": [
    "model.save('fully_trained_model.h5')"
   ]
  },
  {
   "cell_type": "markdown",
   "metadata": {},
   "source": [
    "# Train the full VGG network"
   ]
  },
  {
   "cell_type": "code",
   "execution_count": 51,
   "metadata": {},
   "outputs": [
    {
     "name": "stdout",
     "output_type": "stream",
     "text": [
      "Epoch 1/30\n",
      "146/146 [==============================] - 39s 265ms/step - loss: 0.0245 - categorical_accuracy: 0.9934 - val_loss: 0.3486 - val_categorical_accuracy: 0.8866\n",
      "Epoch 2/30\n",
      "146/146 [==============================] - 37s 253ms/step - loss: 0.0505 - categorical_accuracy: 0.9850 - val_loss: 0.5869 - val_categorical_accuracy: 0.8381\n",
      "Epoch 3/30\n",
      "146/146 [==============================] - 37s 253ms/step - loss: 0.0361 - categorical_accuracy: 0.9895 - val_loss: 0.4146 - val_categorical_accuracy: 0.8745\n",
      "Epoch 4/30\n",
      "146/146 [==============================] - 37s 254ms/step - loss: 0.0301 - categorical_accuracy: 0.9906 - val_loss: 0.4230 - val_categorical_accuracy: 0.8785\n",
      "Epoch 5/30\n",
      "146/146 [==============================] - 37s 254ms/step - loss: 0.0368 - categorical_accuracy: 0.9893 - val_loss: 0.4177 - val_categorical_accuracy: 0.8907\n",
      "Epoch 6/30\n",
      "146/146 [==============================] - 37s 253ms/step - loss: 0.0216 - categorical_accuracy: 0.9944 - val_loss: 0.3454 - val_categorical_accuracy: 0.9109\n",
      "Epoch 7/30\n",
      "146/146 [==============================] - 37s 253ms/step - loss: 0.0066 - categorical_accuracy: 0.9987 - val_loss: 0.2730 - val_categorical_accuracy: 0.9312\n",
      "Epoch 8/30\n",
      "146/146 [==============================] - 37s 253ms/step - loss: 0.0029 - categorical_accuracy: 0.9991 - val_loss: 0.2681 - val_categorical_accuracy: 0.9312\n",
      "Epoch 9/30\n",
      "146/146 [==============================] - 37s 253ms/step - loss: 0.0026 - categorical_accuracy: 0.9991 - val_loss: 0.2770 - val_categorical_accuracy: 0.9271\n",
      "Epoch 10/30\n",
      "146/146 [==============================] - 37s 253ms/step - loss: 0.0026 - categorical_accuracy: 0.9991 - val_loss: 0.2805 - val_categorical_accuracy: 0.9312\n",
      "Epoch 11/30\n",
      "146/146 [==============================] - 37s 253ms/step - loss: 0.0026 - categorical_accuracy: 0.9991 - val_loss: 0.2847 - val_categorical_accuracy: 0.9312\n",
      "Epoch 12/30\n",
      "146/146 [==============================] - 37s 253ms/step - loss: 0.0026 - categorical_accuracy: 0.9991 - val_loss: 0.2842 - val_categorical_accuracy: 0.9312\n",
      "Epoch 13/30\n",
      "146/146 [==============================] - 37s 253ms/step - loss: 0.0026 - categorical_accuracy: 0.9991 - val_loss: 0.2842 - val_categorical_accuracy: 0.9352\n",
      "Epoch 14/30\n",
      "146/146 [==============================] - 37s 253ms/step - loss: 0.0026 - categorical_accuracy: 0.9991 - val_loss: 0.2868 - val_categorical_accuracy: 0.9352\n",
      "Epoch 15/30\n",
      "146/146 [==============================] - 37s 253ms/step - loss: 0.0025 - categorical_accuracy: 0.9991 - val_loss: 0.2862 - val_categorical_accuracy: 0.9352\n",
      "Epoch 16/30\n",
      "146/146 [==============================] - 37s 253ms/step - loss: 0.0025 - categorical_accuracy: 0.9991 - val_loss: 0.2904 - val_categorical_accuracy: 0.9352\n",
      "Epoch 17/30\n",
      "146/146 [==============================] - 37s 253ms/step - loss: 0.0027 - categorical_accuracy: 0.9991 - val_loss: 0.2896 - val_categorical_accuracy: 0.9352\n",
      "Epoch 18/30\n",
      "146/146 [==============================] - 37s 254ms/step - loss: 0.0026 - categorical_accuracy: 0.9991 - val_loss: 0.2940 - val_categorical_accuracy: 0.9352\n",
      "Epoch 19/30\n",
      "146/146 [==============================] - 37s 254ms/step - loss: 0.0026 - categorical_accuracy: 0.9991 - val_loss: 0.2949 - val_categorical_accuracy: 0.9352\n",
      "Epoch 20/30\n",
      "146/146 [==============================] - 37s 254ms/step - loss: 0.0025 - categorical_accuracy: 0.9991 - val_loss: 0.2921 - val_categorical_accuracy: 0.9352\n",
      "Epoch 21/30\n",
      "146/146 [==============================] - 37s 253ms/step - loss: 0.0026 - categorical_accuracy: 0.9991 - val_loss: 0.2945 - val_categorical_accuracy: 0.9352\n",
      "Epoch 22/30\n",
      "146/146 [==============================] - 37s 253ms/step - loss: 0.0026 - categorical_accuracy: 0.9991 - val_loss: 0.2977 - val_categorical_accuracy: 0.9352\n",
      "Epoch 23/30\n",
      "146/146 [==============================] - 37s 254ms/step - loss: 0.0027 - categorical_accuracy: 0.9991 - val_loss: 0.2988 - val_categorical_accuracy: 0.9352\n",
      "Epoch 24/30\n",
      "146/146 [==============================] - 37s 254ms/step - loss: 0.0025 - categorical_accuracy: 0.9991 - val_loss: 0.3010 - val_categorical_accuracy: 0.9352\n",
      "Epoch 25/30\n",
      "146/146 [==============================] - 37s 254ms/step - loss: 0.0026 - categorical_accuracy: 0.9991 - val_loss: 0.3019 - val_categorical_accuracy: 0.9352\n",
      "Epoch 26/30\n",
      "146/146 [==============================] - 37s 253ms/step - loss: 0.0026 - categorical_accuracy: 0.9991 - val_loss: 0.3002 - val_categorical_accuracy: 0.9352\n",
      "Epoch 27/30\n",
      "146/146 [==============================] - 37s 254ms/step - loss: 0.0025 - categorical_accuracy: 0.9991 - val_loss: 0.3004 - val_categorical_accuracy: 0.9352\n",
      "Epoch 28/30\n",
      "146/146 [==============================] - 37s 253ms/step - loss: 0.0026 - categorical_accuracy: 0.9991 - val_loss: 0.3060 - val_categorical_accuracy: 0.9352\n",
      "Epoch 29/30\n",
      "146/146 [==============================] - 37s 254ms/step - loss: 0.0026 - categorical_accuracy: 0.9991 - val_loss: 0.3063 - val_categorical_accuracy: 0.9352\n",
      "Epoch 30/30\n",
      "146/146 [==============================] - 39s 268ms/step - loss: 0.0025 - categorical_accuracy: 0.9991 - val_loss: 0.3067 - val_categorical_accuracy: 0.9352\n"
     ]
    },
    {
     "data": {
      "image/png": "[encoded data removed]",
      "text/plain": [
       "<Figure size 432x288 with 1 Axes>"
      ]
     },
     "metadata": {},
     "output_type": "display_data"
    },
    {
     "data": {
      "image/png": "[encoded data removed]",
      "text/plain": [
       "<Figure size 432x288 with 1 Axes>"
      ]
     },
     "metadata": {},
     "output_type": "display_data"
    }
   ],
   "source": [
    "conv_base.trainable = True\n",
    "\n",
    "model.compile(\n",
    "    optimizer=optimizers.Adam(lr=1e-5), \n",
    "    loss=losses.categorical_crossentropy, \n",
    "    metrics=[metrics.categorical_accuracy]\n",
    ")\n",
    "\n",
    "history = model.fit_generator(train_generator, \n",
    "                              steps_per_epoch=146, \n",
    "                              epochs=30, \n",
    "                              validation_data=validation_generator, \n",
    "                              validation_steps=31)\n",
    "\n",
    "acc = history.history['categorical_accuracy']\n",
    "val_acc = history.history['val_categorical_accuracy']\n",
    "loss = history.history['loss']\n",
    "val_loss = history.history['val_loss']\n",
    "\n",
    "epochs = range(1, len(acc)+1)\n",
    "\n",
    "plt.plot(epochs, acc,  dashes=[2, 2, 10, 2], label='Training acc')\n",
    "plt.plot(epochs, val_acc, 'g', label='Validation acc')\n",
    "plt.title('Training and validation accuracy')\n",
    "plt.legend()\n",
    "\n",
    "plt.figure()\n",
    "plt.plot(epochs, loss,  dashes=[2, 2, 10, 2],label='Training losses')\n",
    "plt.plot(epochs, val_loss, 'g', label='Validation losses')\n",
    "plt.title('Training and validation loss')\n",
    "plt.legend()\n",
    "\n",
    "plt.show()"
   ]
  },
  {
   "cell_type": "markdown",
   "metadata": {},
   "source": [
    "# Train longer with dropout"
   ]
  },
  {
   "cell_type": "code",
   "execution_count": 4,
   "metadata": {},
   "outputs": [
    {
     "name": "stdout",
     "output_type": "stream",
     "text": [
      "_________________________________________________________________\n",
      "Layer (type)                 Output Shape              Param #   \n",
      "=================================================================\n",
      "vgg16 (Model)                (None, 7, 7, 512)         14714688  \n",
      "_________________________________________________________________\n",
      "flatten_1 (Flatten)          (None, 25088)             0         \n",
      "_________________________________________________________________\n",
      "dense_1 (Dense)              (None, 512)               12845568  \n",
      "_________________________________________________________________\n",
      "dropout_1 (Dropout)          (None, 512)               0         \n",
      "_________________________________________________________________\n",
      "dense_2 (Dense)              (None, 7)                 3591      \n",
      "=================================================================\n",
      "Total params: 27,563,847\n",
      "Trainable params: 27,563,847\n",
      "Non-trainable params: 0\n",
      "_________________________________________________________________\n",
      "This is the number of trainable weights before freezing the conv base: 4\n",
      "Epoch 1/15\n",
      "146/146 [==============================] - 38s 263ms/step - loss: 1.7776 - categorical_accuracy: 0.3268 - val_loss: 1.3775 - val_categorical_accuracy: 0.4089\n",
      "Epoch 2/15\n",
      "146/146 [==============================] - 33s 226ms/step - loss: 1.1798 - categorical_accuracy: 0.5748 - val_loss: 1.0856 - val_categorical_accuracy: 0.5911\n",
      "Epoch 3/15\n",
      "146/146 [==============================] - 33s 223ms/step - loss: 0.9374 - categorical_accuracy: 0.6769 - val_loss: 1.0024 - val_categorical_accuracy: 0.6154\n",
      "Epoch 4/15\n",
      "146/146 [==============================] - 33s 224ms/step - loss: 0.7586 - categorical_accuracy: 0.7458 - val_loss: 0.9948 - val_categorical_accuracy: 0.6437\n",
      "Epoch 5/15\n",
      "146/146 [==============================] - 33s 223ms/step - loss: 0.6728 - categorical_accuracy: 0.7826 - val_loss: 0.8791 - val_categorical_accuracy: 0.6923\n",
      "Epoch 6/15\n",
      "146/146 [==============================] - 32s 221ms/step - loss: 0.5550 - categorical_accuracy: 0.8369 - val_loss: 0.8622 - val_categorical_accuracy: 0.6761\n",
      "Epoch 7/15\n",
      "146/146 [==============================] - 32s 220ms/step - loss: 0.4792 - categorical_accuracy: 0.8671 - val_loss: 0.8454 - val_categorical_accuracy: 0.6721\n",
      "Epoch 8/15\n",
      "146/146 [==============================] - 32s 221ms/step - loss: 0.4460 - categorical_accuracy: 0.8750 - val_loss: 0.8414 - val_categorical_accuracy: 0.6842\n",
      "Epoch 9/15\n",
      "146/146 [==============================] - 32s 221ms/step - loss: 0.4064 - categorical_accuracy: 0.8896 - val_loss: 0.7553 - val_categorical_accuracy: 0.7126\n",
      "Epoch 10/15\n",
      "146/146 [==============================] - 32s 221ms/step - loss: 0.3214 - categorical_accuracy: 0.9266 - val_loss: 0.6976 - val_categorical_accuracy: 0.7652\n",
      "Epoch 11/15\n",
      "146/146 [==============================] - 32s 221ms/step - loss: 0.2870 - categorical_accuracy: 0.9386 - val_loss: 0.7462 - val_categorical_accuracy: 0.7085\n",
      "Epoch 12/15\n",
      "146/146 [==============================] - 32s 221ms/step - loss: 0.2676 - categorical_accuracy: 0.9446 - val_loss: 0.6426 - val_categorical_accuracy: 0.7692\n",
      "Epoch 13/15\n",
      "146/146 [==============================] - 32s 221ms/step - loss: 0.2418 - categorical_accuracy: 0.9516 - val_loss: 0.6636 - val_categorical_accuracy: 0.7571\n",
      "Epoch 14/15\n",
      "146/146 [==============================] - 32s 221ms/step - loss: 0.2127 - categorical_accuracy: 0.9613 - val_loss: 0.6863 - val_categorical_accuracy: 0.7571\n",
      "Epoch 15/15\n",
      "146/146 [==============================] - 32s 222ms/step - loss: 0.1946 - categorical_accuracy: 0.9649 - val_loss: 0.6275 - val_categorical_accuracy: 0.7611\n"
     ]
    }
   ],
   "source": [
    "from keras.applications import VGG16\n",
    "\n",
    "conv_base = VGG16(weights='imagenet',\n",
    "                 include_top=False,\n",
    "                 input_shape=(224, 224, 3))\n",
    "\n",
    "\n",
    "model = models.Sequential()\n",
    "\n",
    "model.add(conv_base)\n",
    "model.add(layers.Flatten())\n",
    "model.add(layers.Dense(512))\n",
    "model.add(layers.Dropout(0.25))\n",
    "model.add(layers.Dense(7, activation='softmax'))\n",
    "model.summary()\n",
    "\n",
    "conv_base.trainable = False\n",
    "print('This is the number of trainable weights before freezing the conv base:', len(model.trainable_weights))\n",
    "\n",
    "model.compile(\n",
    "    optimizer=optimizers.Adam(lr=5e-5), \n",
    "    loss=losses.categorical_crossentropy, \n",
    "    metrics=[metrics.categorical_accuracy]\n",
    ")\n",
    "\n",
    "history = model.fit_generator(train_generator, \n",
    "                              steps_per_epoch=146, \n",
    "                              epochs=15, \n",
    "                              validation_data=validation_generator, \n",
    "                              validation_steps=31)"
   ]
  },
  {
   "cell_type": "code",
   "execution_count": 5,
   "metadata": {},
   "outputs": [
    {
     "name": "stdout",
     "output_type": "stream",
     "text": [
      "Epoch 1/50\n",
      "146/146 [==============================] - 39s 265ms/step - loss: 0.1389 - categorical_accuracy: 0.9687 - val_loss: 0.5704 - val_categorical_accuracy: 0.7692\n",
      "Epoch 2/50\n",
      "146/146 [==============================] - 37s 252ms/step - loss: 0.0839 - categorical_accuracy: 0.9878 - val_loss: 0.5431 - val_categorical_accuracy: 0.7976\n",
      "Epoch 3/50\n",
      "146/146 [==============================] - 37s 252ms/step - loss: 0.0659 - categorical_accuracy: 0.9902 - val_loss: 0.5342 - val_categorical_accuracy: 0.8178\n",
      "Epoch 4/50\n",
      "146/146 [==============================] - 37s 252ms/step - loss: 0.0507 - categorical_accuracy: 0.9917 - val_loss: 0.4691 - val_categorical_accuracy: 0.8381\n",
      "Epoch 5/50\n",
      "146/146 [==============================] - 37s 251ms/step - loss: 0.0342 - categorical_accuracy: 0.9942 - val_loss: 0.4667 - val_categorical_accuracy: 0.8502\n",
      "Epoch 6/50\n",
      "146/146 [==============================] - 37s 252ms/step - loss: 0.0351 - categorical_accuracy: 0.9955 - val_loss: 0.4887 - val_categorical_accuracy: 0.8421\n",
      "Epoch 7/50\n",
      "146/146 [==============================] - 37s 252ms/step - loss: 0.0226 - categorical_accuracy: 0.9976 - val_loss: 0.4621 - val_categorical_accuracy: 0.8381\n",
      "Epoch 8/50\n",
      "146/146 [==============================] - 37s 253ms/step - loss: 0.0192 - categorical_accuracy: 0.9974 - val_loss: 0.4679 - val_categorical_accuracy: 0.8502\n",
      "Epoch 9/50\n",
      "146/146 [==============================] - 37s 253ms/step - loss: 0.0193 - categorical_accuracy: 0.9972 - val_loss: 0.4172 - val_categorical_accuracy: 0.8462\n",
      "Epoch 10/50\n",
      "146/146 [==============================] - 37s 253ms/step - loss: 0.0203 - categorical_accuracy: 0.9970 - val_loss: 0.5030 - val_categorical_accuracy: 0.8340\n",
      "Epoch 11/50\n",
      "146/146 [==============================] - 37s 253ms/step - loss: 0.0162 - categorical_accuracy: 0.9974 - val_loss: 0.4835 - val_categorical_accuracy: 0.8381\n",
      "Epoch 12/50\n",
      "146/146 [==============================] - 37s 252ms/step - loss: 0.0128 - categorical_accuracy: 0.9981 - val_loss: 0.4296 - val_categorical_accuracy: 0.8623\n",
      "Epoch 13/50\n",
      "146/146 [==============================] - 37s 252ms/step - loss: 0.0121 - categorical_accuracy: 0.9983 - val_loss: 0.5416 - val_categorical_accuracy: 0.8178\n",
      "Epoch 14/50\n",
      "146/146 [==============================] - 37s 251ms/step - loss: 0.0146 - categorical_accuracy: 0.9972 - val_loss: 0.3965 - val_categorical_accuracy: 0.8745\n",
      "Epoch 15/50\n",
      "146/146 [==============================] - 37s 251ms/step - loss: 0.0086 - categorical_accuracy: 0.9985 - val_loss: 0.4656 - val_categorical_accuracy: 0.8502\n",
      "Epoch 16/50\n",
      "146/146 [==============================] - 37s 251ms/step - loss: 0.0100 - categorical_accuracy: 0.9985 - val_loss: 0.3949 - val_categorical_accuracy: 0.8745\n",
      "Epoch 17/50\n",
      "146/146 [==============================] - 37s 251ms/step - loss: 0.0079 - categorical_accuracy: 0.9985 - val_loss: 0.4782 - val_categorical_accuracy: 0.8543\n",
      "Epoch 18/50\n",
      "146/146 [==============================] - 37s 251ms/step - loss: 0.0116 - categorical_accuracy: 0.9972 - val_loss: 0.4853 - val_categorical_accuracy: 0.8583\n",
      "Epoch 19/50\n",
      "146/146 [==============================] - 37s 251ms/step - loss: 0.0258 - categorical_accuracy: 0.9929 - val_loss: 0.5730 - val_categorical_accuracy: 0.8219\n",
      "Epoch 20/50\n",
      "146/146 [==============================] - 37s 251ms/step - loss: 0.0636 - categorical_accuracy: 0.9805 - val_loss: 0.4621 - val_categorical_accuracy: 0.8340\n",
      "Epoch 21/50\n",
      "146/146 [==============================] - 37s 251ms/step - loss: 0.0121 - categorical_accuracy: 0.9976 - val_loss: 0.4802 - val_categorical_accuracy: 0.8543\n",
      "Epoch 22/50\n",
      "146/146 [==============================] - 37s 252ms/step - loss: 0.0080 - categorical_accuracy: 0.9987 - val_loss: 0.3862 - val_categorical_accuracy: 0.8785\n",
      "Epoch 23/50\n",
      "146/146 [==============================] - 37s 252ms/step - loss: 0.0063 - categorical_accuracy: 0.9985 - val_loss: 0.3731 - val_categorical_accuracy: 0.8826\n",
      "Epoch 24/50\n",
      "146/146 [==============================] - 37s 252ms/step - loss: 0.0061 - categorical_accuracy: 0.9989 - val_loss: 0.3800 - val_categorical_accuracy: 0.8704\n",
      "Epoch 25/50\n",
      "146/146 [==============================] - 37s 251ms/step - loss: 0.0052 - categorical_accuracy: 0.9987 - val_loss: 0.4017 - val_categorical_accuracy: 0.8664\n",
      "Epoch 26/50\n",
      "146/146 [==============================] - 37s 252ms/step - loss: 0.0053 - categorical_accuracy: 0.9987 - val_loss: 0.3742 - val_categorical_accuracy: 0.8866\n",
      "Epoch 27/50\n",
      "146/146 [==============================] - 37s 251ms/step - loss: 0.0044 - categorical_accuracy: 0.9991 - val_loss: 0.3895 - val_categorical_accuracy: 0.8704\n",
      "Epoch 28/50\n",
      "146/146 [==============================] - 37s 251ms/step - loss: 0.0041 - categorical_accuracy: 0.9989 - val_loss: 0.4141 - val_categorical_accuracy: 0.8664\n",
      "Epoch 29/50\n",
      "146/146 [==============================] - 37s 255ms/step - loss: 0.0064 - categorical_accuracy: 0.9983 - val_loss: 0.3735 - val_categorical_accuracy: 0.8826\n",
      "Epoch 30/50\n",
      "146/146 [==============================] - 37s 253ms/step - loss: 0.0046 - categorical_accuracy: 0.9987 - val_loss: 0.4208 - val_categorical_accuracy: 0.8704\n",
      "Epoch 31/50\n",
      "146/146 [==============================] - 37s 253ms/step - loss: 0.0046 - categorical_accuracy: 0.9989 - val_loss: 0.4168 - val_categorical_accuracy: 0.8664\n",
      "Epoch 32/50\n",
      "146/146 [==============================] - 37s 254ms/step - loss: 0.0043 - categorical_accuracy: 0.9989 - val_loss: 0.4078 - val_categorical_accuracy: 0.8907\n",
      "Epoch 33/50\n",
      "146/146 [==============================] - 37s 252ms/step - loss: 0.0044 - categorical_accuracy: 0.9985 - val_loss: 0.4081 - val_categorical_accuracy: 0.8785\n",
      "Epoch 34/50\n",
      "146/146 [==============================] - 37s 252ms/step - loss: 0.0503 - categorical_accuracy: 0.9861 - val_loss: 0.6759 - val_categorical_accuracy: 0.7854\n",
      "Epoch 35/50\n",
      "146/146 [==============================] - 37s 252ms/step - loss: 0.0650 - categorical_accuracy: 0.9784 - val_loss: 0.5227 - val_categorical_accuracy: 0.8300\n",
      "Epoch 36/50\n",
      "146/146 [==============================] - 37s 252ms/step - loss: 0.0136 - categorical_accuracy: 0.9972 - val_loss: 0.4504 - val_categorical_accuracy: 0.8462\n",
      "Epoch 37/50\n",
      "146/146 [==============================] - 37s 252ms/step - loss: 0.0062 - categorical_accuracy: 0.9985 - val_loss: 0.4143 - val_categorical_accuracy: 0.8623\n",
      "Epoch 38/50\n",
      "146/146 [==============================] - 37s 252ms/step - loss: 0.0048 - categorical_accuracy: 0.9989 - val_loss: 0.4245 - val_categorical_accuracy: 0.8664\n",
      "Epoch 39/50\n",
      "146/146 [==============================] - 37s 252ms/step - loss: 0.0045 - categorical_accuracy: 0.9989 - val_loss: 0.4196 - val_categorical_accuracy: 0.8623\n",
      "Epoch 40/50\n",
      "146/146 [==============================] - 37s 252ms/step - loss: 0.0045 - categorical_accuracy: 0.9987 - val_loss: 0.4079 - val_categorical_accuracy: 0.8826\n",
      "Epoch 41/50\n",
      "146/146 [==============================] - 37s 253ms/step - loss: 0.0042 - categorical_accuracy: 0.9987 - val_loss: 0.3977 - val_categorical_accuracy: 0.8826\n",
      "Epoch 42/50\n",
      "146/146 [==============================] - 37s 252ms/step - loss: 0.0041 - categorical_accuracy: 0.9987 - val_loss: 0.4163 - val_categorical_accuracy: 0.8785\n",
      "Epoch 43/50\n",
      "146/146 [==============================] - 37s 253ms/step - loss: 0.0040 - categorical_accuracy: 0.9991 - val_loss: 0.4117 - val_categorical_accuracy: 0.8785\n",
      "Epoch 44/50\n",
      "146/146 [==============================] - 37s 253ms/step - loss: 0.0035 - categorical_accuracy: 0.9987 - val_loss: 0.4061 - val_categorical_accuracy: 0.8866\n",
      "Epoch 45/50\n",
      "146/146 [==============================] - 37s 252ms/step - loss: 0.0044 - categorical_accuracy: 0.9987 - val_loss: 0.4152 - val_categorical_accuracy: 0.8664\n",
      "Epoch 46/50\n",
      "146/146 [==============================] - 37s 253ms/step - loss: 0.0036 - categorical_accuracy: 0.9989 - val_loss: 0.4123 - val_categorical_accuracy: 0.8785\n",
      "Epoch 47/50\n",
      "146/146 [==============================] - 37s 253ms/step - loss: 0.0041 - categorical_accuracy: 0.9987 - val_loss: 0.4095 - val_categorical_accuracy: 0.8785\n",
      "Epoch 48/50\n",
      "146/146 [==============================] - 37s 253ms/step - loss: 0.0037 - categorical_accuracy: 0.9985 - val_loss: 0.4085 - val_categorical_accuracy: 0.8785\n",
      "Epoch 49/50\n",
      "146/146 [==============================] - 37s 253ms/step - loss: 0.0040 - categorical_accuracy: 0.9991 - val_loss: 0.4043 - val_categorical_accuracy: 0.8826\n",
      "Epoch 50/50\n",
      "146/146 [==============================] - 37s 253ms/step - loss: 0.0040 - categorical_accuracy: 0.9987 - val_loss: 0.4079 - val_categorical_accuracy: 0.8785\n"
     ]
    },
    {
     "ename": "NameError",
     "evalue": "name 'plt' is not defined",
     "output_type": "error",
     "traceback": [
      "\u001b[1;31m---------------------------------------------------------------------------\u001b[0m",
      "\u001b[1;31mNameError\u001b[0m                                 Traceback (most recent call last)",
      "\u001b[1;32m<ipython-input-5-8b2590b3a0a8>\u001b[0m in \u001b[0;36m<module>\u001b[1;34m()\u001b[0m\n\u001b[0;32m     29\u001b[0m \u001b[0mepochs\u001b[0m \u001b[1;33m=\u001b[0m \u001b[0mrange\u001b[0m\u001b[1;33m(\u001b[0m\u001b[1;36m1\u001b[0m\u001b[1;33m,\u001b[0m \u001b[0mlen\u001b[0m\u001b[1;33m(\u001b[0m\u001b[0macc\u001b[0m\u001b[1;33m)\u001b[0m\u001b[1;33m+\u001b[0m\u001b[1;36m1\u001b[0m\u001b[1;33m)\u001b[0m\u001b[1;33m\u001b[0m\u001b[0m\n\u001b[0;32m     30\u001b[0m \u001b[1;33m\u001b[0m\u001b[0m\n\u001b[1;32m---> 31\u001b[1;33m \u001b[0mplt\u001b[0m\u001b[1;33m.\u001b[0m\u001b[0mplot\u001b[0m\u001b[1;33m(\u001b[0m\u001b[0mepochs\u001b[0m\u001b[1;33m,\u001b[0m \u001b[0macc\u001b[0m\u001b[1;33m,\u001b[0m  \u001b[0mdashes\u001b[0m\u001b[1;33m=\u001b[0m\u001b[1;33m[\u001b[0m\u001b[1;36m2\u001b[0m\u001b[1;33m,\u001b[0m \u001b[1;36m2\u001b[0m\u001b[1;33m,\u001b[0m \u001b[1;36m10\u001b[0m\u001b[1;33m,\u001b[0m \u001b[1;36m2\u001b[0m\u001b[1;33m]\u001b[0m\u001b[1;33m,\u001b[0m \u001b[0mlabel\u001b[0m\u001b[1;33m=\u001b[0m\u001b[1;34m'Training acc'\u001b[0m\u001b[1;33m)\u001b[0m\u001b[1;33m\u001b[0m\u001b[0m\n\u001b[0m\u001b[0;32m     32\u001b[0m \u001b[0mplt\u001b[0m\u001b[1;33m.\u001b[0m\u001b[0mplot\u001b[0m\u001b[1;33m(\u001b[0m\u001b[0mepochs\u001b[0m\u001b[1;33m,\u001b[0m \u001b[0mval_acc\u001b[0m\u001b[1;33m,\u001b[0m \u001b[1;34m'g'\u001b[0m\u001b[1;33m,\u001b[0m \u001b[0mlabel\u001b[0m\u001b[1;33m=\u001b[0m\u001b[1;34m'Validation acc'\u001b[0m\u001b[1;33m)\u001b[0m\u001b[1;33m\u001b[0m\u001b[0m\n\u001b[0;32m     33\u001b[0m \u001b[0mplt\u001b[0m\u001b[1;33m.\u001b[0m\u001b[0mtitle\u001b[0m\u001b[1;33m(\u001b[0m\u001b[1;34m'Training and validation accuracy'\u001b[0m\u001b[1;33m)\u001b[0m\u001b[1;33m\u001b[0m\u001b[0m\n",
      "\u001b[1;31mNameError\u001b[0m: name 'plt' is not defined"
     ]
    }
   ],
   "source": [
    "conv_base.trainable = True\n",
    "\n",
    "set_trainable = False\n",
    "for layer in conv_base.layers:\n",
    "    if layer.name == 'block5_conv1':\n",
    "        set_trainable = True\n",
    "    if set_trainable:\n",
    "        layer.trainable = True\n",
    "    else:\n",
    "        layer.trainable = False\n",
    "        \n",
    "model.compile(\n",
    "    optimizer=optimizers.Adam(lr=1e-5), \n",
    "    loss=losses.categorical_crossentropy, \n",
    "    metrics=[metrics.categorical_accuracy]\n",
    ")\n",
    "\n",
    "history = model.fit_generator(train_generator, \n",
    "                              steps_per_epoch=146, \n",
    "                              epochs=50, \n",
    "                              validation_data=validation_generator, \n",
    "                              validation_steps=31)\n",
    "\n"
   ]
  },
  {
   "cell_type": "code",
   "execution_count": 7,
   "metadata": {},
   "outputs": [
    {
     "data": {
      "image/png": "[encoded data removed]",
      "text/plain": [
       "<Figure size 432x288 with 1 Axes>"
      ]
     },
     "metadata": {},
     "output_type": "display_data"
    },
    {
     "data": {
      "image/png": "[encoded data removed]",
      "text/plain": [
       "<Figure size 432x288 with 1 Axes>"
      ]
     },
     "metadata": {},
     "output_type": "display_data"
    }
   ],
   "source": [
    "import matplotlib.pyplot as plt\n",
    "%matplotlib inline\n",
    "\n",
    "acc = history.history['categorical_accuracy']\n",
    "val_acc = history.history['val_categorical_accuracy']\n",
    "loss = history.history['loss']\n",
    "val_loss = history.history['val_loss']\n",
    "\n",
    "epochs = range(1, len(acc)+1)\n",
    "\n",
    "plt.plot(epochs, acc,  dashes=[2, 2, 10, 2], label='Training acc')\n",
    "plt.plot(epochs, val_acc, 'g', label='Validation acc')\n",
    "plt.title('Training and validation accuracy')\n",
    "plt.legend()\n",
    "\n",
    "plt.figure()\n",
    "plt.plot(epochs, loss,  dashes=[2, 2, 10, 2],label='Training losses')\n",
    "plt.plot(epochs, val_loss, 'g', label='Validation losses')\n",
    "plt.title('Training and validation loss')\n",
    "plt.legend()\n",
    "\n",
    "plt.show()   "
   ]
  },
  {
   "cell_type": "markdown",
   "metadata": {},
   "source": [
    "## Full model train with dropout in last layer"
   ]
  },
  {
   "cell_type": "code",
   "execution_count": 8,
   "metadata": {},
   "outputs": [
    {
     "name": "stdout",
     "output_type": "stream",
     "text": [
      "Epoch 1/50\n",
      "146/146 [==============================] - 38s 260ms/step - loss: 0.0109 - categorical_accuracy: 0.9976 - val_loss: 0.4890 - val_categorical_accuracy: 0.8381\n",
      "Epoch 2/50\n",
      "146/146 [==============================] - 36s 247ms/step - loss: 0.0171 - categorical_accuracy: 0.9940 - val_loss: 0.3957 - val_categorical_accuracy: 0.8704\n",
      "Epoch 3/50\n",
      "146/146 [==============================] - 36s 248ms/step - loss: 0.0115 - categorical_accuracy: 0.9972 - val_loss: 0.3863 - val_categorical_accuracy: 0.8785\n",
      "Epoch 4/50\n",
      "146/146 [==============================] - 36s 248ms/step - loss: 0.0053 - categorical_accuracy: 0.9983 - val_loss: 0.4107 - val_categorical_accuracy: 0.8745\n",
      "Epoch 5/50\n",
      "146/146 [==============================] - 36s 248ms/step - loss: 0.0148 - categorical_accuracy: 0.9957 - val_loss: 0.3656 - val_categorical_accuracy: 0.8866\n",
      "Epoch 6/50\n",
      "146/146 [==============================] - 36s 248ms/step - loss: 0.0238 - categorical_accuracy: 0.9925 - val_loss: 0.3772 - val_categorical_accuracy: 0.8947\n",
      "Epoch 7/50\n",
      "146/146 [==============================] - 36s 249ms/step - loss: 0.0065 - categorical_accuracy: 0.9981 - val_loss: 0.4243 - val_categorical_accuracy: 0.8866\n",
      "Epoch 8/50\n",
      "146/146 [==============================] - 36s 250ms/step - loss: 0.0064 - categorical_accuracy: 0.9981 - val_loss: 0.3752 - val_categorical_accuracy: 0.8826\n",
      "Epoch 9/50\n",
      "146/146 [==============================] - 36s 250ms/step - loss: 0.0033 - categorical_accuracy: 0.9989 - val_loss: 0.3844 - val_categorical_accuracy: 0.8826\n",
      "Epoch 10/50\n",
      "146/146 [==============================] - 37s 250ms/step - loss: 0.0040 - categorical_accuracy: 0.9989 - val_loss: 0.4223 - val_categorical_accuracy: 0.8704\n",
      "Epoch 11/50\n",
      "146/146 [==============================] - 37s 250ms/step - loss: 0.0031 - categorical_accuracy: 0.9989 - val_loss: 0.3864 - val_categorical_accuracy: 0.8866\n",
      "Epoch 12/50\n",
      "146/146 [==============================] - 37s 251ms/step - loss: 0.0037 - categorical_accuracy: 0.9989 - val_loss: 0.3763 - val_categorical_accuracy: 0.8947\n",
      "Epoch 13/50\n",
      "146/146 [==============================] - 37s 251ms/step - loss: 0.0036 - categorical_accuracy: 0.9991 - val_loss: 0.4019 - val_categorical_accuracy: 0.8826\n",
      "Epoch 14/50\n",
      "146/146 [==============================] - 37s 251ms/step - loss: 0.0035 - categorical_accuracy: 0.9987 - val_loss: 0.3924 - val_categorical_accuracy: 0.8988\n",
      "Epoch 15/50\n",
      "146/146 [==============================] - 37s 251ms/step - loss: 0.0037 - categorical_accuracy: 0.9989 - val_loss: 0.4157 - val_categorical_accuracy: 0.8745\n",
      "Epoch 16/50\n",
      "146/146 [==============================] - 37s 250ms/step - loss: 0.0030 - categorical_accuracy: 0.9989 - val_loss: 0.3914 - val_categorical_accuracy: 0.8988\n",
      "Epoch 17/50\n",
      "146/146 [==============================] - 37s 251ms/step - loss: 0.0039 - categorical_accuracy: 0.9987 - val_loss: 0.3803 - val_categorical_accuracy: 0.8988\n",
      "Epoch 18/50\n",
      "146/146 [==============================] - 37s 251ms/step - loss: 0.0032 - categorical_accuracy: 0.9987 - val_loss: 0.3916 - val_categorical_accuracy: 0.9028\n",
      "Epoch 19/50\n",
      "146/146 [==============================] - 37s 251ms/step - loss: 0.0036 - categorical_accuracy: 0.9991 - val_loss: 0.3999 - val_categorical_accuracy: 0.8907\n",
      "Epoch 20/50\n",
      "146/146 [==============================] - 37s 251ms/step - loss: 0.0033 - categorical_accuracy: 0.9989 - val_loss: 0.3942 - val_categorical_accuracy: 0.8907\n",
      "Epoch 21/50\n",
      "146/146 [==============================] - 37s 251ms/step - loss: 0.0032 - categorical_accuracy: 0.9989 - val_loss: 0.3820 - val_categorical_accuracy: 0.9028\n",
      "Epoch 22/50\n",
      "146/146 [==============================] - 37s 251ms/step - loss: 0.0032 - categorical_accuracy: 0.9994 - val_loss: 0.3992 - val_categorical_accuracy: 0.8947\n",
      "Epoch 23/50\n",
      "146/146 [==============================] - 37s 252ms/step - loss: 0.0034 - categorical_accuracy: 0.9991 - val_loss: 0.3902 - val_categorical_accuracy: 0.8866\n",
      "Epoch 24/50\n",
      "146/146 [==============================] - 37s 251ms/step - loss: 0.0031 - categorical_accuracy: 0.9991 - val_loss: 0.3868 - val_categorical_accuracy: 0.8988\n",
      "Epoch 25/50\n",
      "146/146 [==============================] - 37s 252ms/step - loss: 0.0040 - categorical_accuracy: 0.9987 - val_loss: 0.3856 - val_categorical_accuracy: 0.9069\n",
      "Epoch 26/50\n",
      "146/146 [==============================] - 37s 252ms/step - loss: 0.0037 - categorical_accuracy: 0.9991 - val_loss: 0.3937 - val_categorical_accuracy: 0.8988\n",
      "Epoch 27/50\n",
      "146/146 [==============================] - 37s 252ms/step - loss: 0.0034 - categorical_accuracy: 0.9989 - val_loss: 0.3860 - val_categorical_accuracy: 0.9109\n",
      "Epoch 28/50\n",
      "146/146 [==============================] - 37s 252ms/step - loss: 0.0028 - categorical_accuracy: 0.9991 - val_loss: 0.4001 - val_categorical_accuracy: 0.8907\n",
      "Epoch 29/50\n",
      "146/146 [==============================] - 37s 252ms/step - loss: 0.0041 - categorical_accuracy: 0.9989 - val_loss: 0.4536 - val_categorical_accuracy: 0.8826\n",
      "Epoch 30/50\n",
      "146/146 [==============================] - 37s 253ms/step - loss: 0.1021 - categorical_accuracy: 0.9666 - val_loss: 0.4271 - val_categorical_accuracy: 0.8623\n",
      "Epoch 31/50\n",
      "146/146 [==============================] - 37s 254ms/step - loss: 0.0175 - categorical_accuracy: 0.9944 - val_loss: 0.5154 - val_categorical_accuracy: 0.8664\n",
      "Epoch 32/50\n",
      "146/146 [==============================] - 37s 253ms/step - loss: 0.0070 - categorical_accuracy: 0.9983 - val_loss: 0.4508 - val_categorical_accuracy: 0.8745\n",
      "Epoch 33/50\n",
      "146/146 [==============================] - 37s 253ms/step - loss: 0.0039 - categorical_accuracy: 0.9989 - val_loss: 0.4271 - val_categorical_accuracy: 0.8907\n",
      "Epoch 34/50\n",
      "146/146 [==============================] - 38s 261ms/step - loss: 0.0050 - categorical_accuracy: 0.9987 - val_loss: 0.4145 - val_categorical_accuracy: 0.8907\n",
      "Epoch 35/50\n",
      "146/146 [==============================] - 37s 254ms/step - loss: 0.0033 - categorical_accuracy: 0.9989 - val_loss: 0.4196 - val_categorical_accuracy: 0.8866\n",
      "Epoch 36/50\n",
      "146/146 [==============================] - 37s 255ms/step - loss: 0.0030 - categorical_accuracy: 0.9991 - val_loss: 0.4225 - val_categorical_accuracy: 0.8907\n",
      "Epoch 37/50\n",
      "146/146 [==============================] - 38s 259ms/step - loss: 0.0031 - categorical_accuracy: 0.9991 - val_loss: 0.4207 - val_categorical_accuracy: 0.8907\n",
      "Epoch 38/50\n",
      "146/146 [==============================] - 38s 257ms/step - loss: 0.0032 - categorical_accuracy: 0.9991 - val_loss: 0.4218 - val_categorical_accuracy: 0.8947\n",
      "Epoch 39/50\n",
      "146/146 [==============================] - 37s 256ms/step - loss: 0.0028 - categorical_accuracy: 0.9991 - val_loss: 0.4221 - val_categorical_accuracy: 0.8907\n",
      "Epoch 40/50\n",
      "146/146 [==============================] - 38s 259ms/step - loss: 0.0031 - categorical_accuracy: 0.9989 - val_loss: 0.4273 - val_categorical_accuracy: 0.8947\n",
      "Epoch 41/50\n",
      "146/146 [==============================] - 112s 769ms/step - loss: 0.0031 - categorical_accuracy: 0.9991 - val_loss: 0.4202 - val_categorical_accuracy: 0.8866\n",
      "Epoch 42/50\n",
      "146/146 [==============================] - 36s 247ms/step - loss: 0.0031 - categorical_accuracy: 0.9991 - val_loss: 0.4267 - val_categorical_accuracy: 0.8988\n",
      "Epoch 43/50\n",
      "146/146 [==============================] - 36s 249ms/step - loss: 0.0029 - categorical_accuracy: 0.9987 - val_loss: 0.4259 - val_categorical_accuracy: 0.8947\n",
      "Epoch 44/50\n",
      "146/146 [==============================] - 37s 251ms/step - loss: 0.0029 - categorical_accuracy: 0.9991 - val_loss: 0.4293 - val_categorical_accuracy: 0.8947\n",
      "Epoch 45/50\n",
      "146/146 [==============================] - 37s 253ms/step - loss: 0.0031 - categorical_accuracy: 0.9991 - val_loss: 0.4323 - val_categorical_accuracy: 0.8866\n",
      "Epoch 46/50\n",
      "146/146 [==============================] - 37s 252ms/step - loss: 0.0029 - categorical_accuracy: 0.9991 - val_loss: 0.4256 - val_categorical_accuracy: 0.8907\n",
      "Epoch 47/50\n",
      "146/146 [==============================] - 37s 253ms/step - loss: 0.0302 - categorical_accuracy: 0.9929 - val_loss: 0.5244 - val_categorical_accuracy: 0.8583\n",
      "Epoch 48/50\n",
      "146/146 [==============================] - 37s 253ms/step - loss: 0.0353 - categorical_accuracy: 0.9872 - val_loss: 0.4552 - val_categorical_accuracy: 0.8704\n",
      "Epoch 49/50\n",
      "146/146 [==============================] - 37s 254ms/step - loss: 0.0120 - categorical_accuracy: 0.9966 - val_loss: 0.5210 - val_categorical_accuracy: 0.8745\n",
      "Epoch 50/50\n",
      "146/146 [==============================] - 37s 253ms/step - loss: 0.0079 - categorical_accuracy: 0.9987 - val_loss: 0.4036 - val_categorical_accuracy: 0.8785\n"
     ]
    },
    {
     "data": {
      "image/png": "[encoded data removed]",
      "text/plain": [
       "<Figure size 432x288 with 1 Axes>"
      ]
     },
     "metadata": {},
     "output_type": "display_data"
    },
    {
     "data": {
      "image/png": "[encoded data removed]",
      "text/plain": [
       "<Figure size 432x288 with 1 Axes>"
      ]
     },
     "metadata": {},
     "output_type": "display_data"
    }
   ],
   "source": [
    "conv_base.trainable = True\n",
    "\n",
    "\n",
    "model.compile(\n",
    "    optimizer=optimizers.Adam(lr=1e-5), \n",
    "    loss=losses.categorical_crossentropy, \n",
    "    metrics=[metrics.categorical_accuracy]\n",
    ")\n",
    "\n",
    "history = model.fit_generator(train_generator, \n",
    "                              steps_per_epoch=146, \n",
    "                              epochs=50, \n",
    "                              validation_data=validation_generator, \n",
    "                              validation_steps=31)\n",
    "\n",
    "acc = history.history['categorical_accuracy']\n",
    "val_acc = history.history['val_categorical_accuracy']\n",
    "loss = history.history['loss']\n",
    "val_loss = history.history['val_loss']\n",
    "\n",
    "epochs = range(1, len(acc)+1)\n",
    "\n",
    "plt.plot(epochs, acc,  dashes=[2, 2, 10, 2], label='Training acc')\n",
    "plt.plot(epochs, val_acc, 'g', label='Validation acc')\n",
    "plt.title('Training and validation accuracy')\n",
    "plt.legend()\n",
    "\n",
    "plt.figure()\n",
    "plt.plot(epochs, loss,  dashes=[2, 2, 10, 2],label='Training losses')\n",
    "plt.plot(epochs, val_loss, 'g', label='Validation losses')\n",
    "plt.title('Training and validation loss')\n",
    "plt.legend()\n",
    "\n",
    "plt.show()  "
   ]
  },
  {
   "cell_type": "markdown",
   "metadata": {
    "colab": {
     "autoexec": {
      "startup": false,
      "wait_interval": 0
     }
    },
    "colab_type": "code",
    "id": "v_hmXE3aChWn"
   },
   "source": [
    "# Test the model"
   ]
  },
  {
   "cell_type": "code",
   "execution_count": null,
   "metadata": {},
   "outputs": [],
   "source": [
    "from keras.models import load_model\n",
    "model = load_model('fully_trained_model.h5')"
   ]
  },
  {
   "cell_type": "code",
   "execution_count": null,
   "metadata": {
    "collapsed": true
   },
   "outputs": [],
   "source": [
    "import cv2\n",
    "import matplotlib.pyplot as plt\n",
    "import numpy as np\n",
    "\n",
    "%matplotlib inline"
   ]
  },
  {
   "cell_type": "code",
   "execution_count": 59,
   "metadata": {
    "collapsed": true
   },
   "outputs": [],
   "source": [
    "labels = {\n",
    "    0 : \"Afraid\",\n",
    "    1 : \"Angry\",\n",
    "    2 : \"disgust\",\n",
    "    3 : \"happy\",\n",
    "    4 : \"neutral\",\n",
    "    5 : \"sad\",\n",
    "    6 : \"surprised\"\n",
    "}"
   ]
  },
  {
   "cell_type": "code",
   "execution_count": 54,
   "metadata": {},
   "outputs": [
    {
     "data": {
      "text/plain": [
       "(370, 240, 3)"
      ]
     },
     "execution_count": 54,
     "metadata": {},
     "output_type": "execute_result"
    }
   ],
   "source": [
    "image = cv2.imread('E:\\\\2.jpg')\n",
    "image.shape"
   ]
  },
  {
   "cell_type": "code",
   "execution_count": 55,
   "metadata": {},
   "outputs": [
    {
     "data": {
      "text/plain": [
       "<matplotlib.image.AxesImage at 0x1546a6d09e8>"
      ]
     },
     "execution_count": 55,
     "metadata": {},
     "output_type": "execute_result"
    },
    {
     "data": {
      "image/png": "[encoded data removed]",
      "text/plain": [
       "<matplotlib.figure.Figure at 0x1546a67f1d0>"
      ]
     },
     "metadata": {},
     "output_type": "display_data"
    }
   ],
   "source": [
    "plt.imshow(cv2.cvtColor(image, cv2.COLOR_BGR2RGB))"
   ]
  },
  {
   "cell_type": "code",
   "execution_count": 57,
   "metadata": {},
   "outputs": [
    {
     "data": {
      "text/plain": [
       "(1, 150, 150, 3)"
      ]
     },
     "execution_count": 57,
     "metadata": {},
     "output_type": "execute_result"
    }
   ],
   "source": [
    "image=np.array(cv2.resize(image, (150,150)))\n",
    "image = image.reshape(1, 150, 150, 3)\n",
    "image.shape"
   ]
  },
  {
   "cell_type": "code",
   "execution_count": 61,
   "metadata": {},
   "outputs": [
    {
     "data": {
      "text/plain": [
       "'happy'"
      ]
     },
     "execution_count": 61,
     "metadata": {},
     "output_type": "execute_result"
    }
   ],
   "source": [
    "labels[np.argmax(model.predict(image))]"
   ]
  },
  {
   "cell_type": "code",
   "execution_count": null,
   "metadata": {
    "collapsed": true
   },
   "outputs": [],
   "source": []
  }
 ],
 "metadata": {
  "accelerator": "GPU",
  "colab": {
   "collapsed_sections": [],
   "default_view": {},
   "name": "Emotion_detection.ipynb",
   "provenance": [],
   "version": "0.3.2",
   "views": {}
  },
  "kernelspec": {
   "display_name": "Python 3",
   "language": "python",
   "name": "python3"
  },
  "language_info": {
   "codemirror_mode": {
    "name": "ipython",
    "version": 3
   },
   "file_extension": ".py",
   "mimetype": "text/x-python",
   "name": "python",
   "nbconvert_exporter": "python",
   "pygments_lexer": "ipython3",
   "version": "3.6.5"
  }
 },
 "nbformat": 4,
 "nbformat_minor": 2
}
