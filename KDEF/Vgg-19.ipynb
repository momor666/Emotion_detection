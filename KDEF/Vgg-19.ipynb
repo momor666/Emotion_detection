{
 "cells": [
  {
   "cell_type": "code",
   "execution_count": 4,
   "metadata": {
    "colab": {
     "autoexec": {
      "startup": false,
      "wait_interval": 0
     }
    },
    "colab_type": "code",
    "id": "V95Uwl8F2u_S"
   },
   "outputs": [],
   "source": [
    "import numpy as np\n",
    "import pandas as pd\n",
    "import matplotlib.pyplot as plt\n",
    "import keras\n",
    "from keras.datasets import mnist\n",
    "from keras.utils import to_categorical\n",
    "\n",
    "from keras import models\n",
    "from keras import layers\n",
    "\n",
    "from keras import losses, optimizers, metrics"
   ]
  },
  {
   "cell_type": "code",
   "execution_count": 5,
   "metadata": {},
   "outputs": [
    {
     "name": "stdout",
     "output_type": "stream",
     "text": [
      "Found 4651 images belonging to 7 classes.\n",
      "Found 247 images belonging to 7 classes.\n"
     ]
    }
   ],
   "source": [
    "from keras.preprocessing.image import ImageDataGenerator\n",
    "train_dir = 'data\\\\train'\n",
    "test_dir ='data\\\\test'\n",
    "\n",
    "\n",
    "train_datagen = ImageDataGenerator(rescale=1./255)\n",
    "test_datagen = ImageDataGenerator(rescale=1./255)\n",
    "\n",
    "train_generator = train_datagen.flow_from_directory(\n",
    "    train_dir,\n",
    "    target_size = (224, 224),\n",
    "    batch_size=32\n",
    ")\n",
    "\n",
    "validation_generator = test_datagen.flow_from_directory(\n",
    "    test_dir,\n",
    "    target_size = (224, 224),\n",
    "    batch_size=8\n",
    ")"
   ]
  },
  {
   "cell_type": "markdown",
   "metadata": {
    "colab_type": "text",
    "id": "VyVSA5Nb-5tQ"
   },
   "source": [
    "# Try using pretrined model"
   ]
  },
  {
   "cell_type": "code",
   "execution_count": 2,
   "metadata": {
    "colab": {
     "autoexec": {
      "startup": false,
      "wait_interval": 0
     },
     "base_uri": "https://localhost:8080/",
     "height": 51,
     "output_extras": [
      {
       "item_id": 2
      }
     ]
    },
    "colab_type": "code",
    "executionInfo": {
     "elapsed": 2835,
     "status": "ok",
     "timestamp": 1518622992285,
     "user": {
      "displayName": "Shuvendu Bikash",
      "photoUrl": "//lh6.googleusercontent.com/-qmLdelcDhNY/AAAAAAAAAAI/AAAAAAAAOyw/0BejXT-_QPo/s50-c-k-no/photo.jpg",
      "userId": "106434026064423574094"
     },
     "user_tz": -360
    },
    "id": "tVtbN_6L-LbB",
    "outputId": "169402bb-4993-42ed-98b2-5c03f9f873d5"
   },
   "outputs": [
    {
     "name": "stdout",
     "output_type": "stream",
     "text": [
      "_________________________________________________________________\n",
      "Layer (type)                 Output Shape              Param #   \n",
      "=================================================================\n",
      "input_1 (InputLayer)         (None, 224, 224, 3)       0         \n",
      "_________________________________________________________________\n",
      "block1_conv1 (Conv2D)        (None, 224, 224, 64)      1792      \n",
      "_________________________________________________________________\n",
      "block1_conv2 (Conv2D)        (None, 224, 224, 64)      36928     \n",
      "_________________________________________________________________\n",
      "block1_pool (MaxPooling2D)   (None, 112, 112, 64)      0         \n",
      "_________________________________________________________________\n",
      "block2_conv1 (Conv2D)        (None, 112, 112, 128)     73856     \n",
      "_________________________________________________________________\n",
      "block2_conv2 (Conv2D)        (None, 112, 112, 128)     147584    \n",
      "_________________________________________________________________\n",
      "block2_pool (MaxPooling2D)   (None, 56, 56, 128)       0         \n",
      "_________________________________________________________________\n",
      "block3_conv1 (Conv2D)        (None, 56, 56, 256)       295168    \n",
      "_________________________________________________________________\n",
      "block3_conv2 (Conv2D)        (None, 56, 56, 256)       590080    \n",
      "_________________________________________________________________\n",
      "block3_conv3 (Conv2D)        (None, 56, 56, 256)       590080    \n",
      "_________________________________________________________________\n",
      "block3_conv4 (Conv2D)        (None, 56, 56, 256)       590080    \n",
      "_________________________________________________________________\n",
      "block3_pool (MaxPooling2D)   (None, 28, 28, 256)       0         \n",
      "_________________________________________________________________\n",
      "block4_conv1 (Conv2D)        (None, 28, 28, 512)       1180160   \n",
      "_________________________________________________________________\n",
      "block4_conv2 (Conv2D)        (None, 28, 28, 512)       2359808   \n",
      "_________________________________________________________________\n",
      "block4_conv3 (Conv2D)        (None, 28, 28, 512)       2359808   \n",
      "_________________________________________________________________\n",
      "block4_conv4 (Conv2D)        (None, 28, 28, 512)       2359808   \n",
      "_________________________________________________________________\n",
      "block4_pool (MaxPooling2D)   (None, 14, 14, 512)       0         \n",
      "_________________________________________________________________\n",
      "block5_conv1 (Conv2D)        (None, 14, 14, 512)       2359808   \n",
      "_________________________________________________________________\n",
      "block5_conv2 (Conv2D)        (None, 14, 14, 512)       2359808   \n",
      "_________________________________________________________________\n",
      "block5_conv3 (Conv2D)        (None, 14, 14, 512)       2359808   \n",
      "_________________________________________________________________\n",
      "block5_conv4 (Conv2D)        (None, 14, 14, 512)       2359808   \n",
      "_________________________________________________________________\n",
      "block5_pool (MaxPooling2D)   (None, 7, 7, 512)         0         \n",
      "=================================================================\n",
      "Total params: 20,024,384\n",
      "Trainable params: 20,024,384\n",
      "Non-trainable params: 0\n",
      "_________________________________________________________________\n"
     ]
    }
   ],
   "source": [
    "from keras.applications import VGG19\n",
    "\n",
    "conv_base = VGG19(weights='imagenet',\n",
    "                 include_top=False,\n",
    "                 input_shape=(224, 224, 3))\n",
    "\n",
    "conv_base.summary()"
   ]
  },
  {
   "cell_type": "code",
   "execution_count": 6,
   "metadata": {
    "colab": {
     "autoexec": {
      "startup": false,
      "wait_interval": 0
     },
     "base_uri": "https://localhost:8080/",
     "height": 272,
     "output_extras": [
      {
       "item_id": 1
      }
     ]
    },
    "colab_type": "code",
    "executionInfo": {
     "elapsed": 1319,
     "status": "ok",
     "timestamp": 1518623116608,
     "user": {
      "displayName": "Shuvendu Bikash",
      "photoUrl": "//lh6.googleusercontent.com/-qmLdelcDhNY/AAAAAAAAAAI/AAAAAAAAOyw/0BejXT-_QPo/s50-c-k-no/photo.jpg",
      "userId": "106434026064423574094"
     },
     "user_tz": -360
    },
    "id": "_skOPxk9-9v2",
    "outputId": "9ce900f6-291e-4ca3-8ef1-56d098e2311d"
   },
   "outputs": [
    {
     "name": "stdout",
     "output_type": "stream",
     "text": [
      "_________________________________________________________________\n",
      "Layer (type)                 Output Shape              Param #   \n",
      "=================================================================\n",
      "vgg19 (Model)                (None, 7, 7, 512)         20024384  \n",
      "_________________________________________________________________\n",
      "flatten_1 (Flatten)          (None, 25088)             0         \n",
      "_________________________________________________________________\n",
      "dense_1 (Dense)              (None, 512)               12845568  \n",
      "_________________________________________________________________\n",
      "dense_2 (Dense)              (None, 7)                 3591      \n",
      "=================================================================\n",
      "Total params: 32,873,543\n",
      "Trainable params: 32,873,543\n",
      "Non-trainable params: 0\n",
      "_________________________________________________________________\n"
     ]
    }
   ],
   "source": [
    "model = models.Sequential()\n",
    "\n",
    "model.add(conv_base)\n",
    "model.add(layers.Flatten())\n",
    "model.add(layers.Dense(512))\n",
    "model.add(layers.Dense(7, activation='softmax'))\n",
    "model.summary()"
   ]
  },
  {
   "cell_type": "code",
   "execution_count": 7,
   "metadata": {
    "colab": {
     "autoexec": {
      "startup": false,
      "wait_interval": 0
     },
     "base_uri": "https://localhost:8080/",
     "height": 326,
     "output_extras": [
      {
       "item_id": 57
      },
      {
       "item_id": 102
      },
      {
       "item_id": 146
      },
      {
       "item_id": 185
      },
      {
       "item_id": 223
      },
      {
       "item_id": 264
      },
      {
       "item_id": 312
      },
      {
       "item_id": 340
      },
      {
       "item_id": 350
      }
     ]
    },
    "colab_type": "code",
    "executionInfo": {
     "elapsed": 281971,
     "status": "ok",
     "timestamp": 1518623773926,
     "user": {
      "displayName": "Shuvendu Bikash",
      "photoUrl": "//lh6.googleusercontent.com/-qmLdelcDhNY/AAAAAAAAAAI/AAAAAAAAOyw/0BejXT-_QPo/s50-c-k-no/photo.jpg",
      "userId": "106434026064423574094"
     },
     "user_tz": -360
    },
    "id": "clg09hoI_ce1",
    "outputId": "d09f4d91-5834-43c8-d48e-f6b24c890f80"
   },
   "outputs": [
    {
     "name": "stdout",
     "output_type": "stream",
     "text": [
      "This is the number of trainable weights before freezing the conv base: 4\n",
      "Epoch 1/15\n",
      "146/146 [==============================] - 42s 286ms/step - loss: 1.7843 - categorical_accuracy: 0.3311 - val_loss: 1.4778 - val_categorical_accuracy: 0.4494\n",
      "Epoch 2/15\n",
      "146/146 [==============================] - 36s 250ms/step - loss: 1.2500 - categorical_accuracy: 0.5455 - val_loss: 1.4426 - val_categorical_accuracy: 0.4777\n",
      "Epoch 3/15\n",
      "146/146 [==============================] - 37s 251ms/step - loss: 1.0080 - categorical_accuracy: 0.6409 - val_loss: 1.3468 - val_categorical_accuracy: 0.5304\n",
      "Epoch 4/15\n",
      "146/146 [==============================] - 37s 254ms/step - loss: 0.8552 - categorical_accuracy: 0.7093 - val_loss: 1.1627 - val_categorical_accuracy: 0.5304\n",
      "Epoch 5/15\n",
      "146/146 [==============================] - 37s 256ms/step - loss: 0.7215 - categorical_accuracy: 0.7671 - val_loss: 1.1172 - val_categorical_accuracy: 0.5870\n",
      "Epoch 6/15\n",
      "146/146 [==============================] - 37s 255ms/step - loss: 0.6388 - categorical_accuracy: 0.8029 - val_loss: 0.9637 - val_categorical_accuracy: 0.6640\n",
      "Epoch 7/15\n",
      "146/146 [==============================] - 37s 256ms/step - loss: 0.5708 - categorical_accuracy: 0.8238 - val_loss: 0.9542 - val_categorical_accuracy: 0.6194\n",
      "Epoch 8/15\n",
      "146/146 [==============================] - 37s 256ms/step - loss: 0.4885 - categorical_accuracy: 0.8611 - val_loss: 1.0118 - val_categorical_accuracy: 0.6356\n",
      "Epoch 9/15\n",
      "146/146 [==============================] - 37s 256ms/step - loss: 0.4428 - categorical_accuracy: 0.8802 - val_loss: 1.0240 - val_categorical_accuracy: 0.6356\n",
      "Epoch 10/15\n",
      "146/146 [==============================] - 37s 255ms/step - loss: 0.3892 - categorical_accuracy: 0.9035 - val_loss: 0.8735 - val_categorical_accuracy: 0.6640\n",
      "Epoch 11/15\n",
      "146/146 [==============================] - 37s 256ms/step - loss: 0.3489 - categorical_accuracy: 0.9172 - val_loss: 0.8270 - val_categorical_accuracy: 0.6923\n",
      "Epoch 12/15\n",
      "146/146 [==============================] - 37s 256ms/step - loss: 0.3014 - categorical_accuracy: 0.9386 - val_loss: 0.7859 - val_categorical_accuracy: 0.6923\n",
      "Epoch 13/15\n",
      "146/146 [==============================] - 37s 255ms/step - loss: 0.3110 - categorical_accuracy: 0.9255 - val_loss: 0.7774 - val_categorical_accuracy: 0.6802\n",
      "Epoch 14/15\n",
      "146/146 [==============================] - 37s 256ms/step - loss: 0.2440 - categorical_accuracy: 0.9529 - val_loss: 0.8189 - val_categorical_accuracy: 0.6923\n",
      "Epoch 15/15\n",
      "146/146 [==============================] - 37s 256ms/step - loss: 0.2268 - categorical_accuracy: 0.9578 - val_loss: 0.7996 - val_categorical_accuracy: 0.6923\n"
     ]
    }
   ],
   "source": [
    "conv_base.trainable = False\n",
    "print('This is the number of trainable weights before freezing the conv base:', len(model.trainable_weights))\n",
    "\n",
    "model.compile(\n",
    "    optimizer=optimizers.Adam(lr=5e-5), \n",
    "    loss=losses.categorical_crossentropy, \n",
    "    metrics=[metrics.categorical_accuracy]\n",
    ")\n",
    "\n",
    "history = model.fit_generator(train_generator, \n",
    "                              steps_per_epoch=146, \n",
    "                              epochs=15, \n",
    "                              validation_data=validation_generator, \n",
    "                              validation_steps=31)"
   ]
  },
  {
   "cell_type": "code",
   "execution_count": 8,
   "metadata": {
    "colab": {
     "autoexec": {
      "startup": false,
      "wait_interval": 0
     }
    },
    "colab_type": "code",
    "id": "Atle6EGR_o-T"
   },
   "outputs": [],
   "source": [
    "conv_base.trainable = True\n",
    "set_trainable = False\n",
    "for layer in conv_base.layers:\n",
    "    if layer.name == 'block5_conv1':\n",
    "        set_trainable = True\n",
    "    if set_trainable:\n",
    "        layer.trainable = True\n",
    "    else:\n",
    "        layer.trainable = False"
   ]
  },
  {
   "cell_type": "code",
   "execution_count": 9,
   "metadata": {
    "colab": {
     "autoexec": {
      "startup": false,
      "wait_interval": 0
     },
     "base_uri": "https://localhost:8080/",
     "height": 955,
     "output_extras": [
      {
       "item_id": 54
      },
      {
       "item_id": 114
      },
      {
       "item_id": 174
      },
      {
       "item_id": 243
      },
      {
       "item_id": 298
      },
      {
       "item_id": 363
      },
      {
       "item_id": 430
      },
      {
       "item_id": 470
      },
      {
       "item_id": 520
      },
      {
       "item_id": 560
      },
      {
       "item_id": 596
      },
      {
       "item_id": 640
      },
      {
       "item_id": 683
      },
      {
       "item_id": 736
      },
      {
       "item_id": 796
      },
      {
       "item_id": 859
      },
      {
       "item_id": 914
      },
      {
       "item_id": 976
      },
      {
       "item_id": 1034
      },
      {
       "item_id": 1098
      },
      {
       "item_id": 1155
      },
      {
       "item_id": 1222
      },
      {
       "item_id": 1284
      },
      {
       "item_id": 1353
      },
      {
       "item_id": 1425
      },
      {
       "item_id": 1485
      },
      {
       "item_id": 1510
      }
     ]
    },
    "colab_type": "code",
    "id": "gpT0IIyLAWpR",
    "outputId": "5cbf1a75-da29-4d65-b4ba-5f33fc625ceb"
   },
   "outputs": [
    {
     "name": "stdout",
     "output_type": "stream",
     "text": [
      "Epoch 1/50\n",
      "146/146 [==============================] - 45s 305ms/step - loss: 0.1939 - categorical_accuracy: 0.9452 - val_loss: 0.6947 - val_categorical_accuracy: 0.7490\n",
      "Epoch 2/50\n",
      "146/146 [==============================] - 43s 292ms/step - loss: 0.0952 - categorical_accuracy: 0.9829 - val_loss: 0.6427 - val_categorical_accuracy: 0.7773\n",
      "Epoch 3/50\n",
      "146/146 [==============================] - 43s 293ms/step - loss: 0.0694 - categorical_accuracy: 0.9869 - val_loss: 0.7133 - val_categorical_accuracy: 0.7530\n",
      "Epoch 4/50\n",
      "146/146 [==============================] - 43s 293ms/step - loss: 0.0494 - categorical_accuracy: 0.9932 - val_loss: 0.6946 - val_categorical_accuracy: 0.7773\n",
      "Epoch 5/50\n",
      "146/146 [==============================] - 43s 294ms/step - loss: 0.0417 - categorical_accuracy: 0.9919 - val_loss: 0.6132 - val_categorical_accuracy: 0.8016\n",
      "Epoch 6/50\n",
      "146/146 [==============================] - 43s 296ms/step - loss: 0.0320 - categorical_accuracy: 0.9938 - val_loss: 0.6532 - val_categorical_accuracy: 0.8097\n",
      "Epoch 7/50\n",
      "146/146 [==============================] - 43s 296ms/step - loss: 0.0302 - categorical_accuracy: 0.9940 - val_loss: 0.5563 - val_categorical_accuracy: 0.8259\n",
      "Epoch 8/50\n",
      "146/146 [==============================] - 43s 297ms/step - loss: 0.0207 - categorical_accuracy: 0.9966 - val_loss: 0.6402 - val_categorical_accuracy: 0.8057\n",
      "Epoch 9/50\n",
      "146/146 [==============================] - 43s 298ms/step - loss: 0.0115 - categorical_accuracy: 0.9985 - val_loss: 0.5828 - val_categorical_accuracy: 0.8300\n",
      "Epoch 10/50\n",
      "146/146 [==============================] - 43s 298ms/step - loss: 0.0089 - categorical_accuracy: 0.9987 - val_loss: 0.5868 - val_categorical_accuracy: 0.8097\n",
      "Epoch 11/50\n",
      "146/146 [==============================] - 72s 493ms/step - loss: 0.0064 - categorical_accuracy: 0.9987 - val_loss: 0.5789 - val_categorical_accuracy: 0.8259\n",
      "Epoch 12/50\n",
      "146/146 [==============================] - 43s 294ms/step - loss: 0.0074 - categorical_accuracy: 0.9983 - val_loss: 0.6294 - val_categorical_accuracy: 0.8178\n",
      "Epoch 13/50\n",
      "146/146 [==============================] - 43s 297ms/step - loss: 0.0451 - categorical_accuracy: 0.9854 - val_loss: 0.8506 - val_categorical_accuracy: 0.7773\n",
      "Epoch 14/50\n",
      "146/146 [==============================] - 44s 298ms/step - loss: 0.0864 - categorical_accuracy: 0.9745 - val_loss: 0.6204 - val_categorical_accuracy: 0.8097\n",
      "Epoch 15/50\n",
      "146/146 [==============================] - 44s 298ms/step - loss: 0.0198 - categorical_accuracy: 0.9953 - val_loss: 0.6104 - val_categorical_accuracy: 0.8057\n",
      "Epoch 16/50\n",
      "146/146 [==============================] - 44s 298ms/step - loss: 0.0102 - categorical_accuracy: 0.9979 - val_loss: 0.5789 - val_categorical_accuracy: 0.8219\n",
      "Epoch 17/50\n",
      "146/146 [==============================] - 43s 297ms/step - loss: 0.0064 - categorical_accuracy: 0.9985 - val_loss: 0.5694 - val_categorical_accuracy: 0.8097\n",
      "Epoch 18/50\n",
      "146/146 [==============================] - 44s 298ms/step - loss: 0.0052 - categorical_accuracy: 0.9989 - val_loss: 0.5606 - val_categorical_accuracy: 0.8097\n",
      "Epoch 19/50\n",
      "146/146 [==============================] - 44s 298ms/step - loss: 0.0048 - categorical_accuracy: 0.9989 - val_loss: 0.5742 - val_categorical_accuracy: 0.8340\n",
      "Epoch 20/50\n",
      "146/146 [==============================] - 44s 298ms/step - loss: 0.0050 - categorical_accuracy: 0.9989 - val_loss: 0.5970 - val_categorical_accuracy: 0.8421\n",
      "Epoch 21/50\n",
      "146/146 [==============================] - 44s 298ms/step - loss: 0.0050 - categorical_accuracy: 0.9987 - val_loss: 0.5870 - val_categorical_accuracy: 0.8057\n",
      "Epoch 22/50\n",
      "146/146 [==============================] - 44s 299ms/step - loss: 0.0045 - categorical_accuracy: 0.9989 - val_loss: 0.5819 - val_categorical_accuracy: 0.8259\n",
      "Epoch 23/50\n",
      "146/146 [==============================] - 44s 298ms/step - loss: 0.0048 - categorical_accuracy: 0.9989 - val_loss: 0.5851 - val_categorical_accuracy: 0.8219\n",
      "Epoch 24/50\n",
      "146/146 [==============================] - 44s 298ms/step - loss: 0.0048 - categorical_accuracy: 0.9989 - val_loss: 0.5965 - val_categorical_accuracy: 0.8340\n",
      "Epoch 25/50\n",
      "146/146 [==============================] - 44s 299ms/step - loss: 0.0063 - categorical_accuracy: 0.9981 - val_loss: 0.6340 - val_categorical_accuracy: 0.8381\n",
      "Epoch 26/50\n",
      "146/146 [==============================] - 44s 299ms/step - loss: 0.0059 - categorical_accuracy: 0.9989 - val_loss: 0.5808 - val_categorical_accuracy: 0.8259\n",
      "Epoch 27/50\n",
      "146/146 [==============================] - 44s 299ms/step - loss: 0.0047 - categorical_accuracy: 0.9989 - val_loss: 0.6017 - val_categorical_accuracy: 0.8502\n",
      "Epoch 28/50\n",
      "146/146 [==============================] - 44s 299ms/step - loss: 0.0044 - categorical_accuracy: 0.9989 - val_loss: 0.5842 - val_categorical_accuracy: 0.8502\n",
      "Epoch 29/50\n",
      "146/146 [==============================] - 44s 299ms/step - loss: 0.0042 - categorical_accuracy: 0.9989 - val_loss: 0.5840 - val_categorical_accuracy: 0.8340\n",
      "Epoch 30/50\n",
      "146/146 [==============================] - 44s 299ms/step - loss: 0.0039 - categorical_accuracy: 0.9991 - val_loss: 0.5782 - val_categorical_accuracy: 0.8421\n",
      "Epoch 31/50\n",
      "146/146 [==============================] - 44s 298ms/step - loss: 0.0040 - categorical_accuracy: 0.9987 - val_loss: 0.5722 - val_categorical_accuracy: 0.8219\n",
      "Epoch 32/50\n",
      "146/146 [==============================] - 44s 298ms/step - loss: 0.0050 - categorical_accuracy: 0.9987 - val_loss: 0.6047 - val_categorical_accuracy: 0.8462\n",
      "Epoch 33/50\n",
      "146/146 [==============================] - 44s 299ms/step - loss: 0.0038 - categorical_accuracy: 0.9987 - val_loss: 0.5988 - val_categorical_accuracy: 0.8543\n",
      "Epoch 34/50\n",
      "146/146 [==============================] - 44s 299ms/step - loss: 0.0037 - categorical_accuracy: 0.9989 - val_loss: 0.6030 - val_categorical_accuracy: 0.8340\n",
      "Epoch 35/50\n",
      "146/146 [==============================] - 44s 299ms/step - loss: 0.0040 - categorical_accuracy: 0.9987 - val_loss: 0.5997 - val_categorical_accuracy: 0.8421\n",
      "Epoch 36/50\n",
      "146/146 [==============================] - 44s 299ms/step - loss: 0.0032 - categorical_accuracy: 0.9989 - val_loss: 0.6076 - val_categorical_accuracy: 0.8340\n",
      "Epoch 37/50\n",
      "146/146 [==============================] - 44s 299ms/step - loss: 0.0053 - categorical_accuracy: 0.9987 - val_loss: 0.6473 - val_categorical_accuracy: 0.8421\n",
      "Epoch 38/50\n",
      "146/146 [==============================] - 44s 299ms/step - loss: 0.0046 - categorical_accuracy: 0.9987 - val_loss: 0.6276 - val_categorical_accuracy: 0.8421\n",
      "Epoch 39/50\n",
      "146/146 [==============================] - 44s 299ms/step - loss: 0.0032 - categorical_accuracy: 0.9989 - val_loss: 0.6167 - val_categorical_accuracy: 0.8543\n",
      "Epoch 40/50\n",
      "146/146 [==============================] - 44s 300ms/step - loss: 0.0036 - categorical_accuracy: 0.9989 - val_loss: 0.6020 - val_categorical_accuracy: 0.8421\n",
      "Epoch 41/50\n",
      "146/146 [==============================] - 44s 299ms/step - loss: 0.0764 - categorical_accuracy: 0.9777 - val_loss: 0.7271 - val_categorical_accuracy: 0.7571\n",
      "Epoch 42/50\n",
      "146/146 [==============================] - 44s 299ms/step - loss: 0.1513 - categorical_accuracy: 0.9478 - val_loss: 0.7238 - val_categorical_accuracy: 0.8300\n",
      "Epoch 43/50\n",
      "146/146 [==============================] - 44s 300ms/step - loss: 0.0231 - categorical_accuracy: 0.9942 - val_loss: 0.6257 - val_categorical_accuracy: 0.8340\n",
      "Epoch 44/50\n",
      "146/146 [==============================] - 44s 300ms/step - loss: 0.0058 - categorical_accuracy: 0.9991 - val_loss: 0.5767 - val_categorical_accuracy: 0.8421\n",
      "Epoch 45/50\n",
      "146/146 [==============================] - 44s 300ms/step - loss: 0.0040 - categorical_accuracy: 0.9991 - val_loss: 0.5543 - val_categorical_accuracy: 0.8462\n",
      "Epoch 46/50\n",
      "146/146 [==============================] - 44s 299ms/step - loss: 0.0036 - categorical_accuracy: 0.9991 - val_loss: 0.5584 - val_categorical_accuracy: 0.8543\n",
      "Epoch 47/50\n",
      "146/146 [==============================] - 44s 299ms/step - loss: 0.0033 - categorical_accuracy: 0.9991 - val_loss: 0.5631 - val_categorical_accuracy: 0.8502\n",
      "Epoch 48/50\n",
      "146/146 [==============================] - 44s 299ms/step - loss: 0.0033 - categorical_accuracy: 0.9991 - val_loss: 0.5633 - val_categorical_accuracy: 0.8462\n",
      "Epoch 49/50\n",
      "146/146 [==============================] - 44s 298ms/step - loss: 0.0032 - categorical_accuracy: 0.9991 - val_loss: 0.5700 - val_categorical_accuracy: 0.8502\n",
      "Epoch 50/50\n",
      "146/146 [==============================] - 44s 299ms/step - loss: 0.0034 - categorical_accuracy: 0.9991 - val_loss: 0.5609 - val_categorical_accuracy: 0.8543\n"
     ]
    }
   ],
   "source": [
    "model.compile(\n",
    "    optimizer=optimizers.Adam(lr=1e-5), \n",
    "    loss=losses.categorical_crossentropy, \n",
    "    metrics=[metrics.categorical_accuracy]\n",
    ")\n",
    "\n",
    "history = model.fit_generator(train_generator, \n",
    "                              steps_per_epoch=146, \n",
    "                              epochs=50, \n",
    "                              validation_data=validation_generator, \n",
    "                              validation_steps=31)"
   ]
  },
  {
   "cell_type": "code",
   "execution_count": null,
   "metadata": {
    "colab": {
     "autoexec": {
      "startup": false,
      "wait_interval": 0
     }
    },
    "colab_type": "code",
    "id": "X9QrfV3vAig7"
   },
   "outputs": [],
   "source": [
    "import matplotlib.pyplot as plt\n",
    "\n",
    "acc = history.history['categorical_accuracy']\n",
    "val_acc = history.history['val_categorical_accuracy']\n",
    "loss = history.history['loss']\n",
    "val_loss = history.history['val_loss']\n",
    "\n",
    "epochs = range(1, len(acc)+1)\n",
    "\n",
    "plt.plot(epochs, acc,  dashes=[2, 2, 10, 2], label='Training acc')\n",
    "plt.plot(epochs, val_acc, 'g', label='Validation acc')\n",
    "plt.title('Training and validation accuracy')\n",
    "plt.legend()\n",
    "\n",
    "plt.figure()\n",
    "plt.plot(epochs, loss,  dashes=[2, 2, 10, 2],label='Training losses')\n",
    "plt.plot(epochs, val_loss, 'g', label='Validation losses')\n",
    "plt.title('Training and validation loss')\n",
    "plt.legend()\n",
    "\n",
    "plt.show()"
   ]
  },
  {
   "cell_type": "code",
   "execution_count": null,
   "metadata": {
    "colab": {
     "autoexec": {
      "startup": false,
      "wait_interval": 0
     }
    },
    "colab_type": "code",
    "collapsed": true,
    "id": "3xtr7CZuAkfM"
   },
   "outputs": [],
   "source": [
    "model.save('fully_trained_model.h5')"
   ]
  },
  {
   "cell_type": "markdown",
   "metadata": {},
   "source": [
    "# Train the full VGG network"
   ]
  },
  {
   "cell_type": "code",
   "execution_count": null,
   "metadata": {},
   "outputs": [],
   "source": [
    "conv_base.trainable = True\n",
    "\n",
    "model.compile(\n",
    "    optimizer=optimizers.Adam(lr=1e-5), \n",
    "    loss=losses.categorical_crossentropy, \n",
    "    metrics=[metrics.categorical_accuracy]\n",
    ")\n",
    "\n",
    "history = model.fit_generator(train_generator, \n",
    "                              steps_per_epoch=146, \n",
    "                              epochs=30, \n",
    "                              validation_data=validation_generator, \n",
    "                              validation_steps=31)\n",
    "\n",
    "acc = history.history['categorical_accuracy']\n",
    "val_acc = history.history['val_categorical_accuracy']\n",
    "loss = history.history['loss']\n",
    "val_loss = history.history['val_loss']\n",
    "\n",
    "epochs = range(1, len(acc)+1)\n",
    "\n",
    "plt.plot(epochs, acc,  dashes=[2, 2, 10, 2], label='Training acc')\n",
    "plt.plot(epochs, val_acc, 'g', label='Validation acc')\n",
    "plt.title('Training and validation accuracy')\n",
    "plt.legend()\n",
    "\n",
    "plt.figure()\n",
    "plt.plot(epochs, loss,  dashes=[2, 2, 10, 2],label='Training losses')\n",
    "plt.plot(epochs, val_loss, 'g', label='Validation losses')\n",
    "plt.title('Training and validation loss')\n",
    "plt.legend()\n",
    "\n",
    "plt.show()"
   ]
  }
 ],
 "metadata": {
  "accelerator": "GPU",
  "colab": {
   "collapsed_sections": [],
   "default_view": {},
   "name": "Emotion_detection.ipynb",
   "provenance": [],
   "version": "0.3.2",
   "views": {}
  },
  "kernelspec": {
   "display_name": "Python 3",
   "language": "python",
   "name": "python3"
  },
  "language_info": {
   "codemirror_mode": {
    "name": "ipython",
    "version": 3
   },
   "file_extension": ".py",
   "mimetype": "text/x-python",
   "name": "python",
   "nbconvert_exporter": "python",
   "pygments_lexer": "ipython3",
   "version": "3.6.5"
  }
 },
 "nbformat": 4,
 "nbformat_minor": 2
}
