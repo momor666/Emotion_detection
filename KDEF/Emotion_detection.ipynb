{
 "cells": [
  {
   "cell_type": "code",
   "execution_count": 3,
   "metadata": {
    "colab": {
     "autoexec": {
      "startup": false,
      "wait_interval": 0
     }
    },
    "colab_type": "code",
    "id": "V95Uwl8F2u_S"
   },
   "outputs": [
    {
     "name": "stderr",
     "output_type": "stream",
     "text": [
      "Using TensorFlow backend.\n"
     ]
    }
   ],
   "source": [
    "import numpy as np\n",
    "import pandas as pd\n",
    "import matplotlib.pyplot as plt\n",
    "import keras"
   ]
  },
  {
   "cell_type": "code",
   "execution_count": 4,
   "metadata": {
    "colab": {
     "autoexec": {
      "startup": false,
      "wait_interval": 0
     }
    },
    "colab_type": "code",
    "id": "yPhuoPtMz_WG"
   },
   "outputs": [],
   "source": [
    "from os import listdir\n",
    "path = \"E:\\Datasets\\KDEF_and_AKDEF\\\\KDEF\"\n",
    "pathlist = listdir(path)"
   ]
  },
  {
   "cell_type": "code",
   "execution_count": 19,
   "metadata": {
    "colab": {
     "autoexec": {
      "startup": false,
      "wait_interval": 0
     },
     "base_uri": "https://localhost:8080/",
     "height": 34,
     "output_extras": [
      {
       "item_id": 1
      }
     ]
    },
    "colab_type": "code",
    "executionInfo": {
     "elapsed": 1716,
     "status": "ok",
     "timestamp": 1518620256984,
     "user": {
      "displayName": "Shuvendu Bikash",
      "photoUrl": "//lh6.googleusercontent.com/-qmLdelcDhNY/AAAAAAAAAAI/AAAAAAAAOyw/0BejXT-_QPo/s50-c-k-no/photo.jpg",
      "userId": "106434026064423574094"
     },
     "user_tz": -360
    },
    "id": "u8AbJ2ar0MuQ",
    "outputId": "7a1f825b-022a-48a7-c905-17dbd8a48e9a"
   },
   "outputs": [],
   "source": [
    "from shutil import copyfile\n",
    "import os\n",
    "\n",
    "for i in range(len(pathlist)):\n",
    "    img_path = listdir(path+\"\\\\\"+pathlist[i])\n",
    "    for j in range(len(img_path)):\n",
    "        if(img_path[j][4:6]==\"AF\"):\n",
    "            dst = \"E:\\\\Datasets\\\\KDEF_and_AKDEF\\\\data\\\\AF\"\n",
    "        elif(img_path[j][4:6]==\"AN\"):\n",
    "            dst = \"E:\\\\Datasets\\\\KDEF_and_AKDEF\\\\data\\\\AN\"\n",
    "        elif(img_path[j][4:6]==\"DI\"):\n",
    "            dst = \"E:\\\\Datasets\\\\KDEF_and_AKDEF\\\\data\\\\DI\"\n",
    "        elif(img_path[j][4:6]==\"HA\"):\n",
    "            dst = \"E:\\\\Datasets\\\\KDEF_and_AKDEF\\\\data\\\\HA\"\n",
    "        elif(img_path[j][4:6]==\"NE\"):\n",
    "            dst = \"E:\\\\Datasets\\\\KDEF_and_AKDEF\\\\data\\\\NE\"\n",
    "        elif(img_path[j][4:6]==\"SA\"):\n",
    "            dst = \"E:\\\\Datasets\\\\KDEF_and_AKDEF\\\\data\\\\SA\"\n",
    "        elif(img_path[j][4:6]==\"SU\"):\n",
    "            dst = \"E:\\\\Datasets\\\\KDEF_and_AKDEF\\\\data\\\\SU\"\n",
    "        \n",
    "        if not os.path.exists(dst):\n",
    "            os.makedirs(dst)\n",
    "        \n",
    "        src = path+\"\\\\\"+pathlist[i]+\"\\\\\"+img_path[j]\n",
    "        dst = dst + \"\\\\\" + img_path[j]\n",
    "        try:\n",
    "            copyfile(src, dst)\n",
    "        except:\n",
    "            pass"
   ]
  },
  {
   "cell_type": "markdown",
   "metadata": {
    "colab_type": "text",
    "id": "teiwDTpF6Eq8"
   },
   "source": [
    "# Training with CNN"
   ]
  },
  {
   "cell_type": "code",
   "execution_count": 6,
   "metadata": {
    "colab": {
     "autoexec": {
      "startup": false,
      "wait_interval": 0
     }
    },
    "colab_type": "code",
    "id": "ckDWqMjk4yBE"
   },
   "outputs": [],
   "source": [
    "from keras.datasets import mnist\n",
    "from keras.utils import to_categorical\n",
    "\n",
    "from keras import models\n",
    "from keras import layers\n",
    "\n",
    "from keras import losses, optimizers, metrics\n"
   ]
  },
  {
   "cell_type": "code",
   "execution_count": 7,
   "metadata": {
    "colab": {
     "autoexec": {
      "startup": false,
      "wait_interval": 0
     },
     "base_uri": "https://localhost:8080/",
     "height": 51,
     "output_extras": [
      {
       "item_id": 2
      }
     ]
    },
    "colab_type": "code",
    "executionInfo": {
     "elapsed": 2038,
     "status": "ok",
     "timestamp": 1518623283961,
     "user": {
      "displayName": "Shuvendu Bikash",
      "photoUrl": "//lh6.googleusercontent.com/-qmLdelcDhNY/AAAAAAAAAAI/AAAAAAAAOyw/0BejXT-_QPo/s50-c-k-no/photo.jpg",
      "userId": "106434026064423574094"
     },
     "user_tz": -360
    },
    "id": "4mp5FXso6yJv",
    "outputId": "6659d994-0eba-464b-d45a-f69d82ecd360"
   },
   "outputs": [
    {
     "name": "stdout",
     "output_type": "stream",
     "text": [
      "Found 3918 images belonging to 7 classes.\n",
      "Found 980 images belonging to 7 classes.\n"
     ]
    }
   ],
   "source": [
    "from keras.preprocessing.image import ImageDataGenerator\n",
    "train_dir = 'E:\\\\Datasets\\\\KDEF_and_AKDEF\\\\data\\\\train'\n",
    "test_dir ='E:\\\\Datasets\\\\KDEF_and_AKDEF\\\\data\\\\test'\n",
    "\n",
    "\n",
    "train_datagen = ImageDataGenerator(rescale=1./255)\n",
    "test_datagen = ImageDataGenerator(rescale=1./255)\n",
    "\n",
    "train_generator = train_datagen.flow_from_directory(\n",
    "    train_dir,\n",
    "    target_size = (150, 150),\n",
    "    batch_size=32\n",
    ")\n",
    "\n",
    "validation_generator = test_datagen.flow_from_directory(\n",
    "    test_dir,\n",
    "    target_size = (150, 150),\n",
    "    batch_size=32\n",
    ")"
   ]
  },
  {
   "cell_type": "code",
   "execution_count": 5,
   "metadata": {
    "colab": {
     "autoexec": {
      "startup": false,
      "wait_interval": 0
     },
     "base_uri": "https://localhost:8080/",
     "height": 408,
     "output_extras": [
      {
       "item_id": 1
      }
     ]
    },
    "colab_type": "code",
    "executionInfo": {
     "elapsed": 1064,
     "status": "ok",
     "timestamp": 1518622287177,
     "user": {
      "displayName": "Shuvendu Bikash",
      "photoUrl": "//lh6.googleusercontent.com/-qmLdelcDhNY/AAAAAAAAAAI/AAAAAAAAOyw/0BejXT-_QPo/s50-c-k-no/photo.jpg",
      "userId": "106434026064423574094"
     },
     "user_tz": -360
    },
    "id": "hbfMDbq26Gs3",
    "outputId": "3261ea97-1c67-4d80-acdd-7bc359614fb7"
   },
   "outputs": [
    {
     "name": "stdout",
     "output_type": "stream",
     "text": [
      "_________________________________________________________________\n",
      "Layer (type)                 Output Shape              Param #   \n",
      "=================================================================\n",
      "conv2d_1 (Conv2D)            (None, 148, 148, 32)      896       \n",
      "_________________________________________________________________\n",
      "max_pooling2d_1 (MaxPooling2 (None, 74, 74, 32)        0         \n",
      "_________________________________________________________________\n",
      "conv2d_2 (Conv2D)            (None, 72, 72, 64)        18496     \n",
      "_________________________________________________________________\n",
      "max_pooling2d_2 (MaxPooling2 (None, 36, 36, 64)        0         \n",
      "_________________________________________________________________\n",
      "conv2d_3 (Conv2D)            (None, 34, 34, 64)        36928     \n",
      "_________________________________________________________________\n",
      "flatten_1 (Flatten)          (None, 73984)             0         \n",
      "_________________________________________________________________\n",
      "dense_1 (Dense)              (None, 128)               9470080   \n",
      "_________________________________________________________________\n",
      "dense_2 (Dense)              (None, 7)                 903       \n",
      "=================================================================\n",
      "Total params: 9,527,303\n",
      "Trainable params: 9,527,303\n",
      "Non-trainable params: 0\n",
      "_________________________________________________________________\n"
     ]
    }
   ],
   "source": [
    "model = models.Sequential()\n",
    "\n",
    "model.add(layers.Conv2D(32, (3, 3), activation='relu', input_shape=(150, 150, 3)))\n",
    "model.add(layers.MaxPool2D((2, 2)))\n",
    "model.add(layers.Conv2D(64, (3,3), activation='relu'))\n",
    "model.add(layers.MaxPool2D((2,2)))\n",
    "model.add(layers.Conv2D(64, (3,3), activation='relu'))\n",
    "\n",
    "model.add(layers.Flatten())\n",
    "model.add(layers.Dense(128, activation='relu'))\n",
    "model.add(layers.Dense(7, activation='softmax'))\n",
    "\n",
    "model.summary()"
   ]
  },
  {
   "cell_type": "code",
   "execution_count": null,
   "metadata": {
    "colab": {
     "autoexec": {
      "startup": false,
      "wait_interval": 0
     },
     "base_uri": "https://localhost:8080/",
     "height": 1037,
     "output_extras": [
      {
       "item_id": 52
      },
      {
       "item_id": 104
      },
      {
       "item_id": 152
      },
      {
       "item_id": 195
      },
      {
       "item_id": 238
      },
      {
       "item_id": 286
      },
      {
       "item_id": 333
      },
      {
       "item_id": 366
      },
      {
       "item_id": 398
      },
      {
       "item_id": 442
      },
      {
       "item_id": 486
      },
      {
       "item_id": 528
      },
      {
       "item_id": 578
      },
      {
       "item_id": 613
      },
      {
       "item_id": 643
      }
     ]
    },
    "colab_type": "code",
    "executionInfo": {
     "elapsed": 458294,
     "status": "ok",
     "timestamp": 1518622751496,
     "user": {
      "displayName": "Shuvendu Bikash",
      "photoUrl": "//lh6.googleusercontent.com/-qmLdelcDhNY/AAAAAAAAAAI/AAAAAAAAOyw/0BejXT-_QPo/s50-c-k-no/photo.jpg",
      "userId": "106434026064423574094"
     },
     "user_tz": -360
    },
    "id": "T9gPtISE6kpg",
    "outputId": "c44a04fd-8422-424a-c244-42bd6f7d9c15"
   },
   "outputs": [],
   "source": [
    "model.compile(optimizer=optimizers.RMSprop(),\n",
    "              loss=losses.categorical_crossentropy,\n",
    "              metrics=['accuracy']\n",
    "             )\n",
    "\n",
    "history = model.fit_generator(\n",
    "    train_generator,\n",
    "    steps_per_epoch = 155,\n",
    "    epochs=30,\n",
    "    validation_data=validation_generator,\n",
    "    validation_steps=10\n",
    ")"
   ]
  },
  {
   "cell_type": "code",
   "execution_count": null,
   "metadata": {
    "colab": {
     "autoexec": {
      "startup": false,
      "wait_interval": 0
     },
     "base_uri": "https://localhost:8080/",
     "height": 707,
     "output_extras": [
      {
       "item_id": 1
      },
      {
       "item_id": 2
      }
     ]
    },
    "colab_type": "code",
    "executionInfo": {
     "elapsed": 7818,
     "status": "ok",
     "timestamp": 1518622791106,
     "user": {
      "displayName": "Shuvendu Bikash",
      "photoUrl": "//lh6.googleusercontent.com/-qmLdelcDhNY/AAAAAAAAAAI/AAAAAAAAOyw/0BejXT-_QPo/s50-c-k-no/photo.jpg",
      "userId": "106434026064423574094"
     },
     "user_tz": -360
    },
    "id": "FNXaw7OW7QOn",
    "outputId": "a7d79d6d-7bac-419f-d5cf-62e3de7ccb13"
   },
   "outputs": [],
   "source": [
    "import matplotlib.pyplot as plt\n",
    "\n",
    "acc = history.history['acc']\n",
    "val_acc = history.history['val_acc']\n",
    "loss = history.history['loss']\n",
    "val_loss = history.history['val_loss']\n",
    "\n",
    "epochs = range(1, len(acc)+1)\n",
    "\n",
    "plt.plot(epochs, acc, 'bo', label='Training acc')\n",
    "plt.plot(epochs, val_acc, 'b', label='Validation acc')\n",
    "plt.title('Training and validation accuracy')\n",
    "plt.legend()\n",
    "\n",
    "plt.figure()\n",
    "plt.plot(epochs, loss, 'bo', label='Training losses')\n",
    "plt.plot(epochs, val_loss, 'b', label='Validation losses')\n",
    "plt.title('Training and validation loss')\n",
    "plt.legend()\n",
    "\n",
    "plt.show()"
   ]
  },
  {
   "cell_type": "markdown",
   "metadata": {
    "colab_type": "text",
    "id": "VyVSA5Nb-5tQ"
   },
   "source": [
    "## Try using pretrined model"
   ]
  },
  {
   "cell_type": "code",
   "execution_count": 7,
   "metadata": {
    "colab": {
     "autoexec": {
      "startup": false,
      "wait_interval": 0
     },
     "base_uri": "https://localhost:8080/",
     "height": 51,
     "output_extras": [
      {
       "item_id": 2
      }
     ]
    },
    "colab_type": "code",
    "executionInfo": {
     "elapsed": 2835,
     "status": "ok",
     "timestamp": 1518622992285,
     "user": {
      "displayName": "Shuvendu Bikash",
      "photoUrl": "//lh6.googleusercontent.com/-qmLdelcDhNY/AAAAAAAAAAI/AAAAAAAAOyw/0BejXT-_QPo/s50-c-k-no/photo.jpg",
      "userId": "106434026064423574094"
     },
     "user_tz": -360
    },
    "id": "tVtbN_6L-LbB",
    "outputId": "169402bb-4993-42ed-98b2-5c03f9f873d5"
   },
   "outputs": [],
   "source": [
    "from keras.applications import VGG16\n",
    "\n",
    "conv_base = VGG16(weights='imagenet',\n",
    "                 include_top=False,\n",
    "                 input_shape=(150, 150, 3))"
   ]
  },
  {
   "cell_type": "code",
   "execution_count": 8,
   "metadata": {
    "colab": {
     "autoexec": {
      "startup": false,
      "wait_interval": 0
     },
     "base_uri": "https://localhost:8080/",
     "height": 272,
     "output_extras": [
      {
       "item_id": 1
      }
     ]
    },
    "colab_type": "code",
    "executionInfo": {
     "elapsed": 1319,
     "status": "ok",
     "timestamp": 1518623116608,
     "user": {
      "displayName": "Shuvendu Bikash",
      "photoUrl": "//lh6.googleusercontent.com/-qmLdelcDhNY/AAAAAAAAAAI/AAAAAAAAOyw/0BejXT-_QPo/s50-c-k-no/photo.jpg",
      "userId": "106434026064423574094"
     },
     "user_tz": -360
    },
    "id": "_skOPxk9-9v2",
    "outputId": "9ce900f6-291e-4ca3-8ef1-56d098e2311d"
   },
   "outputs": [
    {
     "name": "stdout",
     "output_type": "stream",
     "text": [
      "_________________________________________________________________\n",
      "Layer (type)                 Output Shape              Param #   \n",
      "=================================================================\n",
      "vgg16 (Model)                (None, 4, 4, 512)         14714688  \n",
      "_________________________________________________________________\n",
      "flatten_2 (Flatten)          (None, 8192)              0         \n",
      "_________________________________________________________________\n",
      "dense_3 (Dense)              (None, 512)               4194816   \n",
      "_________________________________________________________________\n",
      "dense_4 (Dense)              (None, 7)                 3591      \n",
      "=================================================================\n",
      "Total params: 18,913,095\n",
      "Trainable params: 18,913,095\n",
      "Non-trainable params: 0\n",
      "_________________________________________________________________\n"
     ]
    }
   ],
   "source": [
    "model = models.Sequential()\n",
    "\n",
    "model.add(conv_base)\n",
    "model.add(layers.Flatten())\n",
    "model.add(layers.Dense(512, activation='relu'))\n",
    "model.add(layers.Dense(7, activation='softmax'))\n",
    "model.summary()"
   ]
  },
  {
   "cell_type": "code",
   "execution_count": null,
   "metadata": {
    "colab": {
     "autoexec": {
      "startup": false,
      "wait_interval": 0
     },
     "base_uri": "https://localhost:8080/",
     "height": 326,
     "output_extras": [
      {
       "item_id": 57
      },
      {
       "item_id": 102
      },
      {
       "item_id": 146
      },
      {
       "item_id": 185
      },
      {
       "item_id": 223
      },
      {
       "item_id": 264
      },
      {
       "item_id": 312
      },
      {
       "item_id": 340
      },
      {
       "item_id": 350
      }
     ]
    },
    "colab_type": "code",
    "executionInfo": {
     "elapsed": 281971,
     "status": "ok",
     "timestamp": 1518623773926,
     "user": {
      "displayName": "Shuvendu Bikash",
      "photoUrl": "//lh6.googleusercontent.com/-qmLdelcDhNY/AAAAAAAAAAI/AAAAAAAAOyw/0BejXT-_QPo/s50-c-k-no/photo.jpg",
      "userId": "106434026064423574094"
     },
     "user_tz": -360
    },
    "id": "clg09hoI_ce1",
    "outputId": "d09f4d91-5834-43c8-d48e-f6b24c890f80"
   },
   "outputs": [],
   "source": [
    "conv_base.trainable = False\n",
    "print('This is the number of trainable weights before freezing the conv base:', len(model.trainable_weights))\n",
    "\n",
    "model.compile(\n",
    "    optimizer=optimizers.RMSprop(lr=1e-4), \n",
    "    loss=losses.categorical_crossentropy, \n",
    "    metrics=[metrics.categorical_accuracy]\n",
    ")\n",
    "\n",
    "history = model.fit_generator(train_generator, \n",
    "                              steps_per_epoch=155, \n",
    "                              epochs=15, \n",
    "                              validation_data=validation_generator, \n",
    "                              validation_steps=10)"
   ]
  },
  {
   "cell_type": "markdown",
   "metadata": {},
   "source": [
    "### Load model saved in this location"
   ]
  },
  {
   "cell_type": "code",
   "execution_count": 18,
   "metadata": {},
   "outputs": [
    {
     "name": "stdout",
     "output_type": "stream",
     "text": [
      "_________________________________________________________________\n",
      "Layer (type)                 Output Shape              Param #   \n",
      "=================================================================\n",
      "vgg16 (Model)                (None, 4, 4, 512)         14714688  \n",
      "_________________________________________________________________\n",
      "flatten_7 (Flatten)          (None, 8192)              0         \n",
      "_________________________________________________________________\n",
      "dense_13 (Dense)             (None, 128)               1048704   \n",
      "_________________________________________________________________\n",
      "dense_14 (Dense)             (None, 7)                 903       \n",
      "=================================================================\n",
      "Total params: 15,764,295\n",
      "Trainable params: 15,764,295\n",
      "Non-trainable params: 0\n",
      "_________________________________________________________________\n"
     ]
    }
   ],
   "source": [
    "from keras.models import load_model\n",
    "model = load_model('fc_pretrain.h5')\n",
    "model.summary()"
   ]
  },
  {
   "cell_type": "code",
   "execution_count": 19,
   "metadata": {
    "colab": {
     "autoexec": {
      "startup": false,
      "wait_interval": 0
     }
    },
    "colab_type": "code",
    "id": "Atle6EGR_o-T"
   },
   "outputs": [],
   "source": [
    "conv_base = model.layers[0]\n",
    "\n",
    "conv_base.trainable = True\n",
    "set_trainable = False\n",
    "for layer in conv_base.layers:\n",
    "    if layer.name == 'block5_conv1':\n",
    "        set_trainable = True\n",
    "    if set_trainable:\n",
    "        layer.trainable = True\n",
    "    else:\n",
    "        layer.trainable = False"
   ]
  },
  {
   "cell_type": "code",
   "execution_count": 20,
   "metadata": {
    "colab": {
     "autoexec": {
      "startup": false,
      "wait_interval": 0
     },
     "base_uri": "https://localhost:8080/",
     "height": 955,
     "output_extras": [
      {
       "item_id": 54
      },
      {
       "item_id": 114
      },
      {
       "item_id": 174
      },
      {
       "item_id": 243
      },
      {
       "item_id": 298
      },
      {
       "item_id": 363
      },
      {
       "item_id": 430
      },
      {
       "item_id": 470
      },
      {
       "item_id": 520
      },
      {
       "item_id": 560
      },
      {
       "item_id": 596
      },
      {
       "item_id": 640
      },
      {
       "item_id": 683
      },
      {
       "item_id": 736
      },
      {
       "item_id": 796
      },
      {
       "item_id": 859
      },
      {
       "item_id": 914
      },
      {
       "item_id": 976
      },
      {
       "item_id": 1034
      },
      {
       "item_id": 1098
      },
      {
       "item_id": 1155
      },
      {
       "item_id": 1222
      },
      {
       "item_id": 1284
      },
      {
       "item_id": 1353
      },
      {
       "item_id": 1425
      },
      {
       "item_id": 1485
      },
      {
       "item_id": 1510
      }
     ]
    },
    "colab_type": "code",
    "id": "gpT0IIyLAWpR",
    "outputId": "5cbf1a75-da29-4d65-b4ba-5f33fc625ceb"
   },
   "outputs": [
    {
     "name": "stdout",
     "output_type": "stream",
     "text": [
      "Epoch 1/30\n",
      "125/125 [==============================] - 29s - loss: 0.2490 - categorical_accuracy: 0.9095 - val_loss: 0.2371 - val_categorical_accuracy: 0.9093\n",
      "Epoch 2/30\n",
      "125/125 [==============================] - 29s - loss: 0.1875 - categorical_accuracy: 0.9377 - val_loss: 0.1855 - val_categorical_accuracy: 0.9420\n",
      "Epoch 3/30\n",
      "125/125 [==============================] - 28s - loss: 0.1569 - categorical_accuracy: 0.9432 - val_loss: 0.3444 - val_categorical_accuracy: 0.8808\n",
      "Epoch 4/30\n",
      "125/125 [==============================] - 27s - loss: 0.1169 - categorical_accuracy: 0.9600 - val_loss: 0.1928 - val_categorical_accuracy: 0.9272\n",
      "Epoch 5/30\n",
      "125/125 [==============================] - 28s - loss: 0.1083 - categorical_accuracy: 0.9642 - val_loss: 0.2599 - val_categorical_accuracy: 0.9103\n",
      "Epoch 6/30\n",
      "125/125 [==============================] - 34s - loss: 0.0860 - categorical_accuracy: 0.9702 - val_loss: 0.1564 - val_categorical_accuracy: 0.9399\n",
      "Epoch 7/30\n",
      "125/125 [==============================] - 27s - loss: 0.0667 - categorical_accuracy: 0.9777 - val_loss: 0.2274 - val_categorical_accuracy: 0.9314\n",
      "Epoch 8/30\n",
      "125/125 [==============================] - 31s - loss: 0.0599 - categorical_accuracy: 0.9815 - val_loss: 0.1778 - val_categorical_accuracy: 0.9357\n",
      "Epoch 9/30\n",
      "125/125 [==============================] - 33s - loss: 0.0455 - categorical_accuracy: 0.9855 - val_loss: 0.1795 - val_categorical_accuracy: 0.9399\n",
      "Epoch 10/30\n",
      "125/125 [==============================] - 27s - loss: 0.0401 - categorical_accuracy: 0.9872 - val_loss: 0.2128 - val_categorical_accuracy: 0.9420\n",
      "Epoch 11/30\n",
      "125/125 [==============================] - 27s - loss: 0.0355 - categorical_accuracy: 0.9877 - val_loss: 0.3204 - val_categorical_accuracy: 0.9135\n",
      "Epoch 12/30\n",
      "125/125 [==============================] - 27s - loss: 0.0355 - categorical_accuracy: 0.9897 - val_loss: 0.1969 - val_categorical_accuracy: 0.9430\n",
      "Epoch 13/30\n",
      "125/125 [==============================] - 28s - loss: 0.0257 - categorical_accuracy: 0.9925 - val_loss: 0.3539 - val_categorical_accuracy: 0.9124\n",
      "Epoch 14/30\n",
      "125/125 [==============================] - 28s - loss: 0.0250 - categorical_accuracy: 0.9922 - val_loss: 0.3091 - val_categorical_accuracy: 0.9325\n",
      "Epoch 15/30\n",
      "125/125 [==============================] - 29s - loss: 0.0291 - categorical_accuracy: 0.9930 - val_loss: 0.2572 - val_categorical_accuracy: 0.9409\n",
      "Epoch 16/30\n",
      "125/125 [==============================] - 28s - loss: 0.0264 - categorical_accuracy: 0.9905 - val_loss: 0.2815 - val_categorical_accuracy: 0.9367\n",
      "Epoch 17/30\n",
      "125/125 [==============================] - 29s - loss: 0.0210 - categorical_accuracy: 0.9930 - val_loss: 0.2906 - val_categorical_accuracy: 0.9367\n",
      "Epoch 18/30\n",
      "125/125 [==============================] - 27s - loss: 0.0223 - categorical_accuracy: 0.9935 - val_loss: 0.2767 - val_categorical_accuracy: 0.9430\n",
      "Epoch 19/30\n",
      "125/125 [==============================] - 27s - loss: 0.0229 - categorical_accuracy: 0.9942 - val_loss: 0.3352 - val_categorical_accuracy: 0.9325\n",
      "Epoch 20/30\n",
      "125/125 [==============================] - 28s - loss: 0.0185 - categorical_accuracy: 0.9960 - val_loss: 0.2955 - val_categorical_accuracy: 0.9335\n",
      "Epoch 21/30\n",
      "125/125 [==============================] - 29s - loss: 0.0197 - categorical_accuracy: 0.9949 - val_loss: 0.3569 - val_categorical_accuracy: 0.9409\n",
      "Epoch 22/30\n",
      "125/125 [==============================] - 28s - loss: 0.0213 - categorical_accuracy: 0.9950 - val_loss: 0.3739 - val_categorical_accuracy: 0.9272\n",
      "Epoch 23/30\n",
      "125/125 [==============================] - 30s - loss: 0.0204 - categorical_accuracy: 0.9934 - val_loss: 0.3410 - val_categorical_accuracy: 0.9283\n",
      "Epoch 24/30\n",
      "125/125 [==============================] - 31s - loss: 0.0124 - categorical_accuracy: 0.9954 - val_loss: 0.4242 - val_categorical_accuracy: 0.9272\n",
      "Epoch 25/30\n",
      "125/125 [==============================] - 29s - loss: 0.0160 - categorical_accuracy: 0.9957 - val_loss: 0.3662 - val_categorical_accuracy: 0.9346\n",
      "Epoch 26/30\n",
      "125/125 [==============================] - 31s - loss: 0.0137 - categorical_accuracy: 0.9967 - val_loss: 0.4351 - val_categorical_accuracy: 0.9272\n",
      "Epoch 27/30\n",
      "125/125 [==============================] - 31s - loss: 0.0156 - categorical_accuracy: 0.9955 - val_loss: 0.3430 - val_categorical_accuracy: 0.9367\n",
      "Epoch 28/30\n",
      "125/125 [==============================] - 32s - loss: 0.0233 - categorical_accuracy: 0.9932 - val_loss: 0.4549 - val_categorical_accuracy: 0.9177\n",
      "Epoch 29/30\n",
      "125/125 [==============================] - 30s - loss: 0.0129 - categorical_accuracy: 0.9960 - val_loss: 0.3993 - val_categorical_accuracy: 0.9357\n",
      "Epoch 30/30\n",
      "125/125 [==============================] - 28s - loss: 0.0281 - categorical_accuracy: 0.9947 - val_loss: 0.3155 - val_categorical_accuracy: 0.9367\n"
     ]
    }
   ],
   "source": [
    "model.compile(\n",
    "    optimizer=optimizers.RMSprop(lr=1e-4), \n",
    "    loss=losses.categorical_crossentropy, \n",
    "    metrics=[metrics.categorical_accuracy]\n",
    ")\n",
    "\n",
    "history = model.fit_generator(train_generator, \n",
    "                              steps_per_epoch=125, \n",
    "                              epochs=30, \n",
    "                              validation_data=validation_generator, \n",
    "                              validation_steps=30)"
   ]
  },
  {
   "cell_type": "code",
   "execution_count": 21,
   "metadata": {
    "colab": {
     "autoexec": {
      "startup": false,
      "wait_interval": 0
     }
    },
    "colab_type": "code",
    "id": "X9QrfV3vAig7"
   },
   "outputs": [
    {
     "data": {
      "image/png": "[encoded data removed]",
      "text/plain": [
       "<matplotlib.figure.Figure at 0x1f98e5cd1d0>"
      ]
     },
     "metadata": {},
     "output_type": "display_data"
    },
    {
     "data": {
      "image/png": "[encoded data removed]",
      "text/plain": [
       "<matplotlib.figure.Figure at 0x1f993f7ff98>"
      ]
     },
     "metadata": {},
     "output_type": "display_data"
    }
   ],
   "source": [
    "import matplotlib.pyplot as plt\n",
    "\n",
    "acc = history.history['categorical_accuracy']\n",
    "val_acc = history.history['val_categorical_accuracy']\n",
    "loss = history.history['loss']\n",
    "val_loss = history.history['val_loss']\n",
    "\n",
    "epochs = range(1, len(acc)+1)\n",
    "\n",
    "plt.plot(epochs, acc, 'bo', label='Training acc')\n",
    "plt.plot(epochs, val_acc, 'b', label='Validation acc')\n",
    "plt.title('Training and validation accuracy')\n",
    "plt.legend()\n",
    "\n",
    "plt.figure()\n",
    "plt.plot(epochs, loss, 'bo', label='Training losses')\n",
    "plt.plot(epochs, val_loss, 'b', label='Validation losses')\n",
    "plt.title('Training and validation loss')\n",
    "plt.legend()\n",
    "\n",
    "plt.show()"
   ]
  },
  {
   "cell_type": "code",
   "execution_count": 22,
   "metadata": {
    "colab": {
     "autoexec": {
      "startup": false,
      "wait_interval": 0
     }
    },
    "colab_type": "code",
    "id": "3xtr7CZuAkfM"
   },
   "outputs": [],
   "source": [
    "model.save('fully_trained_model.h5')"
   ]
  },
  {
   "cell_type": "code",
   "execution_count": 1,
   "metadata": {},
   "outputs": [
    {
     "name": "stderr",
     "output_type": "stream",
     "text": [
      "Using TensorFlow backend.\n"
     ]
    }
   ],
   "source": [
    "from keras.models import load_model\n",
    "model = load_model('fully_trained_model.h5')"
   ]
  },
  {
   "cell_type": "markdown",
   "metadata": {
    "colab": {
     "autoexec": {
      "startup": false,
      "wait_interval": 0
     }
    },
    "colab_type": "code",
    "id": "v_hmXE3aChWn"
   },
   "source": [
    "# Test the model"
   ]
  },
  {
   "cell_type": "code",
   "execution_count": 29,
   "metadata": {},
   "outputs": [],
   "source": [
    "import cv2\n",
    "import matplotlib.pyplot as plt\n",
    "import numpy as np\n",
    "\n",
    "%matplotlib inline"
   ]
  },
  {
   "cell_type": "code",
   "execution_count": 59,
   "metadata": {},
   "outputs": [],
   "source": [
    "labels = {\n",
    "    0 : \"Afraid\",\n",
    "    1 : \"Angry\",\n",
    "    2 : \"disgust\",\n",
    "    3 : \"happy\",\n",
    "    4 : \"neutral\",\n",
    "    5 : \"sad\",\n",
    "    6 : \"surprised\"\n",
    "}"
   ]
  },
  {
   "cell_type": "code",
   "execution_count": 54,
   "metadata": {},
   "outputs": [
    {
     "data": {
      "text/plain": [
       "(370, 240, 3)"
      ]
     },
     "execution_count": 54,
     "metadata": {},
     "output_type": "execute_result"
    }
   ],
   "source": [
    "image = cv2.imread('E:\\\\2.jpg')\n",
    "image.shape"
   ]
  },
  {
   "cell_type": "code",
   "execution_count": 55,
   "metadata": {},
   "outputs": [
    {
     "data": {
      "text/plain": [
       "<matplotlib.image.AxesImage at 0x1546a6d09e8>"
      ]
     },
     "execution_count": 55,
     "metadata": {},
     "output_type": "execute_result"
    },
    {
     "data": {
      "image/png": "[encoded data removed]",
      "text/plain": [
       "<matplotlib.figure.Figure at 0x1546a67f1d0>"
      ]
     },
     "metadata": {},
     "output_type": "display_data"
    }
   ],
   "source": [
    "plt.imshow(cv2.cvtColor(image, cv2.COLOR_BGR2RGB))"
   ]
  },
  {
   "cell_type": "code",
   "execution_count": 57,
   "metadata": {},
   "outputs": [
    {
     "data": {
      "text/plain": [
       "(1, 150, 150, 3)"
      ]
     },
     "execution_count": 57,
     "metadata": {},
     "output_type": "execute_result"
    }
   ],
   "source": [
    "image=np.array(cv2.resize(image, (150,150)))\n",
    "image = image.reshape(1, 150, 150, 3)\n",
    "image.shape"
   ]
  },
  {
   "cell_type": "code",
   "execution_count": 61,
   "metadata": {},
   "outputs": [
    {
     "data": {
      "text/plain": [
       "'happy'"
      ]
     },
     "execution_count": 61,
     "metadata": {},
     "output_type": "execute_result"
    }
   ],
   "source": [
    "labels[np.argmax(model.predict(image))]"
   ]
  },
  {
   "cell_type": "code",
   "execution_count": null,
   "metadata": {},
   "outputs": [],
   "source": []
  }
 ],
 "metadata": {
  "accelerator": "GPU",
  "colab": {
   "collapsed_sections": [],
   "default_view": {},
   "name": "Emotion_detection.ipynb",
   "provenance": [],
   "version": "0.3.2",
   "views": {}
  },
  "kernelspec": {
   "display_name": "Python [default]",
   "language": "python",
   "name": "python3"
  },
  "language_info": {
   "codemirror_mode": {
    "name": "ipython",
    "version": 3
   },
   "file_extension": ".py",
   "mimetype": "text/x-python",
   "name": "python",
   "nbconvert_exporter": "python",
   "pygments_lexer": "ipython3",
   "version": "3.5.4"
  }
 },
 "nbformat": 4,
 "nbformat_minor": 1
}
