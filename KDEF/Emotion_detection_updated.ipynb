{
 "cells": [
  {
   "cell_type": "code",
   "execution_count": 1,
   "metadata": {
    "colab": {
     "autoexec": {
      "startup": false,
      "wait_interval": 0
     }
    },
    "colab_type": "code",
    "id": "V95Uwl8F2u_S"
   },
   "outputs": [
    {
     "name": "stderr",
     "output_type": "stream",
     "text": [
      "C:\\Users\\bikas\\Anaconda3\\lib\\site-packages\\h5py\\__init__.py:36: FutureWarning: Conversion of the second argument of issubdtype from `float` to `np.floating` is deprecated. In future, it will be treated as `np.float64 == np.dtype(float).type`.\n",
      "  from ._conv import register_converters as _register_converters\n",
      "Using TensorFlow backend.\n"
     ]
    }
   ],
   "source": [
    "import numpy as np\n",
    "import pandas as pd\n",
    "import matplotlib.pyplot as plt\n",
    "import keras"
   ]
  },
  {
   "cell_type": "code",
   "execution_count": 2,
   "metadata": {
    "colab": {
     "autoexec": {
      "startup": false,
      "wait_interval": 0
     }
    },
    "colab_type": "code",
    "collapsed": true,
    "id": "yPhuoPtMz_WG"
   },
   "outputs": [],
   "source": [
    "from os import listdir\n",
    "path = \"data\\\\KDEF\"\n",
    "pathlist = listdir(path)"
   ]
  },
  {
   "cell_type": "code",
   "execution_count": 4,
   "metadata": {
    "colab": {
     "autoexec": {
      "startup": false,
      "wait_interval": 0
     },
     "base_uri": "https://localhost:8080/",
     "height": 34,
     "output_extras": [
      {
       "item_id": 1
      }
     ]
    },
    "colab_type": "code",
    "collapsed": true,
    "executionInfo": {
     "elapsed": 1716,
     "status": "ok",
     "timestamp": 1518620256984,
     "user": {
      "displayName": "Shuvendu Bikash",
      "photoUrl": "//lh6.googleusercontent.com/-qmLdelcDhNY/AAAAAAAAAAI/AAAAAAAAOyw/0BejXT-_QPo/s50-c-k-no/photo.jpg",
      "userId": "106434026064423574094"
     },
     "user_tz": -360
    },
    "id": "u8AbJ2ar0MuQ",
    "outputId": "7a1f825b-022a-48a7-c905-17dbd8a48e9a"
   },
   "outputs": [],
   "source": [
    "from shutil import copyfile\n",
    "import os\n",
    "\n",
    "for i in range(len(pathlist)):\n",
    "    img_path = listdir(path+\"\\\\\"+pathlist[i])\n",
    "    for j in range(len(img_path)):\n",
    "        if(img_path[j][4:6]==\"AF\"):\n",
    "            dst = \"data\\\\AF\"\n",
    "        elif(img_path[j][4:6]==\"AN\"):\n",
    "            dst = \"data\\\\AN\"\n",
    "        elif(img_path[j][4:6]==\"DI\"):\n",
    "            dst = \"data\\\\DI\"\n",
    "        elif(img_path[j][4:6]==\"HA\"):\n",
    "            dst = \"data\\\\HA\"\n",
    "        elif(img_path[j][4:6]==\"NE\"):\n",
    "            dst = \"data\\\\NE\"\n",
    "        elif(img_path[j][4:6]==\"SA\"):\n",
    "            dst = \"data\\\\SA\"\n",
    "        elif(img_path[j][4:6]==\"SU\"):\n",
    "            dst = \"data\\\\SU\"\n",
    "        \n",
    "        if not os.path.exists(dst):\n",
    "            os.makedirs(dst)\n",
    "        \n",
    "        src = path+\"\\\\\"+pathlist[i]+\"\\\\\"+img_path[j]\n",
    "        dst = dst + \"\\\\\" + img_path[j]\n",
    "        try:\n",
    "            copyfile(src, dst)\n",
    "        except:\n",
    "            pass"
   ]
  },
  {
   "cell_type": "markdown",
   "metadata": {
    "colab_type": "text",
    "id": "teiwDTpF6Eq8"
   },
   "source": [
    "# Training with CNN"
   ]
  },
  {
   "cell_type": "code",
   "execution_count": 1,
   "metadata": {
    "colab": {
     "autoexec": {
      "startup": false,
      "wait_interval": 0
     }
    },
    "colab_type": "code",
    "id": "ckDWqMjk4yBE"
   },
   "outputs": [
    {
     "name": "stderr",
     "output_type": "stream",
     "text": [
      "C:\\Users\\bikas\\Anaconda3\\lib\\site-packages\\h5py\\__init__.py:36: FutureWarning: Conversion of the second argument of issubdtype from `float` to `np.floating` is deprecated. In future, it will be treated as `np.float64 == np.dtype(float).type`.\n",
      "  from ._conv import register_converters as _register_converters\n",
      "Using TensorFlow backend.\n"
     ]
    }
   ],
   "source": [
    "from keras.datasets import mnist\n",
    "from keras.utils import to_categorical\n",
    "\n",
    "from keras import models\n",
    "from keras import layers\n",
    "\n",
    "from keras import losses, optimizers, metrics\n"
   ]
  },
  {
   "cell_type": "code",
   "execution_count": 5,
   "metadata": {
    "colab": {
     "autoexec": {
      "startup": false,
      "wait_interval": 0
     },
     "base_uri": "https://localhost:8080/",
     "height": 51,
     "output_extras": [
      {
       "item_id": 2
      }
     ]
    },
    "colab_type": "code",
    "executionInfo": {
     "elapsed": 2038,
     "status": "ok",
     "timestamp": 1518623283961,
     "user": {
      "displayName": "Shuvendu Bikash",
      "photoUrl": "//lh6.googleusercontent.com/-qmLdelcDhNY/AAAAAAAAAAI/AAAAAAAAOyw/0BejXT-_QPo/s50-c-k-no/photo.jpg",
      "userId": "106434026064423574094"
     },
     "user_tz": -360
    },
    "id": "4mp5FXso6yJv",
    "outputId": "6659d994-0eba-464b-d45a-f69d82ecd360"
   },
   "outputs": [
    {
     "name": "stdout",
     "output_type": "stream",
     "text": [
      "Found 3918 images belonging to 7 classes.\n",
      "Found 980 images belonging to 7 classes.\n"
     ]
    }
   ],
   "source": [
    "from keras.preprocessing.image import ImageDataGenerator\n",
    "train_dir = 'E:\\\\Datasets\\\\KDEF_and_AKDEF\\\\train'\n",
    "test_dir ='E:\\\\Datasets\\\\KDEF_and_AKDEF\\\\test'\n",
    "\n",
    "\n",
    "train_datagen = ImageDataGenerator(rescale=1./255)\n",
    "test_datagen = ImageDataGenerator(rescale=1./255)\n",
    "\n",
    "train_generator = train_datagen.flow_from_directory(\n",
    "    train_dir,\n",
    "    target_size = (150, 150),\n",
    "    batch_size=32\n",
    ")\n",
    "\n",
    "validation_generator = test_datagen.flow_from_directory(\n",
    "    test_dir,\n",
    "    target_size = (150, 150),\n",
    "    batch_size=32\n",
    ")"
   ]
  },
  {
   "cell_type": "code",
   "execution_count": 6,
   "metadata": {
    "colab": {
     "autoexec": {
      "startup": false,
      "wait_interval": 0
     },
     "base_uri": "https://localhost:8080/",
     "height": 408,
     "output_extras": [
      {
       "item_id": 1
      }
     ]
    },
    "colab_type": "code",
    "executionInfo": {
     "elapsed": 1064,
     "status": "ok",
     "timestamp": 1518622287177,
     "user": {
      "displayName": "Shuvendu Bikash",
      "photoUrl": "//lh6.googleusercontent.com/-qmLdelcDhNY/AAAAAAAAAAI/AAAAAAAAOyw/0BejXT-_QPo/s50-c-k-no/photo.jpg",
      "userId": "106434026064423574094"
     },
     "user_tz": -360
    },
    "id": "hbfMDbq26Gs3",
    "outputId": "3261ea97-1c67-4d80-acdd-7bc359614fb7"
   },
   "outputs": [
    {
     "name": "stdout",
     "output_type": "stream",
     "text": [
      "_________________________________________________________________\n",
      "Layer (type)                 Output Shape              Param #   \n",
      "=================================================================\n",
      "conv2d_1 (Conv2D)            (None, 148, 148, 32)      896       \n",
      "_________________________________________________________________\n",
      "max_pooling2d_1 (MaxPooling2 (None, 74, 74, 32)        0         \n",
      "_________________________________________________________________\n",
      "conv2d_2 (Conv2D)            (None, 72, 72, 64)        18496     \n",
      "_________________________________________________________________\n",
      "max_pooling2d_2 (MaxPooling2 (None, 36, 36, 64)        0         \n",
      "_________________________________________________________________\n",
      "conv2d_3 (Conv2D)            (None, 34, 34, 64)        36928     \n",
      "_________________________________________________________________\n",
      "flatten_1 (Flatten)          (None, 73984)             0         \n",
      "_________________________________________________________________\n",
      "dense_1 (Dense)              (None, 128)               9470080   \n",
      "_________________________________________________________________\n",
      "dense_2 (Dense)              (None, 7)                 903       \n",
      "=================================================================\n",
      "Total params: 9,527,303\n",
      "Trainable params: 9,527,303\n",
      "Non-trainable params: 0\n",
      "_________________________________________________________________\n"
     ]
    }
   ],
   "source": [
    "model = models.Sequential()\n",
    "\n",
    "model.add(layers.Conv2D(32, (3, 3), activation='relu', input_shape=(150, 150, 3)))\n",
    "model.add(layers.MaxPool2D((2, 2)))\n",
    "model.add(layers.Conv2D(64, (3,3), activation='relu'))\n",
    "model.add(layers.MaxPool2D((2,2)))\n",
    "model.add(layers.Conv2D(64, (3,3), activation='relu'))\n",
    "\n",
    "model.add(layers.Flatten())\n",
    "model.add(layers.Dense(128, activation='relu'))\n",
    "model.add(layers.Dense(7, activation='softmax'))\n",
    "\n",
    "model.summary()"
   ]
  },
  {
   "cell_type": "code",
   "execution_count": 8,
   "metadata": {
    "colab": {
     "autoexec": {
      "startup": false,
      "wait_interval": 0
     },
     "base_uri": "https://localhost:8080/",
     "height": 1037,
     "output_extras": [
      {
       "item_id": 52
      },
      {
       "item_id": 104
      },
      {
       "item_id": 152
      },
      {
       "item_id": 195
      },
      {
       "item_id": 238
      },
      {
       "item_id": 286
      },
      {
       "item_id": 333
      },
      {
       "item_id": 366
      },
      {
       "item_id": 398
      },
      {
       "item_id": 442
      },
      {
       "item_id": 486
      },
      {
       "item_id": 528
      },
      {
       "item_id": 578
      },
      {
       "item_id": 613
      },
      {
       "item_id": 643
      }
     ]
    },
    "colab_type": "code",
    "executionInfo": {
     "elapsed": 458294,
     "status": "ok",
     "timestamp": 1518622751496,
     "user": {
      "displayName": "Shuvendu Bikash",
      "photoUrl": "//lh6.googleusercontent.com/-qmLdelcDhNY/AAAAAAAAAAI/AAAAAAAAOyw/0BejXT-_QPo/s50-c-k-no/photo.jpg",
      "userId": "106434026064423574094"
     },
     "user_tz": -360
    },
    "id": "T9gPtISE6kpg",
    "outputId": "c44a04fd-8422-424a-c244-42bd6f7d9c15"
   },
   "outputs": [
    {
     "name": "stdout",
     "output_type": "stream",
     "text": [
      "Epoch 1/30\n",
      "123/123 [==============================] - 31s 253ms/step - loss: 0.0480 - acc: 0.9844 - val_loss: 3.3904 - val_acc: 0.6021\n",
      "Epoch 2/30\n",
      "123/123 [==============================] - 27s 218ms/step - loss: 0.0338 - acc: 0.9901 - val_loss: 2.1064 - val_acc: 0.7063\n",
      "Epoch 3/30\n",
      "123/123 [==============================] - 27s 217ms/step - loss: 0.0268 - acc: 0.9919 - val_loss: 2.1047 - val_acc: 0.7094\n",
      "Epoch 4/30\n",
      "123/123 [==============================] - 27s 219ms/step - loss: 0.0175 - acc: 0.9942 - val_loss: 2.3483 - val_acc: 0.6719\n",
      "Epoch 5/30\n",
      "123/123 [==============================] - 27s 217ms/step - loss: 0.0216 - acc: 0.9939 - val_loss: 2.1623 - val_acc: 0.6937\n",
      "Epoch 6/30\n",
      "123/123 [==============================] - 27s 218ms/step - loss: 0.0173 - acc: 0.9954 - val_loss: 2.4664 - val_acc: 0.6729\n",
      "Epoch 7/30\n",
      "123/123 [==============================] - 27s 219ms/step - loss: 0.0127 - acc: 0.9964 - val_loss: 2.1986 - val_acc: 0.7156\n",
      "Epoch 8/30\n",
      "123/123 [==============================] - 27s 218ms/step - loss: 0.0145 - acc: 0.9952 - val_loss: 2.3519 - val_acc: 0.7052\n",
      "Epoch 9/30\n",
      "123/123 [==============================] - 27s 220ms/step - loss: 0.0107 - acc: 0.9964 - val_loss: 2.2148 - val_acc: 0.7052\n",
      "Epoch 10/30\n",
      "123/123 [==============================] - 27s 217ms/step - loss: 0.0077 - acc: 0.9972 - val_loss: 3.1816 - val_acc: 0.6333\n",
      "Epoch 11/30\n",
      "123/123 [==============================] - 27s 216ms/step - loss: 0.0097 - acc: 0.9972 - val_loss: 2.4434 - val_acc: 0.7010\n",
      "Epoch 12/30\n",
      "123/123 [==============================] - 26s 214ms/step - loss: 0.0179 - acc: 0.9954 - val_loss: 2.4267 - val_acc: 0.6906\n",
      "Epoch 13/30\n",
      "123/123 [==============================] - 26s 214ms/step - loss: 0.0118 - acc: 0.9969 - val_loss: 2.5825 - val_acc: 0.7031\n",
      "Epoch 14/30\n",
      "123/123 [==============================] - 26s 214ms/step - loss: 0.0094 - acc: 0.9975 - val_loss: 2.4992 - val_acc: 0.6833\n",
      "Epoch 15/30\n",
      "123/123 [==============================] - 26s 213ms/step - loss: 0.0156 - acc: 0.9967 - val_loss: 2.5057 - val_acc: 0.7323\n",
      "Epoch 16/30\n",
      "123/123 [==============================] - 26s 213ms/step - loss: 0.0067 - acc: 0.9982 - val_loss: 2.7526 - val_acc: 0.7094\n",
      "Epoch 17/30\n",
      "123/123 [==============================] - 26s 213ms/step - loss: 0.0078 - acc: 0.9972 - val_loss: 2.8869 - val_acc: 0.6885\n",
      "Epoch 18/30\n",
      "123/123 [==============================] - 26s 213ms/step - loss: 0.0045 - acc: 0.9987 - val_loss: 2.7793 - val_acc: 0.7104\n",
      "Epoch 19/30\n",
      "123/123 [==============================] - 26s 215ms/step - loss: 0.0108 - acc: 0.9980 - val_loss: 3.1377 - val_acc: 0.6771\n",
      "Epoch 20/30\n",
      "123/123 [==============================] - 26s 213ms/step - loss: 0.0055 - acc: 0.9982 - val_loss: 2.8507 - val_acc: 0.6958\n",
      "Epoch 21/30\n",
      "123/123 [==============================] - 26s 213ms/step - loss: 0.0047 - acc: 0.9985 - val_loss: 3.3699 - val_acc: 0.6844\n",
      "Epoch 22/30\n",
      "123/123 [==============================] - 26s 213ms/step - loss: 0.0240 - acc: 0.9954 - val_loss: 3.0063 - val_acc: 0.7094\n",
      "Epoch 23/30\n",
      "123/123 [==============================] - 26s 214ms/step - loss: 0.0040 - acc: 0.9987 - val_loss: 4.1484 - val_acc: 0.6333\n",
      "Epoch 24/30\n",
      "123/123 [==============================] - 26s 213ms/step - loss: 0.0103 - acc: 0.9975 - val_loss: 2.5255 - val_acc: 0.7010\n",
      "Epoch 25/30\n",
      "123/123 [==============================] - 26s 213ms/step - loss: 0.0042 - acc: 0.9985 - val_loss: 3.0266 - val_acc: 0.6979\n",
      "Epoch 26/30\n",
      "123/123 [==============================] - 26s 213ms/step - loss: 0.0088 - acc: 0.9975 - val_loss: 2.6807 - val_acc: 0.6937\n",
      "Epoch 27/30\n",
      "123/123 [==============================] - 26s 213ms/step - loss: 0.0069 - acc: 0.9985 - val_loss: 2.6744 - val_acc: 0.7083\n",
      "Epoch 28/30\n",
      "123/123 [==============================] - 26s 214ms/step - loss: 0.0061 - acc: 0.9980 - val_loss: 3.1628 - val_acc: 0.6979\n",
      "Epoch 29/30\n",
      "123/123 [==============================] - 26s 213ms/step - loss: 0.0138 - acc: 0.9980 - val_loss: 2.8811 - val_acc: 0.7104\n",
      "Epoch 30/30\n",
      "123/123 [==============================] - 26s 214ms/step - loss: 0.0054 - acc: 0.9987 - val_loss: 2.8133 - val_acc: 0.7271\n"
     ]
    }
   ],
   "source": [
    "model.compile(optimizer=optimizers.RMSprop(),\n",
    "              loss=losses.categorical_crossentropy,\n",
    "              metrics=['accuracy']\n",
    "             )\n",
    "\n",
    "history = model.fit_generator(\n",
    "    train_generator,\n",
    "    steps_per_epoch = 123,\n",
    "    epochs=30,\n",
    "    validation_data=validation_generator,\n",
    "    validation_steps=30\n",
    ")"
   ]
  },
  {
   "cell_type": "code",
   "execution_count": 10,
   "metadata": {
    "colab": {
     "autoexec": {
      "startup": false,
      "wait_interval": 0
     },
     "base_uri": "https://localhost:8080/",
     "height": 707,
     "output_extras": [
      {
       "item_id": 1
      },
      {
       "item_id": 2
      }
     ]
    },
    "colab_type": "code",
    "executionInfo": {
     "elapsed": 7818,
     "status": "ok",
     "timestamp": 1518622791106,
     "user": {
      "displayName": "Shuvendu Bikash",
      "photoUrl": "//lh6.googleusercontent.com/-qmLdelcDhNY/AAAAAAAAAAI/AAAAAAAAOyw/0BejXT-_QPo/s50-c-k-no/photo.jpg",
      "userId": "106434026064423574094"
     },
     "user_tz": -360
    },
    "id": "FNXaw7OW7QOn",
    "outputId": "a7d79d6d-7bac-419f-d5cf-62e3de7ccb13"
   },
   "outputs": [
    {
     "data": {
      "image/png": "[encoded data removed]",
      "text/plain": [
       "<Figure size 432x288 with 1 Axes>"
      ]
     },
     "metadata": {},
     "output_type": "display_data"
    },
    {
     "data": {
      "image/png": "[encoded data removed]",
      "text/plain": [
       "<Figure size 432x288 with 1 Axes>"
      ]
     },
     "metadata": {},
     "output_type": "display_data"
    }
   ],
   "source": [
    "import matplotlib.pyplot as plt\n",
    "%matplotlib inline\n",
    "\n",
    "acc = history.history['acc']\n",
    "val_acc = history.history['val_acc']\n",
    "loss = history.history['loss']\n",
    "val_loss = history.history['val_loss']\n",
    "\n",
    "epochs = range(1, len(acc)+1)\n",
    "\n",
    "plt.plot(epochs, acc, 'bo', label='Training acc')\n",
    "plt.plot(epochs, val_acc, 'b', label='Validation acc')\n",
    "plt.title('Training and validation accuracy')\n",
    "plt.legend()\n",
    "\n",
    "plt.figure()\n",
    "plt.plot(epochs, loss, 'bo', label='Training losses')\n",
    "plt.plot(epochs, val_loss, 'b', label='Validation losses')\n",
    "plt.title('Training and validation loss')\n",
    "plt.legend()\n",
    "\n",
    "plt.show()"
   ]
  },
  {
   "cell_type": "markdown",
   "metadata": {
    "colab_type": "text",
    "id": "VyVSA5Nb-5tQ"
   },
   "source": [
    "## Try using pretrined model"
   ]
  },
  {
   "cell_type": "code",
   "execution_count": 15,
   "metadata": {
    "colab": {
     "autoexec": {
      "startup": false,
      "wait_interval": 0
     },
     "base_uri": "https://localhost:8080/",
     "height": 51,
     "output_extras": [
      {
       "item_id": 2
      }
     ]
    },
    "colab_type": "code",
    "executionInfo": {
     "elapsed": 2835,
     "status": "ok",
     "timestamp": 1518622992285,
     "user": {
      "displayName": "Shuvendu Bikash",
      "photoUrl": "//lh6.googleusercontent.com/-qmLdelcDhNY/AAAAAAAAAAI/AAAAAAAAOyw/0BejXT-_QPo/s50-c-k-no/photo.jpg",
      "userId": "106434026064423574094"
     },
     "user_tz": -360
    },
    "id": "tVtbN_6L-LbB",
    "outputId": "169402bb-4993-42ed-98b2-5c03f9f873d5"
   },
   "outputs": [],
   "source": [
    "from keras.applications import VGG16\n",
    "\n",
    "conv_base = VGG16(weights='imagenet',\n",
    "                 include_top=False,\n",
    "                 input_shape=(150, 150, 3))"
   ]
  },
  {
   "cell_type": "code",
   "execution_count": 16,
   "metadata": {
    "colab": {
     "autoexec": {
      "startup": false,
      "wait_interval": 0
     },
     "base_uri": "https://localhost:8080/",
     "height": 272,
     "output_extras": [
      {
       "item_id": 1
      }
     ]
    },
    "colab_type": "code",
    "executionInfo": {
     "elapsed": 1319,
     "status": "ok",
     "timestamp": 1518623116608,
     "user": {
      "displayName": "Shuvendu Bikash",
      "photoUrl": "//lh6.googleusercontent.com/-qmLdelcDhNY/AAAAAAAAAAI/AAAAAAAAOyw/0BejXT-_QPo/s50-c-k-no/photo.jpg",
      "userId": "106434026064423574094"
     },
     "user_tz": -360
    },
    "id": "_skOPxk9-9v2",
    "outputId": "9ce900f6-291e-4ca3-8ef1-56d098e2311d"
   },
   "outputs": [
    {
     "name": "stdout",
     "output_type": "stream",
     "text": [
      "_________________________________________________________________\n",
      "Layer (type)                 Output Shape              Param #   \n",
      "=================================================================\n",
      "vgg16 (Model)                (None, 4, 4, 512)         14714688  \n",
      "_________________________________________________________________\n",
      "flatten_3 (Flatten)          (None, 8192)              0         \n",
      "_________________________________________________________________\n",
      "dense_5 (Dense)              (None, 512)               4194816   \n",
      "_________________________________________________________________\n",
      "dense_6 (Dense)              (None, 7)                 3591      \n",
      "=================================================================\n",
      "Total params: 18,913,095\n",
      "Trainable params: 18,913,095\n",
      "Non-trainable params: 0\n",
      "_________________________________________________________________\n"
     ]
    }
   ],
   "source": [
    "model = models.Sequential()\n",
    "\n",
    "model.add(conv_base)\n",
    "model.add(layers.Flatten())\n",
    "model.add(layers.Dense(512))\n",
    "model.add(layers.Dense(7, activation='softmax'))\n",
    "model.summary()"
   ]
  },
  {
   "cell_type": "code",
   "execution_count": 17,
   "metadata": {
    "colab": {
     "autoexec": {
      "startup": false,
      "wait_interval": 0
     },
     "base_uri": "https://localhost:8080/",
     "height": 326,
     "output_extras": [
      {
       "item_id": 57
      },
      {
       "item_id": 102
      },
      {
       "item_id": 146
      },
      {
       "item_id": 185
      },
      {
       "item_id": 223
      },
      {
       "item_id": 264
      },
      {
       "item_id": 312
      },
      {
       "item_id": 340
      },
      {
       "item_id": 350
      }
     ]
    },
    "colab_type": "code",
    "executionInfo": {
     "elapsed": 281971,
     "status": "ok",
     "timestamp": 1518623773926,
     "user": {
      "displayName": "Shuvendu Bikash",
      "photoUrl": "//lh6.googleusercontent.com/-qmLdelcDhNY/AAAAAAAAAAI/AAAAAAAAOyw/0BejXT-_QPo/s50-c-k-no/photo.jpg",
      "userId": "106434026064423574094"
     },
     "user_tz": -360
    },
    "id": "clg09hoI_ce1",
    "outputId": "d09f4d91-5834-43c8-d48e-f6b24c890f80"
   },
   "outputs": [
    {
     "name": "stdout",
     "output_type": "stream",
     "text": [
      "This is the number of trainable weights before freezing the conv base: 4\n",
      "Epoch 1/15\n",
      "123/123 [==============================] - 34s 275ms/step - loss: 1.8234 - categorical_accuracy: 0.2741 - val_loss: 1.6751 - val_categorical_accuracy: 0.3438\n",
      "Epoch 2/15\n",
      "123/123 [==============================] - 32s 257ms/step - loss: 1.5063 - categorical_accuracy: 0.4329 - val_loss: 1.5098 - val_categorical_accuracy: 0.4156\n",
      "Epoch 3/15\n",
      "123/123 [==============================] - 28s 227ms/step - loss: 1.3227 - categorical_accuracy: 0.5310 - val_loss: 1.4436 - val_categorical_accuracy: 0.4813\n",
      "Epoch 4/15\n",
      "123/123 [==============================] - 28s 226ms/step - loss: 1.2023 - categorical_accuracy: 0.5889 - val_loss: 1.3455 - val_categorical_accuracy: 0.5042\n",
      "Epoch 5/15\n",
      "123/123 [==============================] - 32s 258ms/step - loss: 1.1124 - categorical_accuracy: 0.6296 - val_loss: 1.3274 - val_categorical_accuracy: 0.5177\n",
      "Epoch 6/15\n",
      "123/123 [==============================] - 32s 258ms/step - loss: 1.0427 - categorical_accuracy: 0.6564 - val_loss: 1.2636 - val_categorical_accuracy: 0.5375\n",
      "Epoch 7/15\n",
      "123/123 [==============================] - 32s 259ms/step - loss: 0.9656 - categorical_accuracy: 0.6892 - val_loss: 1.2477 - val_categorical_accuracy: 0.5458\n",
      "Epoch 8/15\n",
      "123/123 [==============================] - 32s 258ms/step - loss: 0.9129 - categorical_accuracy: 0.7252 - val_loss: 1.2146 - val_categorical_accuracy: 0.5521\n",
      "Epoch 9/15\n",
      "123/123 [==============================] - 30s 247ms/step - loss: 0.8599 - categorical_accuracy: 0.7377 - val_loss: 1.1589 - val_categorical_accuracy: 0.5885\n",
      "Epoch 10/15\n",
      "123/123 [==============================] - 32s 260ms/step - loss: 0.7934 - categorical_accuracy: 0.7711 - val_loss: 1.1701 - val_categorical_accuracy: 0.5698\n",
      "Epoch 11/15\n",
      "123/123 [==============================] - 31s 255ms/step - loss: 0.7537 - categorical_accuracy: 0.7901 - val_loss: 1.1410 - val_categorical_accuracy: 0.5896\n",
      "Epoch 12/15\n",
      "123/123 [==============================] - 32s 258ms/step - loss: 0.7155 - categorical_accuracy: 0.8034 - val_loss: 1.1244 - val_categorical_accuracy: 0.5865\n",
      "Epoch 13/15\n",
      "123/123 [==============================] - 31s 248ms/step - loss: 0.6735 - categorical_accuracy: 0.8218 - val_loss: 1.1084 - val_categorical_accuracy: 0.6042\n",
      "Epoch 14/15\n",
      "123/123 [==============================] - 31s 253ms/step - loss: 0.6361 - categorical_accuracy: 0.8378 - val_loss: 1.0895 - val_categorical_accuracy: 0.6062\n",
      "Epoch 15/15\n",
      "123/123 [==============================] - 29s 237ms/step - loss: 0.6094 - categorical_accuracy: 0.8406 - val_loss: 1.0897 - val_categorical_accuracy: 0.6000\n"
     ]
    }
   ],
   "source": [
    "conv_base.trainable = False\n",
    "print('This is the number of trainable weights before freezing the conv base:', len(model.trainable_weights))\n",
    "\n",
    "model.compile(\n",
    "    optimizer=optimizers.Adam(lr=5e-5), \n",
    "    loss=losses.categorical_crossentropy, \n",
    "    metrics=[metrics.categorical_accuracy]\n",
    ")\n",
    "\n",
    "history = model.fit_generator(train_generator, \n",
    "                              steps_per_epoch=123, \n",
    "                              epochs=15, \n",
    "                              validation_data=validation_generator, \n",
    "                              validation_steps=30)"
   ]
  },
  {
   "cell_type": "markdown",
   "metadata": {},
   "source": [
    "### Load model saved in this location"
   ]
  },
  {
   "cell_type": "code",
   "execution_count": 18,
   "metadata": {},
   "outputs": [
    {
     "ename": "OSError",
     "evalue": "Unable to open file (unable to open file: name = 'fc_pretrain.h5', errno = 2, error message = 'No such file or directory', flags = 0, o_flags = 0)",
     "output_type": "error",
     "traceback": [
      "\u001b[1;31m---------------------------------------------------------------------------\u001b[0m",
      "\u001b[1;31mOSError\u001b[0m                                   Traceback (most recent call last)",
      "\u001b[1;32m<ipython-input-18-fa7fa00e42c2>\u001b[0m in \u001b[0;36m<module>\u001b[1;34m()\u001b[0m\n\u001b[0;32m      1\u001b[0m \u001b[1;32mfrom\u001b[0m \u001b[0mkeras\u001b[0m\u001b[1;33m.\u001b[0m\u001b[0mmodels\u001b[0m \u001b[1;32mimport\u001b[0m \u001b[0mload_model\u001b[0m\u001b[1;33m\u001b[0m\u001b[0m\n\u001b[1;32m----> 2\u001b[1;33m \u001b[0mmodel\u001b[0m \u001b[1;33m=\u001b[0m \u001b[0mload_model\u001b[0m\u001b[1;33m(\u001b[0m\u001b[1;34m'fc_pretrain.h5'\u001b[0m\u001b[1;33m)\u001b[0m\u001b[1;33m\u001b[0m\u001b[0m\n\u001b[0m\u001b[0;32m      3\u001b[0m \u001b[0mconv_base\u001b[0m \u001b[1;33m=\u001b[0m \u001b[0mmodel\u001b[0m\u001b[1;33m.\u001b[0m\u001b[0mlayers\u001b[0m\u001b[1;33m[\u001b[0m\u001b[1;36m0\u001b[0m\u001b[1;33m]\u001b[0m\u001b[1;33m\u001b[0m\u001b[0m\n\u001b[0;32m      4\u001b[0m \u001b[1;33m\u001b[0m\u001b[0m\n\u001b[0;32m      5\u001b[0m \u001b[0mmodel\u001b[0m\u001b[1;33m.\u001b[0m\u001b[0msummary\u001b[0m\u001b[1;33m(\u001b[0m\u001b[1;33m)\u001b[0m\u001b[1;33m\u001b[0m\u001b[0m\n",
      "\u001b[1;32m~\\Anaconda3\\lib\\site-packages\\keras\\models.py\u001b[0m in \u001b[0;36mload_model\u001b[1;34m(filepath, custom_objects, compile)\u001b[0m\n\u001b[0;32m    258\u001b[0m     \u001b[0mopened_new_file\u001b[0m \u001b[1;33m=\u001b[0m \u001b[1;32mnot\u001b[0m \u001b[0misinstance\u001b[0m\u001b[1;33m(\u001b[0m\u001b[0mfilepath\u001b[0m\u001b[1;33m,\u001b[0m \u001b[0mh5py\u001b[0m\u001b[1;33m.\u001b[0m\u001b[0mFile\u001b[0m\u001b[1;33m)\u001b[0m\u001b[1;33m\u001b[0m\u001b[0m\n\u001b[0;32m    259\u001b[0m     \u001b[1;32mif\u001b[0m \u001b[0mopened_new_file\u001b[0m\u001b[1;33m:\u001b[0m\u001b[1;33m\u001b[0m\u001b[0m\n\u001b[1;32m--> 260\u001b[1;33m         \u001b[0mf\u001b[0m \u001b[1;33m=\u001b[0m \u001b[0mh5py\u001b[0m\u001b[1;33m.\u001b[0m\u001b[0mFile\u001b[0m\u001b[1;33m(\u001b[0m\u001b[0mfilepath\u001b[0m\u001b[1;33m,\u001b[0m \u001b[0mmode\u001b[0m\u001b[1;33m=\u001b[0m\u001b[1;34m'r'\u001b[0m\u001b[1;33m)\u001b[0m\u001b[1;33m\u001b[0m\u001b[0m\n\u001b[0m\u001b[0;32m    261\u001b[0m     \u001b[1;32melse\u001b[0m\u001b[1;33m:\u001b[0m\u001b[1;33m\u001b[0m\u001b[0m\n\u001b[0;32m    262\u001b[0m         \u001b[0mf\u001b[0m \u001b[1;33m=\u001b[0m \u001b[0mfilepath\u001b[0m\u001b[1;33m\u001b[0m\u001b[0m\n",
      "\u001b[1;32m~\\Anaconda3\\lib\\site-packages\\h5py\\_hl\\files.py\u001b[0m in \u001b[0;36m__init__\u001b[1;34m(self, name, mode, driver, libver, userblock_size, swmr, **kwds)\u001b[0m\n\u001b[0;32m    267\u001b[0m             \u001b[1;32mwith\u001b[0m \u001b[0mphil\u001b[0m\u001b[1;33m:\u001b[0m\u001b[1;33m\u001b[0m\u001b[0m\n\u001b[0;32m    268\u001b[0m                 \u001b[0mfapl\u001b[0m \u001b[1;33m=\u001b[0m \u001b[0mmake_fapl\u001b[0m\u001b[1;33m(\u001b[0m\u001b[0mdriver\u001b[0m\u001b[1;33m,\u001b[0m \u001b[0mlibver\u001b[0m\u001b[1;33m,\u001b[0m \u001b[1;33m**\u001b[0m\u001b[0mkwds\u001b[0m\u001b[1;33m)\u001b[0m\u001b[1;33m\u001b[0m\u001b[0m\n\u001b[1;32m--> 269\u001b[1;33m                 \u001b[0mfid\u001b[0m \u001b[1;33m=\u001b[0m \u001b[0mmake_fid\u001b[0m\u001b[1;33m(\u001b[0m\u001b[0mname\u001b[0m\u001b[1;33m,\u001b[0m \u001b[0mmode\u001b[0m\u001b[1;33m,\u001b[0m \u001b[0muserblock_size\u001b[0m\u001b[1;33m,\u001b[0m \u001b[0mfapl\u001b[0m\u001b[1;33m,\u001b[0m \u001b[0mswmr\u001b[0m\u001b[1;33m=\u001b[0m\u001b[0mswmr\u001b[0m\u001b[1;33m)\u001b[0m\u001b[1;33m\u001b[0m\u001b[0m\n\u001b[0m\u001b[0;32m    270\u001b[0m \u001b[1;33m\u001b[0m\u001b[0m\n\u001b[0;32m    271\u001b[0m                 \u001b[1;32mif\u001b[0m \u001b[0mswmr_support\u001b[0m\u001b[1;33m:\u001b[0m\u001b[1;33m\u001b[0m\u001b[0m\n",
      "\u001b[1;32m~\\Anaconda3\\lib\\site-packages\\h5py\\_hl\\files.py\u001b[0m in \u001b[0;36mmake_fid\u001b[1;34m(name, mode, userblock_size, fapl, fcpl, swmr)\u001b[0m\n\u001b[0;32m     97\u001b[0m         \u001b[1;32mif\u001b[0m \u001b[0mswmr\u001b[0m \u001b[1;32mand\u001b[0m \u001b[0mswmr_support\u001b[0m\u001b[1;33m:\u001b[0m\u001b[1;33m\u001b[0m\u001b[0m\n\u001b[0;32m     98\u001b[0m             \u001b[0mflags\u001b[0m \u001b[1;33m|=\u001b[0m \u001b[0mh5f\u001b[0m\u001b[1;33m.\u001b[0m\u001b[0mACC_SWMR_READ\u001b[0m\u001b[1;33m\u001b[0m\u001b[0m\n\u001b[1;32m---> 99\u001b[1;33m         \u001b[0mfid\u001b[0m \u001b[1;33m=\u001b[0m \u001b[0mh5f\u001b[0m\u001b[1;33m.\u001b[0m\u001b[0mopen\u001b[0m\u001b[1;33m(\u001b[0m\u001b[0mname\u001b[0m\u001b[1;33m,\u001b[0m \u001b[0mflags\u001b[0m\u001b[1;33m,\u001b[0m \u001b[0mfapl\u001b[0m\u001b[1;33m=\u001b[0m\u001b[0mfapl\u001b[0m\u001b[1;33m)\u001b[0m\u001b[1;33m\u001b[0m\u001b[0m\n\u001b[0m\u001b[0;32m    100\u001b[0m     \u001b[1;32melif\u001b[0m \u001b[0mmode\u001b[0m \u001b[1;33m==\u001b[0m \u001b[1;34m'r+'\u001b[0m\u001b[1;33m:\u001b[0m\u001b[1;33m\u001b[0m\u001b[0m\n\u001b[0;32m    101\u001b[0m         \u001b[0mfid\u001b[0m \u001b[1;33m=\u001b[0m \u001b[0mh5f\u001b[0m\u001b[1;33m.\u001b[0m\u001b[0mopen\u001b[0m\u001b[1;33m(\u001b[0m\u001b[0mname\u001b[0m\u001b[1;33m,\u001b[0m \u001b[0mh5f\u001b[0m\u001b[1;33m.\u001b[0m\u001b[0mACC_RDWR\u001b[0m\u001b[1;33m,\u001b[0m \u001b[0mfapl\u001b[0m\u001b[1;33m=\u001b[0m\u001b[0mfapl\u001b[0m\u001b[1;33m)\u001b[0m\u001b[1;33m\u001b[0m\u001b[0m\n",
      "\u001b[1;32mh5py\\_objects.pyx\u001b[0m in \u001b[0;36mh5py._objects.with_phil.wrapper\u001b[1;34m()\u001b[0m\n",
      "\u001b[1;32mh5py\\_objects.pyx\u001b[0m in \u001b[0;36mh5py._objects.with_phil.wrapper\u001b[1;34m()\u001b[0m\n",
      "\u001b[1;32mh5py\\h5f.pyx\u001b[0m in \u001b[0;36mh5py.h5f.open\u001b[1;34m()\u001b[0m\n",
      "\u001b[1;31mOSError\u001b[0m: Unable to open file (unable to open file: name = 'fc_pretrain.h5', errno = 2, error message = 'No such file or directory', flags = 0, o_flags = 0)"
     ]
    }
   ],
   "source": [
    "from keras.models import load_model\n",
    "model = load_model('fc_pretrain.h5')\n",
    "conv_base = model.layers[0]\n",
    "\n",
    "model.summary()"
   ]
  },
  {
   "cell_type": "code",
   "execution_count": 19,
   "metadata": {
    "colab": {
     "autoexec": {
      "startup": false,
      "wait_interval": 0
     }
    },
    "colab_type": "code",
    "id": "Atle6EGR_o-T"
   },
   "outputs": [],
   "source": [
    "conv_base.trainable = True\n",
    "set_trainable = False\n",
    "for layer in conv_base.layers:\n",
    "    if layer.name == 'block5_conv1':\n",
    "        set_trainable = True\n",
    "    if set_trainable:\n",
    "        layer.trainable = True\n",
    "    else:\n",
    "        layer.trainable = False"
   ]
  },
  {
   "cell_type": "code",
   "execution_count": 20,
   "metadata": {
    "colab": {
     "autoexec": {
      "startup": false,
      "wait_interval": 0
     },
     "base_uri": "https://localhost:8080/",
     "height": 955,
     "output_extras": [
      {
       "item_id": 54
      },
      {
       "item_id": 114
      },
      {
       "item_id": 174
      },
      {
       "item_id": 243
      },
      {
       "item_id": 298
      },
      {
       "item_id": 363
      },
      {
       "item_id": 430
      },
      {
       "item_id": 470
      },
      {
       "item_id": 520
      },
      {
       "item_id": 560
      },
      {
       "item_id": 596
      },
      {
       "item_id": 640
      },
      {
       "item_id": 683
      },
      {
       "item_id": 736
      },
      {
       "item_id": 796
      },
      {
       "item_id": 859
      },
      {
       "item_id": 914
      },
      {
       "item_id": 976
      },
      {
       "item_id": 1034
      },
      {
       "item_id": 1098
      },
      {
       "item_id": 1155
      },
      {
       "item_id": 1222
      },
      {
       "item_id": 1284
      },
      {
       "item_id": 1353
      },
      {
       "item_id": 1425
      },
      {
       "item_id": 1485
      },
      {
       "item_id": 1510
      }
     ]
    },
    "colab_type": "code",
    "id": "gpT0IIyLAWpR",
    "outputId": "5cbf1a75-da29-4d65-b4ba-5f33fc625ceb"
   },
   "outputs": [
    {
     "name": "stdout",
     "output_type": "stream",
     "text": [
      "Epoch 1/15\n",
      "125/125 [==============================] - 34s 271ms/step - loss: 2.4976 - categorical_accuracy: 0.3641 - val_loss: 1.0899 - val_categorical_accuracy: 0.5740\n",
      "Epoch 2/15\n",
      "125/125 [==============================] - 32s 259ms/step - loss: 1.0050 - categorical_accuracy: 0.6265 - val_loss: 0.9247 - val_categorical_accuracy: 0.6219\n",
      "Epoch 3/15\n",
      "125/125 [==============================] - 32s 254ms/step - loss: 0.7083 - categorical_accuracy: 0.7412 - val_loss: 1.1068 - val_categorical_accuracy: 0.6510\n",
      "Epoch 4/15\n",
      "125/125 [==============================] - 32s 255ms/step - loss: 0.5556 - categorical_accuracy: 0.8059 - val_loss: 0.6337 - val_categorical_accuracy: 0.7802\n",
      "Epoch 5/15\n",
      "125/125 [==============================] - 32s 255ms/step - loss: 0.4163 - categorical_accuracy: 0.8506 - val_loss: 0.6564 - val_categorical_accuracy: 0.7698\n",
      "Epoch 6/15\n",
      "125/125 [==============================] - 31s 251ms/step - loss: 0.3499 - categorical_accuracy: 0.8808 - val_loss: 0.6103 - val_categorical_accuracy: 0.7875\n",
      "Epoch 7/15\n",
      "125/125 [==============================] - 31s 252ms/step - loss: 0.2594 - categorical_accuracy: 0.9068 - val_loss: 1.0825 - val_categorical_accuracy: 0.7490\n",
      "Epoch 8/15\n",
      "125/125 [==============================] - 34s 271ms/step - loss: 0.2168 - categorical_accuracy: 0.9241 - val_loss: 0.6697 - val_categorical_accuracy: 0.8229\n",
      "Epoch 9/15\n",
      "125/125 [==============================] - 33s 263ms/step - loss: 0.1907 - categorical_accuracy: 0.9380 - val_loss: 0.7059 - val_categorical_accuracy: 0.8052\n",
      "Epoch 10/15\n",
      "125/125 [==============================] - 34s 276ms/step - loss: 0.1590 - categorical_accuracy: 0.9470 - val_loss: 0.7373 - val_categorical_accuracy: 0.8104\n",
      "Epoch 11/15\n",
      "125/125 [==============================] - 32s 259ms/step - loss: 0.1622 - categorical_accuracy: 0.9492 - val_loss: 0.5964 - val_categorical_accuracy: 0.8552\n",
      "Epoch 12/15\n",
      "125/125 [==============================] - 32s 260ms/step - loss: 0.1378 - categorical_accuracy: 0.9570 - val_loss: 0.7157 - val_categorical_accuracy: 0.8177\n",
      "Epoch 13/15\n",
      "125/125 [==============================] - 33s 263ms/step - loss: 0.1281 - categorical_accuracy: 0.9615 - val_loss: 0.6822 - val_categorical_accuracy: 0.8406\n",
      "Epoch 14/15\n",
      "125/125 [==============================] - 31s 250ms/step - loss: 0.0946 - categorical_accuracy: 0.9697 - val_loss: 0.7859 - val_categorical_accuracy: 0.8333\n",
      "Epoch 15/15\n",
      "125/125 [==============================] - 32s 253ms/step - loss: 0.1059 - categorical_accuracy: 0.9660 - val_loss: 1.1591 - val_categorical_accuracy: 0.8000\n"
     ]
    }
   ],
   "source": [
    "model.compile(\n",
    "    optimizer=optimizers.RMSprop(lr=1e-4), \n",
    "    loss=losses.categorical_crossentropy, \n",
    "    metrics=[metrics.categorical_accuracy]\n",
    ")\n",
    "\n",
    "history = model.fit_generator(train_generator, \n",
    "                              steps_per_epoch=125, \n",
    "                              epochs=15, \n",
    "                              validation_data=validation_generator, \n",
    "                              validation_steps=30)"
   ]
  },
  {
   "cell_type": "code",
   "execution_count": 21,
   "metadata": {
    "colab": {
     "autoexec": {
      "startup": false,
      "wait_interval": 0
     }
    },
    "colab_type": "code",
    "id": "X9QrfV3vAig7"
   },
   "outputs": [
    {
     "data": {
      "image/png": "[encoded data removed]",
      "text/plain": [
       "<Figure size 432x288 with 1 Axes>"
      ]
     },
     "metadata": {},
     "output_type": "display_data"
    },
    {
     "data": {
      "image/png": "[encoded data removed]",
      "text/plain": [
       "<Figure size 432x288 with 1 Axes>"
      ]
     },
     "metadata": {},
     "output_type": "display_data"
    }
   ],
   "source": [
    "import matplotlib.pyplot as plt\n",
    "\n",
    "acc = history.history['categorical_accuracy']\n",
    "val_acc = history.history['val_categorical_accuracy']\n",
    "loss = history.history['loss']\n",
    "val_loss = history.history['val_loss']\n",
    "\n",
    "epochs = range(1, len(acc)+1)\n",
    "\n",
    "plt.plot(epochs, acc, 'bo', label='Training acc')\n",
    "plt.plot(epochs, val_acc, 'b', label='Validation acc')\n",
    "plt.title('Training and validation accuracy')\n",
    "plt.legend()\n",
    "\n",
    "plt.figure()\n",
    "plt.plot(epochs, loss, 'bo', label='Training losses')\n",
    "plt.plot(epochs, val_loss, 'b', label='Validation losses')\n",
    "plt.title('Training and validation loss')\n",
    "plt.legend()\n",
    "\n",
    "plt.show()"
   ]
  },
  {
   "cell_type": "code",
   "execution_count": null,
   "metadata": {
    "colab": {
     "autoexec": {
      "startup": false,
      "wait_interval": 0
     }
    },
    "colab_type": "code",
    "collapsed": true,
    "id": "3xtr7CZuAkfM"
   },
   "outputs": [],
   "source": [
    "model.save('fully_trained_model.h5')"
   ]
  },
  {
   "cell_type": "code",
   "execution_count": 1,
   "metadata": {},
   "outputs": [
    {
     "name": "stderr",
     "output_type": "stream",
     "text": [
      "Using TensorFlow backend.\n"
     ]
    }
   ],
   "source": [
    "from keras.models import load_model\n",
    "model = load_model('fully_trained_model.h5')"
   ]
  },
  {
   "cell_type": "markdown",
   "metadata": {
    "colab": {
     "autoexec": {
      "startup": false,
      "wait_interval": 0
     }
    },
    "colab_type": "code",
    "id": "v_hmXE3aChWn"
   },
   "source": [
    "# Test the model"
   ]
  },
  {
   "cell_type": "code",
   "execution_count": 29,
   "metadata": {
    "collapsed": true
   },
   "outputs": [],
   "source": [
    "import cv2\n",
    "import matplotlib.pyplot as plt\n",
    "import numpy as np\n",
    "\n",
    "%matplotlib inline"
   ]
  },
  {
   "cell_type": "code",
   "execution_count": 59,
   "metadata": {
    "collapsed": true
   },
   "outputs": [],
   "source": [
    "labels = {\n",
    "    0 : \"Afraid\",\n",
    "    1 : \"Angry\",\n",
    "    2 : \"disgust\",\n",
    "    3 : \"happy\",\n",
    "    4 : \"neutral\",\n",
    "    5 : \"sad\",\n",
    "    6 : \"surprised\"\n",
    "}"
   ]
  },
  {
   "cell_type": "code",
   "execution_count": 54,
   "metadata": {},
   "outputs": [
    {
     "data": {
      "text/plain": [
       "(370, 240, 3)"
      ]
     },
     "execution_count": 54,
     "metadata": {},
     "output_type": "execute_result"
    }
   ],
   "source": [
    "image = cv2.imread('E:\\\\2.jpg')\n",
    "image.shape"
   ]
  },
  {
   "cell_type": "code",
   "execution_count": 55,
   "metadata": {},
   "outputs": [
    {
     "data": {
      "text/plain": [
       "<matplotlib.image.AxesImage at 0x1546a6d09e8>"
      ]
     },
     "execution_count": 55,
     "metadata": {},
     "output_type": "execute_result"
    },
    {
     "data": {
      "image/png": "[encoded data removed]",
      "text/plain": [
       "<matplotlib.figure.Figure at 0x1546a67f1d0>"
      ]
     },
     "metadata": {},
     "output_type": "display_data"
    }
   ],
   "source": [
    "plt.imshow(cv2.cvtColor(image, cv2.COLOR_BGR2RGB))"
   ]
  },
  {
   "cell_type": "code",
   "execution_count": 57,
   "metadata": {},
   "outputs": [
    {
     "data": {
      "text/plain": [
       "(1, 150, 150, 3)"
      ]
     },
     "execution_count": 57,
     "metadata": {},
     "output_type": "execute_result"
    }
   ],
   "source": [
    "image=np.array(cv2.resize(image, (150,150)))\n",
    "image = image.reshape(1, 150, 150, 3)\n",
    "image.shape"
   ]
  },
  {
   "cell_type": "code",
   "execution_count": 61,
   "metadata": {},
   "outputs": [
    {
     "data": {
      "text/plain": [
       "'happy'"
      ]
     },
     "execution_count": 61,
     "metadata": {},
     "output_type": "execute_result"
    }
   ],
   "source": [
    "labels[np.argmax(model.predict(image))]"
   ]
  },
  {
   "cell_type": "code",
   "execution_count": null,
   "metadata": {
    "collapsed": true
   },
   "outputs": [],
   "source": []
  }
 ],
 "metadata": {
  "accelerator": "GPU",
  "colab": {
   "collapsed_sections": [],
   "default_view": {},
   "name": "Emotion_detection.ipynb",
   "provenance": [],
   "version": "0.3.2",
   "views": {}
  },
  "kernelspec": {
   "display_name": "Python 3",
   "language": "python",
   "name": "python3"
  },
  "language_info": {
   "codemirror_mode": {
    "name": "ipython",
    "version": 3
   },
   "file_extension": ".py",
   "mimetype": "text/x-python",
   "name": "python",
   "nbconvert_exporter": "python",
   "pygments_lexer": "ipython3",
   "version": "3.6.5"
  }
 },
 "nbformat": 4,
 "nbformat_minor": 2
}
