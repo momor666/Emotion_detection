{
 "cells": [
  {
   "cell_type": "code",
   "execution_count": 1,
   "metadata": {
    "colab": {
     "autoexec": {
      "startup": false,
      "wait_interval": 0
     }
    },
    "colab_type": "code",
    "id": "V95Uwl8F2u_S"
   },
   "outputs": [
    {
     "name": "stderr",
     "output_type": "stream",
     "text": [
      "Using TensorFlow backend.\n"
     ]
    }
   ],
   "source": [
    "import numpy as np\n",
    "import pandas as pd\n",
    "import matplotlib.pyplot as plt\n",
    "import keras\n",
    "\n",
    "from keras.datasets import mnist\n",
    "from keras.utils import to_categorical\n",
    "\n",
    "from keras import models\n",
    "from keras import layers\n",
    "\n",
    "from keras import losses, optimizers, metrics"
   ]
  },
  {
   "cell_type": "code",
   "execution_count": 2,
   "metadata": {
    "colab": {
     "autoexec": {
      "startup": false,
      "wait_interval": 0
     },
     "base_uri": "https://localhost:8080/",
     "height": 51,
     "output_extras": [
      {
       "item_id": 2
      }
     ]
    },
    "colab_type": "code",
    "executionInfo": {
     "elapsed": 2038,
     "status": "ok",
     "timestamp": 1518623283961,
     "user": {
      "displayName": "Shuvendu Bikash",
      "photoUrl": "//lh6.googleusercontent.com/-qmLdelcDhNY/AAAAAAAAAAI/AAAAAAAAOyw/0BejXT-_QPo/s50-c-k-no/photo.jpg",
      "userId": "106434026064423574094"
     },
     "user_tz": -360
    },
    "id": "4mp5FXso6yJv",
    "outputId": "6659d994-0eba-464b-d45a-f69d82ecd360"
   },
   "outputs": [
    {
     "name": "stdout",
     "output_type": "stream",
     "text": [
      "Found 3918 images belonging to 7 classes.\n",
      "Found 980 images belonging to 7 classes.\n"
     ]
    }
   ],
   "source": [
    "from keras.preprocessing.image import ImageDataGenerator\n",
    "train_dir = '/media/shuvendu/Projects/Datasets/KDEF_and_AKDEF/data/train'\n",
    "test_dir ='/media/shuvendu/Projects/Datasets/KDEF_and_AKDEF/data/test'\n",
    "\n",
    "\n",
    "train_datagen = ImageDataGenerator(rescale=1./255)\n",
    "test_datagen = ImageDataGenerator(rescale=1./255)\n",
    "\n",
    "train_generator = train_datagen.flow_from_directory(\n",
    "    train_dir,\n",
    "    target_size = (224, 224),\n",
    "    batch_size=32\n",
    ")\n",
    "\n",
    "validation_generator = test_datagen.flow_from_directory(\n",
    "    test_dir,\n",
    "    target_size = (224, 224),\n",
    "    batch_size=32\n",
    ")"
   ]
  },
  {
   "cell_type": "markdown",
   "metadata": {
    "colab_type": "text",
    "id": "VyVSA5Nb-5tQ"
   },
   "source": [
    "## Try using pretrined model"
   ]
  },
  {
   "cell_type": "code",
   "execution_count": 3,
   "metadata": {
    "colab": {
     "autoexec": {
      "startup": false,
      "wait_interval": 0
     },
     "base_uri": "https://localhost:8080/",
     "height": 51,
     "output_extras": [
      {
       "item_id": 2
      }
     ]
    },
    "colab_type": "code",
    "executionInfo": {
     "elapsed": 2835,
     "status": "ok",
     "timestamp": 1518622992285,
     "user": {
      "displayName": "Shuvendu Bikash",
      "photoUrl": "//lh6.googleusercontent.com/-qmLdelcDhNY/AAAAAAAAAAI/AAAAAAAAOyw/0BejXT-_QPo/s50-c-k-no/photo.jpg",
      "userId": "106434026064423574094"
     },
     "user_tz": -360
    },
    "id": "tVtbN_6L-LbB",
    "outputId": "169402bb-4993-42ed-98b2-5c03f9f873d5",
    "scrolled": true
   },
   "outputs": [
    {
     "name": "stdout",
     "output_type": "stream",
     "text": [
      "_________________________________________________________________\n",
      "Layer (type)                 Output Shape              Param #   \n",
      "=================================================================\n",
      "input_1 (InputLayer)         (None, 224, 224, 3)       0         \n",
      "_________________________________________________________________\n",
      "block1_conv1 (Conv2D)        (None, 224, 224, 64)      1792      \n",
      "_________________________________________________________________\n",
      "block1_conv2 (Conv2D)        (None, 224, 224, 64)      36928     \n",
      "_________________________________________________________________\n",
      "block1_pool (MaxPooling2D)   (None, 112, 112, 64)      0         \n",
      "_________________________________________________________________\n",
      "block2_conv1 (Conv2D)        (None, 112, 112, 128)     73856     \n",
      "_________________________________________________________________\n",
      "block2_conv2 (Conv2D)        (None, 112, 112, 128)     147584    \n",
      "_________________________________________________________________\n",
      "block2_pool (MaxPooling2D)   (None, 56, 56, 128)       0         \n",
      "_________________________________________________________________\n",
      "block3_conv1 (Conv2D)        (None, 56, 56, 256)       295168    \n",
      "_________________________________________________________________\n",
      "block3_conv2 (Conv2D)        (None, 56, 56, 256)       590080    \n",
      "_________________________________________________________________\n",
      "block3_conv3 (Conv2D)        (None, 56, 56, 256)       590080    \n",
      "_________________________________________________________________\n",
      "block3_pool (MaxPooling2D)   (None, 28, 28, 256)       0         \n",
      "_________________________________________________________________\n",
      "block4_conv1 (Conv2D)        (None, 28, 28, 512)       1180160   \n",
      "_________________________________________________________________\n",
      "block4_conv2 (Conv2D)        (None, 28, 28, 512)       2359808   \n",
      "_________________________________________________________________\n",
      "block4_conv3 (Conv2D)        (None, 28, 28, 512)       2359808   \n",
      "_________________________________________________________________\n",
      "block4_pool (MaxPooling2D)   (None, 14, 14, 512)       0         \n",
      "_________________________________________________________________\n",
      "block5_conv1 (Conv2D)        (None, 14, 14, 512)       2359808   \n",
      "_________________________________________________________________\n",
      "block5_conv2 (Conv2D)        (None, 14, 14, 512)       2359808   \n",
      "_________________________________________________________________\n",
      "block5_conv3 (Conv2D)        (None, 14, 14, 512)       2359808   \n",
      "_________________________________________________________________\n",
      "block5_pool (MaxPooling2D)   (None, 7, 7, 512)         0         \n",
      "=================================================================\n",
      "Total params: 14,714,688\n",
      "Trainable params: 14,714,688\n",
      "Non-trainable params: 0\n",
      "_________________________________________________________________\n"
     ]
    }
   ],
   "source": [
    "from keras.applications import VGG16\n",
    "\n",
    "conv_base = VGG16(weights='imagenet',\n",
    "                 include_top=False,\n",
    "                 input_shape=(224, 224, 3))\n",
    "conv_base.summary()"
   ]
  },
  {
   "cell_type": "code",
   "execution_count": 4,
   "metadata": {
    "colab": {
     "autoexec": {
      "startup": false,
      "wait_interval": 0
     },
     "base_uri": "https://localhost:8080/",
     "height": 272,
     "output_extras": [
      {
       "item_id": 1
      }
     ]
    },
    "colab_type": "code",
    "executionInfo": {
     "elapsed": 1319,
     "status": "ok",
     "timestamp": 1518623116608,
     "user": {
      "displayName": "Shuvendu Bikash",
      "photoUrl": "//lh6.googleusercontent.com/-qmLdelcDhNY/AAAAAAAAAAI/AAAAAAAAOyw/0BejXT-_QPo/s50-c-k-no/photo.jpg",
      "userId": "106434026064423574094"
     },
     "user_tz": -360
    },
    "id": "_skOPxk9-9v2",
    "outputId": "9ce900f6-291e-4ca3-8ef1-56d098e2311d"
   },
   "outputs": [
    {
     "name": "stdout",
     "output_type": "stream",
     "text": [
      "_________________________________________________________________\n",
      "Layer (type)                 Output Shape              Param #   \n",
      "=================================================================\n",
      "vgg16 (Model)                (None, 7, 7, 512)         14714688  \n",
      "_________________________________________________________________\n",
      "flatten_1 (Flatten)          (None, 25088)             0         \n",
      "_________________________________________________________________\n",
      "dense_1 (Dense)              (None, 512)               12845568  \n",
      "_________________________________________________________________\n",
      "dense_2 (Dense)              (None, 7)                 3591      \n",
      "=================================================================\n",
      "Total params: 27,563,847\n",
      "Trainable params: 27,563,847\n",
      "Non-trainable params: 0\n",
      "_________________________________________________________________\n"
     ]
    }
   ],
   "source": [
    "model = models.Sequential()\n",
    "\n",
    "model.add(conv_base)\n",
    "model.add(layers.Flatten())\n",
    "model.add(layers.Dense(512, activation='relu'))\n",
    "model.add(layers.Dense(7, activation='softmax'))\n",
    "model.summary()"
   ]
  },
  {
   "cell_type": "code",
   "execution_count": 8,
   "metadata": {
    "colab": {
     "autoexec": {
      "startup": false,
      "wait_interval": 0
     },
     "base_uri": "https://localhost:8080/",
     "height": 326,
     "output_extras": [
      {
       "item_id": 57
      },
      {
       "item_id": 102
      },
      {
       "item_id": 146
      },
      {
       "item_id": 185
      },
      {
       "item_id": 223
      },
      {
       "item_id": 264
      },
      {
       "item_id": 312
      },
      {
       "item_id": 340
      },
      {
       "item_id": 350
      }
     ]
    },
    "colab_type": "code",
    "executionInfo": {
     "elapsed": 281971,
     "status": "ok",
     "timestamp": 1518623773926,
     "user": {
      "displayName": "Shuvendu Bikash",
      "photoUrl": "//lh6.googleusercontent.com/-qmLdelcDhNY/AAAAAAAAAAI/AAAAAAAAOyw/0BejXT-_QPo/s50-c-k-no/photo.jpg",
      "userId": "106434026064423574094"
     },
     "user_tz": -360
    },
    "id": "clg09hoI_ce1",
    "outputId": "d09f4d91-5834-43c8-d48e-f6b24c890f80"
   },
   "outputs": [
    {
     "name": "stdout",
     "output_type": "stream",
     "text": [
      "This is the number of trainable weights before freezing the conv base: 4\n",
      "Epoch 1/10\n",
      "125/125 [==============================] - 98s - loss: 0.7391 - categorical_accuracy: 0.7165 - val_loss: 0.7383 - val_categorical_accuracy: 0.7110\n",
      "Epoch 2/10\n",
      "125/125 [==============================] - 97s - loss: 0.5080 - categorical_accuracy: 0.8099 - val_loss: 0.5878 - val_categorical_accuracy: 0.7869\n",
      "Epoch 3/10\n",
      "125/125 [==============================] - 98s - loss: 0.4125 - categorical_accuracy: 0.8489 - val_loss: 0.4989 - val_categorical_accuracy: 0.8154\n",
      "Epoch 4/10\n",
      "125/125 [==============================] - 99s - loss: 0.2947 - categorical_accuracy: 0.8958 - val_loss: 0.4137 - val_categorical_accuracy: 0.8502\n",
      "Epoch 5/10\n",
      "125/125 [==============================] - 98s - loss: 0.2172 - categorical_accuracy: 0.9299 - val_loss: 0.3401 - val_categorical_accuracy: 0.8745\n",
      "Epoch 6/10\n",
      "125/125 [==============================] - 101s - loss: 0.1651 - categorical_accuracy: 0.9444 - val_loss: 0.4673 - val_categorical_accuracy: 0.8481\n",
      "Epoch 7/10\n",
      "125/125 [==============================] - 99s - loss: 0.1217 - categorical_accuracy: 0.9592 - val_loss: 0.3269 - val_categorical_accuracy: 0.8956\n",
      "Epoch 8/10\n",
      "125/125 [==============================] - 100s - loss: 0.0956 - categorical_accuracy: 0.9674 - val_loss: 0.3747 - val_categorical_accuracy: 0.8713\n",
      "Epoch 9/10\n",
      "125/125 [==============================] - 100s - loss: 0.0659 - categorical_accuracy: 0.9774 - val_loss: 0.4481 - val_categorical_accuracy: 0.8734\n",
      "Epoch 10/10\n",
      "125/125 [==============================] - 99s - loss: 0.0779 - categorical_accuracy: 0.9732 - val_loss: 0.4446 - val_categorical_accuracy: 0.8745\n"
     ]
    }
   ],
   "source": [
    "conv_base.trainable = False\n",
    "print('This is the number of trainable weights before freezing the conv base:', len(model.trainable_weights))\n",
    "\n",
    "model.compile(\n",
    "    optimizer=optimizers.Adam(lr=5e-5), \n",
    "    loss=losses.categorical_crossentropy, \n",
    "    metrics=[metrics.categorical_accuracy]\n",
    ")\n",
    "\n",
    "history = model.fit_generator(train_generator, \n",
    "                              steps_per_epoch=125, \n",
    "                              epochs=10, \n",
    "                              validation_data=validation_generator, \n",
    "                              validation_steps=30)"
   ]
  },
  {
   "cell_type": "code",
   "execution_count": 9,
   "metadata": {
    "colab": {
     "autoexec": {
      "startup": false,
      "wait_interval": 0
     }
    },
    "colab_type": "code",
    "collapsed": true,
    "id": "Atle6EGR_o-T"
   },
   "outputs": [],
   "source": [
    "conv_base.trainable = True\n",
    "set_trainable = False\n",
    "for layer in conv_base.layers:\n",
    "    if layer.name == 'block5_conv1':\n",
    "        set_trainable = True\n",
    "    if set_trainable:\n",
    "        layer.trainable = True\n",
    "    else:\n",
    "        layer.trainable = False"
   ]
  },
  {
   "cell_type": "code",
   "execution_count": 10,
   "metadata": {
    "colab": {
     "autoexec": {
      "startup": false,
      "wait_interval": 0
     },
     "base_uri": "https://localhost:8080/",
     "height": 955,
     "output_extras": [
      {
       "item_id": 54
      },
      {
       "item_id": 114
      },
      {
       "item_id": 174
      },
      {
       "item_id": 243
      },
      {
       "item_id": 298
      },
      {
       "item_id": 363
      },
      {
       "item_id": 430
      },
      {
       "item_id": 470
      },
      {
       "item_id": 520
      },
      {
       "item_id": 560
      },
      {
       "item_id": 596
      },
      {
       "item_id": 640
      },
      {
       "item_id": 683
      },
      {
       "item_id": 736
      },
      {
       "item_id": 796
      },
      {
       "item_id": 859
      },
      {
       "item_id": 914
      },
      {
       "item_id": 976
      },
      {
       "item_id": 1034
      },
      {
       "item_id": 1098
      },
      {
       "item_id": 1155
      },
      {
       "item_id": 1222
      },
      {
       "item_id": 1284
      },
      {
       "item_id": 1353
      },
      {
       "item_id": 1425
      },
      {
       "item_id": 1485
      },
      {
       "item_id": 1510
      }
     ]
    },
    "colab_type": "code",
    "id": "gpT0IIyLAWpR",
    "outputId": "5cbf1a75-da29-4d65-b4ba-5f33fc625ceb"
   },
   "outputs": [
    {
     "name": "stdout",
     "output_type": "stream",
     "text": [
      "Epoch 1/30\n",
      "125/125 [==============================] - 43s - loss: 0.0361 - categorical_accuracy: 0.9870 - val_loss: 0.4405 - val_categorical_accuracy: 0.8875\n",
      "Epoch 2/30\n",
      "125/125 [==============================] - 42s - loss: 0.0303 - categorical_accuracy: 0.9885 - val_loss: 0.4188 - val_categorical_accuracy: 0.8998\n",
      "Epoch 3/30\n",
      "125/125 [==============================] - 42s - loss: 0.0184 - categorical_accuracy: 0.9950 - val_loss: 0.3898 - val_categorical_accuracy: 0.8987\n",
      "Epoch 4/30\n",
      "125/125 [==============================] - 42s - loss: 0.0070 - categorical_accuracy: 0.9977 - val_loss: 0.4705 - val_categorical_accuracy: 0.9019\n",
      "Epoch 5/30\n",
      "125/125 [==============================] - 42s - loss: 0.0082 - categorical_accuracy: 0.9967 - val_loss: 0.4465 - val_categorical_accuracy: 0.9124\n",
      "Epoch 6/30\n",
      "125/125 [==============================] - 42s - loss: 0.0069 - categorical_accuracy: 0.9977 - val_loss: 0.4280 - val_categorical_accuracy: 0.9146\n",
      "Epoch 7/30\n",
      "125/125 [==============================] - 43s - loss: 0.0031 - categorical_accuracy: 0.9992 - val_loss: 0.4557 - val_categorical_accuracy: 0.9156\n",
      "Epoch 8/30\n",
      "125/125 [==============================] - 44s - loss: 0.0338 - categorical_accuracy: 0.9887 - val_loss: 0.4310 - val_categorical_accuracy: 0.9061\n",
      "Epoch 9/30\n",
      "125/125 [==============================] - 44s - loss: 0.0383 - categorical_accuracy: 0.9870 - val_loss: 0.5494 - val_categorical_accuracy: 0.8966\n",
      "Epoch 10/30\n",
      "125/125 [==============================] - 43s - loss: 0.0229 - categorical_accuracy: 0.9927 - val_loss: 0.4578 - val_categorical_accuracy: 0.9061\n",
      "Epoch 11/30\n",
      "125/125 [==============================] - 43s - loss: 0.0052 - categorical_accuracy: 0.9982 - val_loss: 0.4799 - val_categorical_accuracy: 0.9230\n",
      "Epoch 12/30\n",
      "125/125 [==============================] - 43s - loss: 0.0021 - categorical_accuracy: 0.9995 - val_loss: 0.4429 - val_categorical_accuracy: 0.9188\n",
      "Epoch 13/30\n",
      "125/125 [==============================] - 43s - loss: 0.0032 - categorical_accuracy: 0.9990 - val_loss: 0.4912 - val_categorical_accuracy: 0.9177\n",
      "Epoch 14/30\n",
      "125/125 [==============================] - 43s - loss: 0.0029 - categorical_accuracy: 0.9990 - val_loss: 0.4476 - val_categorical_accuracy: 0.9293\n",
      "Epoch 15/30\n",
      "125/125 [==============================] - 44s - loss: 0.0029 - categorical_accuracy: 0.9990 - val_loss: 0.5726 - val_categorical_accuracy: 0.9135\n",
      "Epoch 16/30\n",
      "125/125 [==============================] - 41s - loss: 0.0032 - categorical_accuracy: 0.9985 - val_loss: 0.5092 - val_categorical_accuracy: 0.9156\n",
      "Epoch 17/30\n",
      "125/125 [==============================] - 41s - loss: 0.0027 - categorical_accuracy: 0.9990 - val_loss: 0.5660 - val_categorical_accuracy: 0.9177\n",
      "Epoch 18/30\n",
      "125/125 [==============================] - 41s - loss: 0.0032 - categorical_accuracy: 0.9987 - val_loss: 0.5124 - val_categorical_accuracy: 0.9167\n",
      "Epoch 19/30\n",
      "125/125 [==============================] - 41s - loss: 0.0024 - categorical_accuracy: 0.9992 - val_loss: 0.5087 - val_categorical_accuracy: 0.9198\n",
      "Epoch 20/30\n",
      "125/125 [==============================] - 41s - loss: 0.0028 - categorical_accuracy: 0.9987 - val_loss: 0.5291 - val_categorical_accuracy: 0.9177\n",
      "Epoch 21/30\n",
      "125/125 [==============================] - 44s - loss: 0.0036 - categorical_accuracy: 0.9987 - val_loss: 0.5324 - val_categorical_accuracy: 0.9209\n",
      "Epoch 22/30\n",
      "125/125 [==============================] - 44s - loss: 0.0017 - categorical_accuracy: 0.9995 - val_loss: 0.4869 - val_categorical_accuracy: 0.9167\n",
      "Epoch 23/30\n",
      "125/125 [==============================] - 43s - loss: 0.0029 - categorical_accuracy: 0.9985 - val_loss: 0.5904 - val_categorical_accuracy: 0.9146\n",
      "Epoch 24/30\n",
      "125/125 [==============================] - 43s - loss: 0.0035 - categorical_accuracy: 0.9987 - val_loss: 0.6065 - val_categorical_accuracy: 0.9156\n",
      "Epoch 25/30\n",
      "125/125 [==============================] - 43s - loss: 0.0022 - categorical_accuracy: 0.9992 - val_loss: 0.6063 - val_categorical_accuracy: 0.9198\n",
      "Epoch 26/30\n",
      "125/125 [==============================] - 44s - loss: 0.0033 - categorical_accuracy: 0.9985 - val_loss: 0.5899 - val_categorical_accuracy: 0.9167\n",
      "Epoch 27/30\n",
      "125/125 [==============================] - 41s - loss: 0.0033 - categorical_accuracy: 0.9987 - val_loss: 0.5580 - val_categorical_accuracy: 0.9209\n",
      "Epoch 28/30\n",
      "125/125 [==============================] - 41s - loss: 0.0015 - categorical_accuracy: 0.9997 - val_loss: 0.6380 - val_categorical_accuracy: 0.9177\n",
      "Epoch 29/30\n",
      "125/125 [==============================] - 41s - loss: 0.0029 - categorical_accuracy: 0.9990 - val_loss: 0.6478 - val_categorical_accuracy: 0.9156\n",
      "Epoch 30/30\n",
      "125/125 [==============================] - 41s - loss: 0.0040 - categorical_accuracy: 0.9980 - val_loss: 0.6491 - val_categorical_accuracy: 0.9124\n"
     ]
    }
   ],
   "source": [
    "model.compile(\n",
    "    optimizer=optimizers.Adam(lr=5e-5), \n",
    "    loss=losses.categorical_crossentropy, \n",
    "    metrics=[metrics.categorical_accuracy]\n",
    ")\n",
    "\n",
    "history = model.fit_generator(train_generator, \n",
    "                              steps_per_epoch=125, \n",
    "                              epochs=30, \n",
    "                              validation_data=validation_generator, \n",
    "                              validation_steps=30)"
   ]
  },
  {
   "cell_type": "code",
   "execution_count": 11,
   "metadata": {
    "colab": {
     "autoexec": {
      "startup": false,
      "wait_interval": 0
     }
    },
    "colab_type": "code",
    "id": "X9QrfV3vAig7"
   },
   "outputs": [
    {
     "data": {
      "image/png": "[encoded data removed]",
      "text/plain": [
       "<matplotlib.figure.Figure at 0x7f5fded44fd0>"
      ]
     },
     "metadata": {},
     "output_type": "display_data"
    },
    {
     "data": {
      "image/png": "[encoded data removed]",
      "text/plain": [
       "<matplotlib.figure.Figure at 0x7f5fded5bcc0>"
      ]
     },
     "metadata": {},
     "output_type": "display_data"
    }
   ],
   "source": [
    "import matplotlib.pyplot as plt\n",
    "\n",
    "acc = history.history['categorical_accuracy']\n",
    "val_acc = history.history['val_categorical_accuracy']\n",
    "loss = history.history['loss']\n",
    "val_loss = history.history['val_loss']\n",
    "\n",
    "epochs = range(1, len(acc)+1)\n",
    "\n",
    "plt.plot(epochs, acc, 'bo', label='Training acc')\n",
    "plt.plot(epochs, val_acc, 'b', label='Validation acc')\n",
    "plt.title('Training and validation accuracy')\n",
    "plt.legend()\n",
    "\n",
    "plt.figure()\n",
    "plt.plot(epochs, loss, 'bo', label='Training losses')\n",
    "plt.plot(epochs, val_loss, 'b', label='Validation losses')\n",
    "plt.title('Training and validation loss')\n",
    "plt.legend()\n",
    "\n",
    "plt.show()"
   ]
  },
  {
   "cell_type": "code",
   "execution_count": 12,
   "metadata": {
    "colab": {
     "autoexec": {
      "startup": false,
      "wait_interval": 0
     }
    },
    "colab_type": "code",
    "collapsed": true,
    "id": "3xtr7CZuAkfM"
   },
   "outputs": [],
   "source": [
    "model.save('fully_trained_model.h5')"
   ]
  },
  {
   "cell_type": "code",
   "execution_count": null,
   "metadata": {
    "collapsed": true
   },
   "outputs": [],
   "source": []
  }
 ],
 "metadata": {
  "accelerator": "GPU",
  "colab": {
   "collapsed_sections": [],
   "default_view": {},
   "name": "Emotion_detection.ipynb",
   "provenance": [],
   "version": "0.3.2",
   "views": {}
  },
  "kernelspec": {
   "display_name": "Python 3",
   "language": "python",
   "name": "python3"
  },
  "language_info": {
   "codemirror_mode": {
    "name": "ipython",
    "version": 3
   },
   "file_extension": ".py",
   "mimetype": "text/x-python",
   "name": "python",
   "nbconvert_exporter": "python",
   "pygments_lexer": "ipython3",
   "version": "3.6.1"
  }
 },
 "nbformat": 4,
 "nbformat_minor": 1
}
