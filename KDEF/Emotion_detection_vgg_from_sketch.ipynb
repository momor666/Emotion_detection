{
 "cells": [
  {
   "cell_type": "code",
   "execution_count": 1,
   "metadata": {
    "colab": {
     "autoexec": {
      "startup": false,
      "wait_interval": 0
     }
    },
    "colab_type": "code",
    "id": "V95Uwl8F2u_S"
   },
   "outputs": [
    {
     "name": "stderr",
     "output_type": "stream",
     "text": [
      "Using TensorFlow backend.\n"
     ]
    }
   ],
   "source": [
    "import numpy as np\n",
    "import pandas as pd\n",
    "import matplotlib.pyplot as plt\n",
    "import keras\n",
    "\n",
    "from keras.datasets import mnist\n",
    "from keras.utils import to_categorical\n",
    "\n",
    "from keras import models\n",
    "from keras import layers\n",
    "\n",
    "from keras import losses, optimizers, metrics"
   ]
  },
  {
   "cell_type": "code",
   "execution_count": 2,
   "metadata": {},
   "outputs": [],
   "source": [
    "emotions = ['afraid', 'angry', 'disgusted', 'happy', 'neutral', 'sad', 'surprised']"
   ]
  },
  {
   "cell_type": "code",
   "execution_count": 4,
   "metadata": {
    "colab": {
     "autoexec": {
      "startup": false,
      "wait_interval": 0
     },
     "base_uri": "https://localhost:8080/",
     "height": 51,
     "output_extras": [
      {
       "item_id": 2
      }
     ]
    },
    "colab_type": "code",
    "executionInfo": {
     "elapsed": 2038,
     "status": "ok",
     "timestamp": 1518623283961,
     "user": {
      "displayName": "Shuvendu Bikash",
      "photoUrl": "//lh6.googleusercontent.com/-qmLdelcDhNY/AAAAAAAAAAI/AAAAAAAAOyw/0BejXT-_QPo/s50-c-k-no/photo.jpg",
      "userId": "106434026064423574094"
     },
     "user_tz": -360
    },
    "id": "4mp5FXso6yJv",
    "outputId": "6659d994-0eba-464b-d45a-f69d82ecd360"
   },
   "outputs": [
    {
     "name": "stdout",
     "output_type": "stream",
     "text": [
      "Found 3918 images belonging to 7 classes.\n",
      "Found 980 images belonging to 7 classes.\n"
     ]
    }
   ],
   "source": [
    "from keras.preprocessing.image import ImageDataGenerator\n",
    "train_dir = 'E:\\\\Datasets\\\\KDEF_and_AKDEF\\\\data\\\\train'\n",
    "test_dir ='E:\\\\Datasets\\\\KDEF_and_AKDEF\\\\data\\\\test'\n",
    "\n",
    "\n",
    "train_datagen = ImageDataGenerator(rescale=1./255)\n",
    "test_datagen = ImageDataGenerator(rescale=1./255)\n",
    "\n",
    "train_generator = train_datagen.flow_from_directory(\n",
    "    train_dir,\n",
    "    target_size = (224, 224),\n",
    "    batch_size=32\n",
    ")\n",
    "\n",
    "validation_generator = test_datagen.flow_from_directory(\n",
    "    test_dir,\n",
    "    target_size = (224, 224),\n",
    "    batch_size=32\n",
    ")"
   ]
  },
  {
   "cell_type": "markdown",
   "metadata": {
    "colab_type": "text",
    "id": "VyVSA5Nb-5tQ"
   },
   "source": [
    "## Try using pretrined model"
   ]
  },
  {
   "cell_type": "code",
   "execution_count": 6,
   "metadata": {
    "colab": {
     "autoexec": {
      "startup": false,
      "wait_interval": 0
     },
     "base_uri": "https://localhost:8080/",
     "height": 51,
     "output_extras": [
      {
       "item_id": 2
      }
     ]
    },
    "colab_type": "code",
    "executionInfo": {
     "elapsed": 2835,
     "status": "ok",
     "timestamp": 1518622992285,
     "user": {
      "displayName": "Shuvendu Bikash",
      "photoUrl": "//lh6.googleusercontent.com/-qmLdelcDhNY/AAAAAAAAAAI/AAAAAAAAOyw/0BejXT-_QPo/s50-c-k-no/photo.jpg",
      "userId": "106434026064423574094"
     },
     "user_tz": -360
    },
    "id": "tVtbN_6L-LbB",
    "outputId": "169402bb-4993-42ed-98b2-5c03f9f873d5",
    "scrolled": true
   },
   "outputs": [
    {
     "name": "stdout",
     "output_type": "stream",
     "text": [
      "_________________________________________________________________\n",
      "Layer (type)                 Output Shape              Param #   \n",
      "=================================================================\n",
      "input_2 (InputLayer)         (None, 224, 224, 3)       0         \n",
      "_________________________________________________________________\n",
      "block1_conv1 (Conv2D)        (None, 224, 224, 64)      1792      \n",
      "_________________________________________________________________\n",
      "block1_conv2 (Conv2D)        (None, 224, 224, 64)      36928     \n",
      "_________________________________________________________________\n",
      "block1_pool (MaxPooling2D)   (None, 112, 112, 64)      0         \n",
      "_________________________________________________________________\n",
      "block2_conv1 (Conv2D)        (None, 112, 112, 128)     73856     \n",
      "_________________________________________________________________\n",
      "block2_conv2 (Conv2D)        (None, 112, 112, 128)     147584    \n",
      "_________________________________________________________________\n",
      "block2_pool (MaxPooling2D)   (None, 56, 56, 128)       0         \n",
      "_________________________________________________________________\n",
      "block3_conv1 (Conv2D)        (None, 56, 56, 256)       295168    \n",
      "_________________________________________________________________\n",
      "block3_conv2 (Conv2D)        (None, 56, 56, 256)       590080    \n",
      "_________________________________________________________________\n",
      "block3_conv3 (Conv2D)        (None, 56, 56, 256)       590080    \n",
      "_________________________________________________________________\n",
      "block3_pool (MaxPooling2D)   (None, 28, 28, 256)       0         \n",
      "_________________________________________________________________\n",
      "block4_conv1 (Conv2D)        (None, 28, 28, 512)       1180160   \n",
      "_________________________________________________________________\n",
      "block4_conv2 (Conv2D)        (None, 28, 28, 512)       2359808   \n",
      "_________________________________________________________________\n",
      "block4_conv3 (Conv2D)        (None, 28, 28, 512)       2359808   \n",
      "_________________________________________________________________\n",
      "block4_pool (MaxPooling2D)   (None, 14, 14, 512)       0         \n",
      "_________________________________________________________________\n",
      "block5_conv1 (Conv2D)        (None, 14, 14, 512)       2359808   \n",
      "_________________________________________________________________\n",
      "block5_conv2 (Conv2D)        (None, 14, 14, 512)       2359808   \n",
      "_________________________________________________________________\n",
      "block5_conv3 (Conv2D)        (None, 14, 14, 512)       2359808   \n",
      "_________________________________________________________________\n",
      "block5_pool (MaxPooling2D)   (None, 7, 7, 512)         0         \n",
      "=================================================================\n",
      "Total params: 14,714,688\n",
      "Trainable params: 14,714,688\n",
      "Non-trainable params: 0\n",
      "_________________________________________________________________\n"
     ]
    }
   ],
   "source": [
    "from keras.applications import VGG16\n",
    "\n",
    "conv_base = VGG16(weights=None,\n",
    "                 include_top=False,\n",
    "                 input_shape=(224, 224, 3))\n",
    "conv_base.summary()"
   ]
  },
  {
   "cell_type": "code",
   "execution_count": 7,
   "metadata": {
    "colab": {
     "autoexec": {
      "startup": false,
      "wait_interval": 0
     },
     "base_uri": "https://localhost:8080/",
     "height": 272,
     "output_extras": [
      {
       "item_id": 1
      }
     ]
    },
    "colab_type": "code",
    "executionInfo": {
     "elapsed": 1319,
     "status": "ok",
     "timestamp": 1518623116608,
     "user": {
      "displayName": "Shuvendu Bikash",
      "photoUrl": "//lh6.googleusercontent.com/-qmLdelcDhNY/AAAAAAAAAAI/AAAAAAAAOyw/0BejXT-_QPo/s50-c-k-no/photo.jpg",
      "userId": "106434026064423574094"
     },
     "user_tz": -360
    },
    "id": "_skOPxk9-9v2",
    "outputId": "9ce900f6-291e-4ca3-8ef1-56d098e2311d"
   },
   "outputs": [
    {
     "name": "stdout",
     "output_type": "stream",
     "text": [
      "_________________________________________________________________\n",
      "Layer (type)                 Output Shape              Param #   \n",
      "=================================================================\n",
      "vgg16 (Model)                (None, 7, 7, 512)         14714688  \n",
      "_________________________________________________________________\n",
      "flatten_1 (Flatten)          (None, 25088)             0         \n",
      "_________________________________________________________________\n",
      "dense_1 (Dense)              (None, 512)               12845568  \n",
      "_________________________________________________________________\n",
      "dense_2 (Dense)              (None, 7)                 3591      \n",
      "=================================================================\n",
      "Total params: 27,563,847\n",
      "Trainable params: 27,563,847\n",
      "Non-trainable params: 0\n",
      "_________________________________________________________________\n"
     ]
    }
   ],
   "source": [
    "model = models.Sequential()\n",
    "\n",
    "model.add(conv_base)\n",
    "model.add(layers.Flatten())\n",
    "model.add(layers.Dense(512, activation='relu'))\n",
    "model.add(layers.Dense(7, activation='softmax'))\n",
    "model.summary()"
   ]
  },
  {
   "cell_type": "code",
   "execution_count": null,
   "metadata": {
    "colab": {
     "autoexec": {
      "startup": false,
      "wait_interval": 0
     },
     "base_uri": "https://localhost:8080/",
     "height": 955,
     "output_extras": [
      {
       "item_id": 54
      },
      {
       "item_id": 114
      },
      {
       "item_id": 174
      },
      {
       "item_id": 243
      },
      {
       "item_id": 298
      },
      {
       "item_id": 363
      },
      {
       "item_id": 430
      },
      {
       "item_id": 470
      },
      {
       "item_id": 520
      },
      {
       "item_id": 560
      },
      {
       "item_id": 596
      },
      {
       "item_id": 640
      },
      {
       "item_id": 683
      },
      {
       "item_id": 736
      },
      {
       "item_id": 796
      },
      {
       "item_id": 859
      },
      {
       "item_id": 914
      },
      {
       "item_id": 976
      },
      {
       "item_id": 1034
      },
      {
       "item_id": 1098
      },
      {
       "item_id": 1155
      },
      {
       "item_id": 1222
      },
      {
       "item_id": 1284
      },
      {
       "item_id": 1353
      },
      {
       "item_id": 1425
      },
      {
       "item_id": 1485
      },
      {
       "item_id": 1510
      }
     ]
    },
    "colab_type": "code",
    "id": "gpT0IIyLAWpR",
    "outputId": "5cbf1a75-da29-4d65-b4ba-5f33fc625ceb"
   },
   "outputs": [
    {
     "name": "stdout",
     "output_type": "stream",
     "text": [
      "Epoch 1/30\n",
      "125/125 [==============================] - 76s 608ms/step - loss: 2.0629 - categorical_accuracy: 0.1399 - val_loss: 1.9459 - val_categorical_accuracy: 0.1427\n",
      "Epoch 2/30\n",
      "125/125 [==============================] - 76s 607ms/step - loss: 1.9462 - categorical_accuracy: 0.1276 - val_loss: 1.9459 - val_categorical_accuracy: 0.1437\n",
      "Epoch 3/30\n",
      "125/125 [==============================] - 76s 604ms/step - loss: 1.9461 - categorical_accuracy: 0.1311 - val_loss: 1.9459 - val_categorical_accuracy: 0.1427\n",
      "Epoch 4/30\n",
      "125/125 [==============================] - 76s 609ms/step - loss: 1.9460 - categorical_accuracy: 0.1348 - val_loss: 1.9459 - val_categorical_accuracy: 0.1417\n",
      "Epoch 5/30\n",
      "125/125 [==============================] - 76s 606ms/step - loss: 1.9460 - categorical_accuracy: 0.1313 - val_loss: 1.9459 - val_categorical_accuracy: 0.1448\n",
      "Epoch 6/30\n",
      "125/125 [==============================] - 76s 606ms/step - loss: 1.9460 - categorical_accuracy: 0.1355 - val_loss: 1.9459 - val_categorical_accuracy: 0.1417\n",
      "Epoch 7/30\n",
      "125/125 [==============================] - 75s 601ms/step - loss: 1.9460 - categorical_accuracy: 0.1444 - val_loss: 1.9459 - val_categorical_accuracy: 0.1448\n",
      "Epoch 8/30\n",
      "125/125 [==============================] - 76s 607ms/step - loss: 1.9460 - categorical_accuracy: 0.1283 - val_loss: 1.9459 - val_categorical_accuracy: 0.1417\n",
      "Epoch 9/30\n",
      "125/125 [==============================] - 76s 611ms/step - loss: 1.9460 - categorical_accuracy: 0.1321 - val_loss: 1.9459 - val_categorical_accuracy: 0.1417\n",
      "Epoch 10/30\n",
      "125/125 [==============================] - 76s 607ms/step - loss: 1.9460 - categorical_accuracy: 0.1400 - val_loss: 1.9459 - val_categorical_accuracy: 0.1448\n",
      "Epoch 11/30\n",
      "125/125 [==============================] - 75s 604ms/step - loss: 1.9460 - categorical_accuracy: 0.1261 - val_loss: 1.9459 - val_categorical_accuracy: 0.1417\n",
      "Epoch 12/30\n",
      "125/125 [==============================] - 77s 616ms/step - loss: 1.9460 - categorical_accuracy: 0.1406 - val_loss: 1.9459 - val_categorical_accuracy: 0.1417\n",
      "Epoch 13/30\n",
      " 11/125 [=>............................] - ETA: 1:03 - loss: 1.9460 - categorical_accuracy: 0.1222"
     ]
    }
   ],
   "source": [
    "model.compile(\n",
    "    optimizer=optimizers.RMSprop(lr=5e-4), \n",
    "    loss=losses.categorical_crossentropy, \n",
    "    metrics=[metrics.categorical_accuracy]\n",
    ")\n",
    "\n",
    "history = model.fit_generator(train_generator, \n",
    "                              steps_per_epoch=125, \n",
    "                              epochs=30, \n",
    "                              validation_data=validation_generator, \n",
    "                              validation_steps=30)"
   ]
  },
  {
   "cell_type": "code",
   "execution_count": 11,
   "metadata": {
    "colab": {
     "autoexec": {
      "startup": false,
      "wait_interval": 0
     }
    },
    "colab_type": "code",
    "id": "X9QrfV3vAig7"
   },
   "outputs": [
    {
     "data": {
      "image/png": "[encoded data removed]",
      "text/plain": [
       "<matplotlib.figure.Figure at 0x7f5fded44fd0>"
      ]
     },
     "metadata": {},
     "output_type": "display_data"
    },
    {
     "data": {
      "image/png": "[encoded data removed]",
      "text/plain": [
       "<matplotlib.figure.Figure at 0x7f5fded5bcc0>"
      ]
     },
     "metadata": {},
     "output_type": "display_data"
    }
   ],
   "source": [
    "import matplotlib.pyplot as plt\n",
    "\n",
    "acc = history.history['categorical_accuracy']\n",
    "val_acc = history.history['val_categorical_accuracy']\n",
    "loss = history.history['loss']\n",
    "val_loss = history.history['val_loss']\n",
    "\n",
    "epochs = range(1, len(acc)+1)\n",
    "\n",
    "plt.plot(epochs, acc, 'bo', label='Training acc')\n",
    "plt.plot(epochs, val_acc, 'b', label='Validation acc')\n",
    "plt.title('Training and validation accuracy')\n",
    "plt.legend()\n",
    "\n",
    "plt.figure()\n",
    "plt.plot(epochs, loss, 'bo', label='Training losses')\n",
    "plt.plot(epochs, val_loss, 'b', label='Validation losses')\n",
    "plt.title('Training and validation loss')\n",
    "plt.legend()\n",
    "\n",
    "plt.show()"
   ]
  },
  {
   "cell_type": "code",
   "execution_count": 12,
   "metadata": {
    "colab": {
     "autoexec": {
      "startup": false,
      "wait_interval": 0
     }
    },
    "colab_type": "code",
    "collapsed": true,
    "id": "3xtr7CZuAkfM"
   },
   "outputs": [],
   "source": [
    "model.save('fully_trained_model.h5')"
   ]
  },
  {
   "cell_type": "markdown",
   "metadata": {},
   "source": [
    "# Building accuracy matrix"
   ]
  },
  {
   "cell_type": "code",
   "execution_count": 1,
   "metadata": {},
   "outputs": [
    {
     "name": "stderr",
     "output_type": "stream",
     "text": [
      "Using TensorFlow backend.\n",
      "c:\\users\\bikas\\anaconda3\\lib\\site-packages\\keras\\models.py:291: UserWarning: Error in loading the saved optimizer state. As a result, your model is starting with a freshly initialized optimizer.\n",
      "  warnings.warn('Error in loading the saved optimizer '\n"
     ]
    }
   ],
   "source": [
    "from keras.models import load_model\n",
    "from os import listdir\n",
    "from keras.preprocessing.image import ImageDataGenerator\n",
    "import cv2\n",
    "import numpy as np\n",
    "\n",
    "labels = {\n",
    "    0 : \"AF\",\n",
    "    1 : \"AN\",\n",
    "    2 : \"DI\",\n",
    "    3 : \"HA\",\n",
    "    4 : \"NE\",\n",
    "    5 : \"SA\",\n",
    "    6 : \"SU\"\n",
    "}\n",
    "\n",
    "model = load_model('fully_trained_model.h5')\n"
   ]
  },
  {
   "cell_type": "code",
   "execution_count": 2,
   "metadata": {},
   "outputs": [
    {
     "name": "stdout",
     "output_type": "stream",
     "text": [
      "Found 980 images belonging to 7 classes.\n"
     ]
    }
   ],
   "source": [
    "from keras.preprocessing.image import ImageDataGenerator\n",
    "test_dir =\"E:\\\\Datasets\\\\KDEF_and_AKDEF\\\\data\\\\test\"\n",
    "\n",
    "\n",
    "test_datagen = ImageDataGenerator(rescale=1./255)\n",
    "\n",
    "\n",
    "test_generator = test_datagen.flow_from_directory(\n",
    "    test_dir,\n",
    "    target_size = (224, 224),\n",
    "    batch_size=32\n",
    ")"
   ]
  },
  {
   "cell_type": "code",
   "execution_count": 3,
   "metadata": {},
   "outputs": [
    {
     "data": {
      "text/plain": [
       "[0.643635164697965, 0.91562500000000002]"
      ]
     },
     "execution_count": 3,
     "metadata": {},
     "output_type": "execute_result"
    }
   ],
   "source": [
    "model.evaluate_generator(test_generator, 30)"
   ]
  },
  {
   "cell_type": "code",
   "execution_count": 5,
   "metadata": {},
   "outputs": [
    {
     "data": {
      "text/plain": [
       "['loss', 'categorical_accuracy']"
      ]
     },
     "execution_count": 5,
     "metadata": {},
     "output_type": "execute_result"
    }
   ],
   "source": [
    "model.metrics_names"
   ]
  },
  {
   "cell_type": "code",
   "execution_count": 16,
   "metadata": {},
   "outputs": [],
   "source": [
    "result = [[0 for _ in range(7)] for _ in range(7)]\n",
    "\n",
    "for _ in range(30):\n",
    "    data, labels = test_generator.next()\n",
    "    labels = np.argmax(labels, axis=1)\n",
    "    \n",
    "    predictions = model.predict(data)\n",
    "    predictions = np.argmax(predictions, axis=1)\n",
    "    \n",
    "    for i in range(len(predictions)):\n",
    "        result[labels[i]][predictions[i]] += 1"
   ]
  },
  {
   "cell_type": "code",
   "execution_count": 17,
   "metadata": {},
   "outputs": [
    {
     "data": {
      "text/plain": [
       "[[112, 5, 1, 2, 2, 3, 14],\n",
       " [0, 133, 4, 0, 0, 0, 0],\n",
       " [2, 7, 124, 0, 0, 6, 0],\n",
       " [0, 1, 0, 133, 1, 0, 0],\n",
       " [0, 0, 0, 0, 133, 4, 0],\n",
       " [9, 2, 0, 0, 6, 117, 1],\n",
       " [8, 0, 0, 0, 1, 0, 129]]"
      ]
     },
     "execution_count": 17,
     "metadata": {},
     "output_type": "execute_result"
    }
   ],
   "source": [
    "result"
   ]
  },
  {
   "cell_type": "markdown",
   "metadata": {
    "collapsed": true
   },
   "source": [
    "# Analyzing effect of noise"
   ]
  },
  {
   "cell_type": "code",
   "execution_count": 69,
   "metadata": {},
   "outputs": [
    {
     "name": "stdout",
     "output_type": "stream",
     "text": [
      "Found 980 images belonging to 7 classes.\n"
     ]
    },
    {
     "data": {
      "text/plain": [
       "[0.60153162338150046, 0.91979166666666667]"
      ]
     },
     "execution_count": 69,
     "metadata": {},
     "output_type": "execute_result"
    }
   ],
   "source": [
    "from keras.preprocessing.image import ImageDataGenerator\n",
    "test_dir =\"E:\\\\Datasets\\\\KDEF_and_AKDEF\\\\data\\\\test\"\n",
    "\n",
    "\n",
    "test_datagen = ImageDataGenerator(rescale=1./255)\n",
    "\n",
    "\n",
    "test_generator = test_datagen.flow_from_directory(\n",
    "    test_dir,\n",
    "    target_size = (224, 224),\n",
    "    batch_size=32\n",
    ")\n",
    "\n",
    "model.evaluate_generator(test_generator, 30)"
   ]
  },
  {
   "cell_type": "code",
   "execution_count": 70,
   "metadata": {},
   "outputs": [
    {
     "name": "stdout",
     "output_type": "stream",
     "text": [
      "[109, 134, 125, 135, 132, 118, 128]\n",
      "[135, 138, 140, 137, 136, 136, 138]\n",
      "[80.74074074074075, 97.10144927536231, 89.28571428571429, 98.54014598540147, 97.05882352941177, 86.76470588235294, 92.7536231884058]\n"
     ]
    },
    {
     "data": {
      "image/png": "[encoded data removed]",
      "text/plain": [
       "<Figure size 432x288 with 1 Axes>"
      ]
     },
     "metadata": {},
     "output_type": "display_data"
    }
   ],
   "source": [
    "result = [0 for _ in range(7)]\n",
    "total = [0 for _ in range(7)]\n",
    "\n",
    "\n",
    "for _ in range(30):\n",
    "    data, labels = test_generator.next()\n",
    "    labels = np.argmax(labels, axis=1)\n",
    "    \n",
    "    predictions = model.predict(data)\n",
    "    predictions = np.argmax(predictions, axis=1)\n",
    "    \n",
    "    for i in range(len(predictions)):\n",
    "        if labels[i]==predictions[i]:\n",
    "            result[labels[i]] += 1\n",
    "        total[labels[i]] += 1\n",
    "\n",
    "print(result)\n",
    "print(total)\n",
    "for i in range(7):\n",
    "    result[i] = result[i] / total[i] * 100\n",
    "print(result)\n",
    "\n",
    "import numpy as np\n",
    "import matplotlib.pyplot as plt\n",
    "%matplotlib inline\n",
    "\n",
    "x = np.arange(7)\n",
    "\n",
    "\n",
    "fig, ax = plt.subplots()\n",
    "\n",
    "plt.bar(x, result)\n",
    "plt.xticks(x, (\"AF\",\"AN\",\"DI\",\"HA\",\"NE\", \"SA\",\"SU\"))\n",
    "\n",
    "for i, v in enumerate(result):\n",
    "    ax.text(i-.35, v+1, \"{0:.1f}\".format(v)+'%', color='red', fontweight='bold')\n",
    "\n",
    "plt.show()"
   ]
  },
  {
   "cell_type": "markdown",
   "metadata": {},
   "source": [
    "## Salt and peper"
   ]
  },
  {
   "cell_type": "code",
   "execution_count": 66,
   "metadata": {},
   "outputs": [
    {
     "name": "stdout",
     "output_type": "stream",
     "text": [
      "Found 980 images belonging to 7 classes.\n",
      "[0.86717170329793591, 0.88437500000000002]\n",
      "[106, 137, 114, 130, 122, 116, 124]\n",
      "[136, 140, 138, 136, 136, 136, 138]\n",
      "[77.94117647058823, 97.85714285714285, 82.6086956521739, 95.58823529411765, 89.70588235294117, 85.29411764705883, 89.85507246376811]\n"
     ]
    },
    {
     "data": {
      "image/png": "[encoded data removed]",
      "text/plain": [
       "<Figure size 432x288 with 1 Axes>"
      ]
     },
     "metadata": {},
     "output_type": "display_data"
    }
   ],
   "source": [
    "from keras.preprocessing.image import ImageDataGenerator\n",
    "test_dir =\"E:\\\\Datasets\\\\KDEF_and_AKDEF\\\\data\\\\s&p\"\n",
    "\n",
    "\n",
    "test_datagen = ImageDataGenerator(rescale=1./255)\n",
    "\n",
    "\n",
    "test_generator = test_datagen.flow_from_directory(\n",
    "    test_dir,\n",
    "    target_size = (224, 224),\n",
    "    batch_size=32\n",
    ")\n",
    "\n",
    "print(model.evaluate_generator(test_generator, 30))\n",
    "\n",
    "result = [0 for _ in range(7)]\n",
    "total = [0 for _ in range(7)]\n",
    "\n",
    "\n",
    "for _ in range(30):\n",
    "    data, labels = test_generator.next()\n",
    "    labels = np.argmax(labels, axis=1)\n",
    "    \n",
    "    predictions = model.predict(data)\n",
    "    predictions = np.argmax(predictions, axis=1)\n",
    "    \n",
    "    for i in range(len(predictions)):\n",
    "        if labels[i]==predictions[i]:\n",
    "            result[labels[i]] += 1\n",
    "        total[labels[i]] += 1\n",
    "\n",
    "print(result)\n",
    "print(total)\n",
    "for i in range(7):\n",
    "    result[i] = result[i] / total[i] * 100\n",
    "print(result)\n",
    "\n",
    "import numpy as np\n",
    "import matplotlib.pyplot as plt\n",
    "%matplotlib inline\n",
    "\n",
    "x = np.arange(7)\n",
    "\n",
    "\n",
    "fig, ax = plt.subplots()\n",
    "\n",
    "plt.bar(x, result)\n",
    "plt.xticks(x, (\"AF\",\"AN\",\"DI\",\"HA\",\"NE\", \"SA\",\"SU\"))\n",
    "\n",
    "for i, v in enumerate(result):\n",
    "    ax.text(i-.35, v+1, \"{0:.1f}\".format(v)+'%', color='red', fontweight='bold')\n",
    "\n",
    "plt.show()"
   ]
  },
  {
   "cell_type": "markdown",
   "metadata": {},
   "source": [
    "## Gauss"
   ]
  },
  {
   "cell_type": "code",
   "execution_count": 67,
   "metadata": {},
   "outputs": [
    {
     "name": "stdout",
     "output_type": "stream",
     "text": [
      "Found 980 images belonging to 7 classes.\n",
      "[0.63499110483874877, 0.91666666666666663]\n",
      "[112, 135, 121, 135, 133, 118, 127]\n",
      "[138, 139, 135, 137, 136, 137, 138]\n",
      "[81.15942028985508, 97.12230215827337, 89.62962962962962, 98.54014598540147, 97.79411764705883, 86.13138686131386, 92.02898550724638]\n"
     ]
    },
    {
     "data": {
      "image/png": "[encoded data removed]",
      "text/plain": [
       "<Figure size 432x288 with 1 Axes>"
      ]
     },
     "metadata": {},
     "output_type": "display_data"
    }
   ],
   "source": [
    "from keras.preprocessing.image import ImageDataGenerator\n",
    "test_dir =\"E:\\\\Datasets\\\\KDEF_and_AKDEF\\\\data\\\\gauss\"\n",
    "\n",
    "\n",
    "test_datagen = ImageDataGenerator(rescale=1./255)\n",
    "\n",
    "\n",
    "test_generator = test_datagen.flow_from_directory(\n",
    "    test_dir,\n",
    "    target_size = (224, 224),\n",
    "    batch_size=32\n",
    ")\n",
    "\n",
    "print(model.evaluate_generator(test_generator, 30))\n",
    "\n",
    "result = [0 for _ in range(7)]\n",
    "total = [0 for _ in range(7)]\n",
    "\n",
    "\n",
    "for _ in range(30):\n",
    "    data, labels = test_generator.next()\n",
    "    labels = np.argmax(labels, axis=1)\n",
    "    \n",
    "    predictions = model.predict(data)\n",
    "    predictions = np.argmax(predictions, axis=1)\n",
    "    \n",
    "    for i in range(len(predictions)):\n",
    "        if labels[i]==predictions[i]:\n",
    "            result[labels[i]] += 1\n",
    "        total[labels[i]] += 1\n",
    "\n",
    "print(result)\n",
    "print(total)\n",
    "for i in range(7):\n",
    "    result[i] = result[i] / total[i] * 100\n",
    "print(result)\n",
    "\n",
    "import numpy as np\n",
    "import matplotlib.pyplot as plt\n",
    "%matplotlib inline\n",
    "\n",
    "x = np.arange(7)\n",
    "\n",
    "\n",
    "fig, ax = plt.subplots()\n",
    "\n",
    "plt.bar(x, result)\n",
    "plt.xticks(x, (\"AF\",\"AN\",\"DI\",\"HA\",\"NE\", \"SA\",\"SU\"))\n",
    "\n",
    "for i, v in enumerate(result):\n",
    "    ax.text(i-.35, v+1, \"{0:.1f}\".format(v)+'%', color='red', fontweight='bold')\n",
    "\n",
    "plt.show()"
   ]
  },
  {
   "cell_type": "markdown",
   "metadata": {},
   "source": [
    "## speckle"
   ]
  },
  {
   "cell_type": "code",
   "execution_count": 68,
   "metadata": {},
   "outputs": [
    {
     "name": "stdout",
     "output_type": "stream",
     "text": [
      "Found 980 images belonging to 7 classes.\n",
      "[5.9852940082550052, 0.23229166666666667]\n",
      "[9, 98, 57, 5, 5, 52, 0]\n",
      "[134, 134, 139, 137, 138, 140, 138]\n",
      "[6.7164179104477615, 73.13432835820896, 41.007194244604314, 3.64963503649635, 3.6231884057971016, 37.142857142857146, 0.0]\n"
     ]
    },
    {
     "data": {
      "image/png": "[encoded data removed]",
      "text/plain": [
       "<Figure size 432x288 with 1 Axes>"
      ]
     },
     "metadata": {},
     "output_type": "display_data"
    }
   ],
   "source": [
    "from keras.preprocessing.image import ImageDataGenerator\n",
    "test_dir =\"E:\\\\Datasets\\\\KDEF_and_AKDEF\\\\data\\\\speckle\"\n",
    "\n",
    "\n",
    "test_datagen = ImageDataGenerator(rescale=1./255)\n",
    "\n",
    "\n",
    "test_generator = test_datagen.flow_from_directory(\n",
    "    test_dir,\n",
    "    target_size = (224, 224),\n",
    "    batch_size=32\n",
    ")\n",
    "\n",
    "print(model.evaluate_generator(test_generator, 30))\n",
    "\n",
    "result = [0 for _ in range(7)]\n",
    "total = [0 for _ in range(7)]\n",
    "\n",
    "\n",
    "for _ in range(30):\n",
    "    data, labels = test_generator.next()\n",
    "    labels = np.argmax(labels, axis=1)\n",
    "    \n",
    "    predictions = model.predict(data)\n",
    "    predictions = np.argmax(predictions, axis=1)\n",
    "    \n",
    "    for i in range(len(predictions)):\n",
    "        if labels[i]==predictions[i]:\n",
    "            result[labels[i]] += 1\n",
    "        total[labels[i]] += 1\n",
    "\n",
    "print(result)\n",
    "print(total)\n",
    "for i in range(7):\n",
    "    result[i] = result[i] / total[i] * 100\n",
    "print(result)\n",
    "\n",
    "import numpy as np\n",
    "import matplotlib.pyplot as plt\n",
    "%matplotlib inline\n",
    "\n",
    "x = np.arange(7)\n",
    "\n",
    "\n",
    "fig, ax = plt.subplots()\n",
    "\n",
    "plt.bar(x, result)\n",
    "plt.xticks(x, (\"AF\",\"AN\",\"DI\",\"HA\",\"NE\", \"SA\",\"SU\"))\n",
    "\n",
    "for i, v in enumerate(result):\n",
    "    ax.text(i-.35, v+1, \"{0:.1f}\".format(v)+'%', color='red', fontweight='bold')\n",
    "\n",
    "plt.show()"
   ]
  },
  {
   "cell_type": "code",
   "execution_count": null,
   "metadata": {},
   "outputs": [],
   "source": []
  }
 ],
 "metadata": {
  "accelerator": "GPU",
  "anaconda-cloud": {},
  "colab": {
   "collapsed_sections": [],
   "default_view": {},
   "name": "Emotion_detection.ipynb",
   "provenance": [],
   "version": "0.3.2",
   "views": {}
  },
  "kernelspec": {
   "display_name": "Python 3",
   "language": "python",
   "name": "python3"
  },
  "language_info": {
   "codemirror_mode": {
    "name": "ipython",
    "version": 3
   },
   "file_extension": ".py",
   "mimetype": "text/x-python",
   "name": "python",
   "nbconvert_exporter": "python",
   "pygments_lexer": "ipython3",
   "version": "3.6.5"
  }
 },
 "nbformat": 4,
 "nbformat_minor": 1
}
